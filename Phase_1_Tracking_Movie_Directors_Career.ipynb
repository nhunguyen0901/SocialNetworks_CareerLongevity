{
 "cells": [
  {
   "cell_type": "markdown",
   "metadata": {},
   "source": [
    "# Tracing career histories of film directors from IMDb data\n",
    "*Julie Nguyen, PhD candidate in Management (Organizational Behavior), McGill University*\n",
    "\n",
    "Welcome to our journey through the world of film, where we aim to unravel the mysteries behind the careers of movie directors! This notebook details the first steps towards understanding if and how connections with network brokers might enable women movie directors to enjoy longer and more impactful careers, and how these effects compare with their men counterparts. At this stage, our goal is to construct  a unique dataset of first-time movie directors and collecting data on their career trajectories using IMDb's data. For this task, we'll use pandas and matplotlib for data manipulation and visualization.\n",
    "\n",
    "This notebook is divided into three parts:\n",
    "\n",
    "1. Building a movie database\n",
    "\n",
    "We begin by creating a comprehensive dataset of movies released from 2000 to 2023. This dataset will be the backbone for constructing dynamic collaboration networks of filmmakers, with each snapshot of the network capturing their collaboration ties within every three-year period.\n",
    "\n",
    "2. Identifying first-time directors\n",
    "\n",
    "Next, we zoom in on directors who made their debut from 2003 to 2013. We'll compile their filmographies up to 2023. This way, we ensure that we have at least a decade's view into each director's journey.\n",
    "\n",
    "3. Examining directors' career before and after their debut\n",
    "\n",
    "Lastly, we delve deeper into the pre- and post-debut career paths of these directors. Specifically, we count the number of movies they went on to direct after their debut. We'll also examine their industry involvement before becoming directors. This gives us a sense of how prior experiences in different filmmaking roles may shape their directorial paths.\n",
    "\n",
    "These analyses lays the ground work for the second phase: calculating the levels of brokerage social capital of our directors and their collaborators over time."
   ]
  },
  {
   "cell_type": "markdown",
   "metadata": {},
   "source": [
    "# Acquiring movie data from 2000 to 2023 \n",
    "\n",
    "In this section of the notebook, we gather data on movies released between 2000 and 2023. This data will later be used to construct an evolving collaboration network of film-makers, where each snapshot of the network encapsulates all collaboration ties over a span of three years.\n",
    "\n",
    "We begin by importing essential Python libraries for data handling and visualization. The IMDb datasets, `title.basics` and `title.principals`, are then accessed directly from their URLs. These datasets contain comprehensive information about movies and their key personnel."
   ]
  },
  {
   "cell_type": "code",
   "execution_count": 1,
   "metadata": {},
   "outputs": [],
   "source": [
    "# Importing essential libraries\n",
    "import pandas as pd\n",
    "import matplotlib.pyplot as plt\n",
    "import os \n",
    "\n",
    "# set wd\n",
    "os.chdir('/Users/mac/Library/CloudStorage/OneDrive-McGillUniversity/Work/Projects/Gender and brokerage/WomenLeaders_SocialNetworks')"
   ]
  },
  {
   "cell_type": "code",
   "execution_count": 8,
   "metadata": {},
   "outputs": [],
   "source": [
    "# URLs of the IMDb data files\n",
    "url_basics = 'https://datasets.imdbws.com/title.basics.tsv.gz'\n",
    "url_principals = 'https://datasets.imdbws.com/title.principals.tsv.gz'\n",
    "\n",
    "# Reading the TSV file directly from the URL in 28 Jan 2024\n",
    "# 'sep' is set to '\\t' for tab-separated values\n",
    "# 'compression' parameter handles the gzip compression\n",
    "# 'encoding' is set to 'utf-8' for proper character encoding\n",
    "# 'low_memory=False' allows pandas to process large files without chunking\n",
    "df_basics = pd.read_csv(url_basics, sep='\\t', compression='gzip', encoding='utf-8', low_memory=False)\n",
    "df_principals = pd.read_csv(url_principals, sep='\\t', compression='gzip', encoding='utf-8', low_memory=False)"
   ]
  },
  {
   "cell_type": "markdown",
   "metadata": {},
   "source": [
    "With the `title.basics` dataset loaded, let's take a look at its first few rows to get an overview of its structure. We can also do a basic count to understand the distribution of different types of productions. "
   ]
  },
  {
   "cell_type": "code",
   "execution_count": 40,
   "metadata": {},
   "outputs": [
    {
     "data": {
      "text/html": [
       "<div>\n",
       "<style scoped>\n",
       "    .dataframe tbody tr th:only-of-type {\n",
       "        vertical-align: middle;\n",
       "    }\n",
       "\n",
       "    .dataframe tbody tr th {\n",
       "        vertical-align: top;\n",
       "    }\n",
       "\n",
       "    .dataframe thead th {\n",
       "        text-align: right;\n",
       "    }\n",
       "</style>\n",
       "<table border=\"1\" class=\"dataframe\">\n",
       "  <thead>\n",
       "    <tr style=\"text-align: right;\">\n",
       "      <th></th>\n",
       "      <th>tconst</th>\n",
       "      <th>titleType</th>\n",
       "      <th>primaryTitle</th>\n",
       "      <th>originalTitle</th>\n",
       "      <th>isAdult</th>\n",
       "      <th>startYear</th>\n",
       "      <th>endYear</th>\n",
       "      <th>runtimeMinutes</th>\n",
       "      <th>genres</th>\n",
       "    </tr>\n",
       "  </thead>\n",
       "  <tbody>\n",
       "    <tr>\n",
       "      <th>0</th>\n",
       "      <td>tt0000001</td>\n",
       "      <td>short</td>\n",
       "      <td>Carmencita</td>\n",
       "      <td>Carmencita</td>\n",
       "      <td>0</td>\n",
       "      <td>1894.0</td>\n",
       "      <td>\\N</td>\n",
       "      <td>1</td>\n",
       "      <td>Documentary,Short</td>\n",
       "    </tr>\n",
       "    <tr>\n",
       "      <th>1</th>\n",
       "      <td>tt0000002</td>\n",
       "      <td>short</td>\n",
       "      <td>Le clown et ses chiens</td>\n",
       "      <td>Le clown et ses chiens</td>\n",
       "      <td>0</td>\n",
       "      <td>1892.0</td>\n",
       "      <td>\\N</td>\n",
       "      <td>5</td>\n",
       "      <td>Animation,Short</td>\n",
       "    </tr>\n",
       "    <tr>\n",
       "      <th>2</th>\n",
       "      <td>tt0000003</td>\n",
       "      <td>short</td>\n",
       "      <td>Pauvre Pierrot</td>\n",
       "      <td>Pauvre Pierrot</td>\n",
       "      <td>0</td>\n",
       "      <td>1892.0</td>\n",
       "      <td>\\N</td>\n",
       "      <td>4</td>\n",
       "      <td>Animation,Comedy,Romance</td>\n",
       "    </tr>\n",
       "    <tr>\n",
       "      <th>3</th>\n",
       "      <td>tt0000004</td>\n",
       "      <td>short</td>\n",
       "      <td>Un bon bock</td>\n",
       "      <td>Un bon bock</td>\n",
       "      <td>0</td>\n",
       "      <td>1892.0</td>\n",
       "      <td>\\N</td>\n",
       "      <td>12</td>\n",
       "      <td>Animation,Short</td>\n",
       "    </tr>\n",
       "    <tr>\n",
       "      <th>4</th>\n",
       "      <td>tt0000005</td>\n",
       "      <td>short</td>\n",
       "      <td>Blacksmith Scene</td>\n",
       "      <td>Blacksmith Scene</td>\n",
       "      <td>0</td>\n",
       "      <td>1893.0</td>\n",
       "      <td>\\N</td>\n",
       "      <td>1</td>\n",
       "      <td>Comedy,Short</td>\n",
       "    </tr>\n",
       "  </tbody>\n",
       "</table>\n",
       "</div>"
      ],
      "text/plain": [
       "      tconst titleType            primaryTitle           originalTitle  \\\n",
       "0  tt0000001     short              Carmencita              Carmencita   \n",
       "1  tt0000002     short  Le clown et ses chiens  Le clown et ses chiens   \n",
       "2  tt0000003     short          Pauvre Pierrot          Pauvre Pierrot   \n",
       "3  tt0000004     short             Un bon bock             Un bon bock   \n",
       "4  tt0000005     short        Blacksmith Scene        Blacksmith Scene   \n",
       "\n",
       "  isAdult  startYear endYear runtimeMinutes                    genres  \n",
       "0       0     1894.0      \\N              1         Documentary,Short  \n",
       "1       0     1892.0      \\N              5           Animation,Short  \n",
       "2       0     1892.0      \\N              4  Animation,Comedy,Romance  \n",
       "3       0     1892.0      \\N             12           Animation,Short  \n",
       "4       0     1893.0      \\N              1              Comedy,Short  "
      ]
     },
     "execution_count": 40,
     "metadata": {},
     "output_type": "execute_result"
    }
   ],
   "source": [
    "# Displaying the first few rows of the 'df_basics' DataFrame to get an overview of the data structure\n",
    "df_basics.head()"
   ]
  },
  {
   "cell_type": "code",
   "execution_count": 41,
   "metadata": {},
   "outputs": [
    {
     "data": {
      "text/plain": [
       "{'titleType': titleType\n",
       " tvEpisode       8042282\n",
       " short            974875\n",
       " movie            669892\n",
       " video            287189\n",
       " tvSeries         256237\n",
       " tvMovie          144193\n",
       " tvMiniSeries      52188\n",
       " tvSpecial         45647\n",
       " videoGame         37276\n",
       " tvShort           10240\n",
       " tvPilot               1\n",
       " Name: count, dtype: int64,\n",
       " 'isAdult': isAdult\n",
       " 0       10185807\n",
       " 1         334195\n",
       " 2023           6\n",
       " 2019           3\n",
       " 2020           2\n",
       " 1981           1\n",
       " 2017           1\n",
       " \\N             1\n",
       " 2022           1\n",
       " 2011           1\n",
       " 2014           1\n",
       " 2005           1\n",
       " Name: count, dtype: int64}"
      ]
     },
     "execution_count": 41,
     "metadata": {},
     "output_type": "execute_result"
    }
   ],
   "source": [
    "# Counting the values in 'titleType' and 'isAdult' columns to understand their distribution in the dataset\n",
    "{col: df_basics[col].value_counts() for col in ['titleType', 'isAdult']}"
   ]
  },
  {
   "cell_type": "markdown",
   "metadata": {},
   "source": [
    "The data includes both movies and tv shows (indicated in `titleType`) and indicates for whether these are pornographic productions (`isAdult`). Now, let's identify movies released between 2000 and 2023 and take a look at how many movies we have in the data. "
   ]
  },
  {
   "cell_type": "code",
   "execution_count": 9,
   "metadata": {},
   "outputs": [
    {
     "data": {
      "text/plain": [
       "tconst       563624\n",
       "startYear       135\n",
       "genres         1338\n",
       "dtype: int64"
      ]
     },
     "execution_count": 9,
     "metadata": {},
     "output_type": "execute_result"
    }
   ],
   "source": [
    "# Convert 'startYear' column to numeric, errors='coerce' sets unparsable entries as NaN (Not a Number)\n",
    "df_basics['startYear'] = pd.to_numeric(df_basics['startYear'], errors='coerce')\n",
    "\n",
    "# Filtering the 'df_basics' DataFrame to include only non-adult movies with a valid start year\n",
    "# 'query' function is used to filter rows where titleType is 'movie', isAdult is '0' (non-adult),\n",
    "# and startYear is not NaN (ensured by 'startYear == startYear')\n",
    "# 'filter' function selects revelant columns only\n",
    "movies = (df_basics\n",
    "          .query('titleType == \"movie\" & isAdult == \"0\" & startYear == startYear') \n",
    "          .filter(items=['tconst', 'startYear', 'genres'])  \n",
    "          )\n",
    "\n",
    "# Displaying the number of unique values in each column of the 'movies' DataFrame\n",
    "movies.nunique()"
   ]
  },
  {
   "cell_type": "markdown",
   "metadata": {},
   "source": [
    "As of the time of this analysis (Jan 29, 2024), the data includes 563,624 non-pornographic movies spaning 135 years. What are the earlies and latest year we have in the data?"
   ]
  },
  {
   "cell_type": "code",
   "execution_count": 10,
   "metadata": {},
   "outputs": [
    {
     "name": "stdout",
     "output_type": "stream",
     "text": [
      "Earliest Year: 1894.0\n",
      "Latest Year: 2031.0\n"
     ]
    }
   ],
   "source": [
    "# Finding and printing the earliest and latest years in the 'movies' DataFrame\n",
    "print(\"Earliest Year:\", movies['startYear'].min())\n",
    "print(\"Latest Year:\", movies['startYear'].max())"
   ]
  },
  {
   "cell_type": "markdown",
   "metadata": {},
   "source": [
    "The earliest year we have data on is 1894 and the latest year 2031. Seems like IMDb also has info on movies that have not been released yet. Let’s remove these future movies and graph the number of movies in the database over time."
   ]
  },
  {
   "cell_type": "code",
   "execution_count": null,
   "metadata": {},
   "outputs": [],
   "source": [
    "# Filter out movies released after 2023\n",
    "movies = movies[movies['startYear'] <= 2023]"
   ]
  },
  {
   "cell_type": "code",
   "execution_count": 74,
   "metadata": {},
   "outputs": [
    {
     "data": {
      "image/png": "[encoded data removed]",
      "text/plain": [
       "<Figure size 1200x600 with 1 Axes>"
      ]
     },
     "metadata": {},
     "output_type": "display_data"
    }
   ],
   "source": [
    "# Group by 'startYear' and count the number of movies\n",
    "movies_per_year = movies.groupby('startYear').size()\n",
    "\n",
    "# Plotting the number of movies over time as a bar chart\n",
    "plt.figure(figsize=(12,6))\n",
    "movies_per_year.plot(kind='bar', color='#8BD8BD')\n",
    "plt.title('Number of Movies in IMDb Database Over Time')\n",
    "plt.xlabel('Year')\n",
    "plt.ylabel('Number of Movies')\n",
    "plt.xticks(range(0, len(movies_per_year), 25), labels=movies_per_year.index[::25]) # Adjust x-axis to show labels for every 25 years\n",
    "plt.grid(True, color='#D3D3D3')  # Adding light grey grid lines for better readability\n",
    "plt.show()\n"
   ]
  },
  {
   "cell_type": "markdown",
   "metadata": {},
   "source": [
    "A lot more movies are made in the 21st century than previous centuries. This is probably due to advancements in technology, increased access to filmmaking tools, and the growth of digital distribution platforms, making it easier than ever to produce and share movies. Now, let's filter our dataset to include only movies released between 2000 and 2023 and see how many movies we have. "
   ]
  },
  {
   "cell_type": "code",
   "execution_count": 30,
   "metadata": {},
   "outputs": [
    {
     "data": {
      "text/html": [
       "<div>\n",
       "<style scoped>\n",
       "    .dataframe tbody tr th:only-of-type {\n",
       "        vertical-align: middle;\n",
       "    }\n",
       "\n",
       "    .dataframe tbody tr th {\n",
       "        vertical-align: top;\n",
       "    }\n",
       "\n",
       "    .dataframe thead th {\n",
       "        text-align: right;\n",
       "    }\n",
       "</style>\n",
       "<table border=\"1\" class=\"dataframe\">\n",
       "  <thead>\n",
       "    <tr style=\"text-align: right;\">\n",
       "      <th></th>\n",
       "      <th>tconst</th>\n",
       "      <th>startYear</th>\n",
       "      <th>genres</th>\n",
       "    </tr>\n",
       "  </thead>\n",
       "  <tbody>\n",
       "    <tr>\n",
       "      <th>11634</th>\n",
       "      <td>tt0011801</td>\n",
       "      <td>2019.0</td>\n",
       "      <td>Action,Crime</td>\n",
       "    </tr>\n",
       "    <tr>\n",
       "      <th>13079</th>\n",
       "      <td>tt0013274</td>\n",
       "      <td>2021.0</td>\n",
       "      <td>Documentary</td>\n",
       "    </tr>\n",
       "    <tr>\n",
       "      <th>15174</th>\n",
       "      <td>tt0015414</td>\n",
       "      <td>2000.0</td>\n",
       "      <td>\\N</td>\n",
       "    </tr>\n",
       "    <tr>\n",
       "      <th>27745</th>\n",
       "      <td>tt0028248</td>\n",
       "      <td>2022.0</td>\n",
       "      <td>Musical</td>\n",
       "    </tr>\n",
       "    <tr>\n",
       "      <th>34798</th>\n",
       "      <td>tt0035423</td>\n",
       "      <td>2001.0</td>\n",
       "      <td>Comedy,Fantasy,Romance</td>\n",
       "    </tr>\n",
       "  </tbody>\n",
       "</table>\n",
       "</div>"
      ],
      "text/plain": [
       "          tconst  startYear                  genres\n",
       "11634  tt0011801     2019.0            Action,Crime\n",
       "13079  tt0013274     2021.0             Documentary\n",
       "15174  tt0015414     2000.0                      \\N\n",
       "27745  tt0028248     2022.0                 Musical\n",
       "34798  tt0035423     2001.0  Comedy,Fantasy,Romance"
      ]
     },
     "execution_count": 30,
     "metadata": {},
     "output_type": "execute_result"
    }
   ],
   "source": [
    "# Filtering the 'movies' DataFrame to include only movies from the year 2000 to 2023\n",
    "movies_2000_2023 = movies[(movies['startYear'] >= 2000) & (movies['startYear'] <= 2023)]\n",
    "\n",
    "# Displaying the first few rows of the 'movies_2000_2023' DataFrame\n",
    "movies_2000_2023.head()"
   ]
  },
  {
   "cell_type": "code",
   "execution_count": 31,
   "metadata": {},
   "outputs": [
    {
     "data": {
      "text/plain": [
       "tconst       313675\n",
       "startYear        24\n",
       "genres         1192\n",
       "dtype: int64"
      ]
     },
     "execution_count": 31,
     "metadata": {},
     "output_type": "execute_result"
    }
   ],
   "source": [
    "# Counting the number of unique values in each column of the 'movies_2000_onward' DataFrame\n",
    "movies_2000_2023.nunique()"
   ]
  },
  {
   "cell_type": "markdown",
   "metadata": {},
   "source": [
    "We now have 313,675 movies made between 2000 and 2023, with information on each movie's ID (`tconst`), release year (`startYear`), and genres (`genres`). Before moving on to the next stage of analysis, we save this dataset to a CSV file so that we can use it later to construct a dynamic collaboration network among film-makers from 2000 to 2023. "
   ]
  },
  {
   "cell_type": "code",
   "execution_count": 32,
   "metadata": {},
   "outputs": [],
   "source": [
    "# Saving the DataFrame to a CSV file for future use\n",
    "# 'index=False' omits the index column in the saved file\n",
    "movies_2000_2023.to_csv('movies_2000_2023.csv', index=False)"
   ]
  },
  {
   "cell_type": "markdown",
   "metadata": {},
   "source": [
    "# Identifying first-time directors and tracking full filmography \n",
    "\n",
    "In this section, we identify directors who made their directorial debut between 2003 and 2013. And then, we gather data on the movies they directed throughout their career.\n",
    "\n",
    "Let's start by examining the `df_principals` DataFrame, which contains information on key personnel involved in each movie. Let's also take a quick look at the `category` to understand the different roles present in the dataset."
   ]
  },
  {
   "cell_type": "code",
   "execution_count": 42,
   "metadata": {},
   "outputs": [
    {
     "data": {
      "text/html": [
       "<div>\n",
       "<style scoped>\n",
       "    .dataframe tbody tr th:only-of-type {\n",
       "        vertical-align: middle;\n",
       "    }\n",
       "\n",
       "    .dataframe tbody tr th {\n",
       "        vertical-align: top;\n",
       "    }\n",
       "\n",
       "    .dataframe thead th {\n",
       "        text-align: right;\n",
       "    }\n",
       "</style>\n",
       "<table border=\"1\" class=\"dataframe\">\n",
       "  <thead>\n",
       "    <tr style=\"text-align: right;\">\n",
       "      <th></th>\n",
       "      <th>tconst</th>\n",
       "      <th>ordering</th>\n",
       "      <th>nconst</th>\n",
       "      <th>category</th>\n",
       "      <th>job</th>\n",
       "      <th>characters</th>\n",
       "    </tr>\n",
       "  </thead>\n",
       "  <tbody>\n",
       "    <tr>\n",
       "      <th>0</th>\n",
       "      <td>tt0000001</td>\n",
       "      <td>1</td>\n",
       "      <td>nm1588970</td>\n",
       "      <td>self</td>\n",
       "      <td>\\N</td>\n",
       "      <td>[\"Self\"]</td>\n",
       "    </tr>\n",
       "    <tr>\n",
       "      <th>1</th>\n",
       "      <td>tt0000001</td>\n",
       "      <td>2</td>\n",
       "      <td>nm0005690</td>\n",
       "      <td>director</td>\n",
       "      <td>\\N</td>\n",
       "      <td>\\N</td>\n",
       "    </tr>\n",
       "    <tr>\n",
       "      <th>2</th>\n",
       "      <td>tt0000001</td>\n",
       "      <td>3</td>\n",
       "      <td>nm0374658</td>\n",
       "      <td>cinematographer</td>\n",
       "      <td>director of photography</td>\n",
       "      <td>\\N</td>\n",
       "    </tr>\n",
       "    <tr>\n",
       "      <th>3</th>\n",
       "      <td>tt0000002</td>\n",
       "      <td>1</td>\n",
       "      <td>nm0721526</td>\n",
       "      <td>director</td>\n",
       "      <td>\\N</td>\n",
       "      <td>\\N</td>\n",
       "    </tr>\n",
       "    <tr>\n",
       "      <th>4</th>\n",
       "      <td>tt0000002</td>\n",
       "      <td>2</td>\n",
       "      <td>nm1335271</td>\n",
       "      <td>composer</td>\n",
       "      <td>\\N</td>\n",
       "      <td>\\N</td>\n",
       "    </tr>\n",
       "  </tbody>\n",
       "</table>\n",
       "</div>"
      ],
      "text/plain": [
       "      tconst  ordering     nconst         category                      job  \\\n",
       "0  tt0000001         1  nm1588970             self                       \\N   \n",
       "1  tt0000001         2  nm0005690         director                       \\N   \n",
       "2  tt0000001         3  nm0374658  cinematographer  director of photography   \n",
       "3  tt0000002         1  nm0721526         director                       \\N   \n",
       "4  tt0000002         2  nm1335271         composer                       \\N   \n",
       "\n",
       "  characters  \n",
       "0   [\"Self\"]  \n",
       "1         \\N  \n",
       "2         \\N  \n",
       "3         \\N  \n",
       "4         \\N  "
      ]
     },
     "execution_count": 42,
     "metadata": {},
     "output_type": "execute_result"
    }
   ],
   "source": [
    "# Displaying the first few rows of the 'df_principals' DataFrame to examine its structure\n",
    "df_principals.head()"
   ]
  },
  {
   "cell_type": "code",
   "execution_count": 43,
   "metadata": {},
   "outputs": [
    {
     "data": {
      "text/plain": [
       "category\n",
       "actor                  13322849\n",
       "self                   10448069\n",
       "actress                10392402\n",
       "writer                  8435856\n",
       "director                6951076\n",
       "producer                3917208\n",
       "cinematographer         2050878\n",
       "editor                  1996902\n",
       "composer                1996779\n",
       "archive_footage          397891\n",
       "production_designer      381792\n",
       "archive_sound              4516\n",
       "Name: count, dtype: int64"
      ]
     },
     "execution_count": 43,
     "metadata": {},
     "output_type": "execute_result"
    }
   ],
   "source": [
    "# Counting and displaying the frequency of each role (category) in the 'df_principals' DataFrame\n",
    "df_principals['category'].value_counts()"
   ]
  },
  {
   "cell_type": "markdown",
   "metadata": {},
   "source": [
    "The data includes information on who (`nconst`) worked on which movie (`tconst`) in which capacity (`category`). Since the aim of the project is to examine the effects of networks for individuals in leadership positions, we filter the DataFrame to include only directors, who shape the artistic and creative vision of a movie.\n",
    "\n",
    "Our next step is to identify directors whose first movie was released between 2003 and 2013. With this sample of first-time directors, we then create a DataFrame called `directors_full_filmography` that contains all movies directed by these first-time directors. "
   ]
  },
  {
   "cell_type": "code",
   "execution_count": 37,
   "metadata": {},
   "outputs": [],
   "source": [
    "# Filter 'df_principals' to include only entries where the category is 'director'\n",
    "# This isolates directors from the principals data\n",
    "directors = df_principals[df_principals['category'] == 'director']\n",
    "\n",
    "# Merge the 'movies' DataFrame with the 'directors' DataFrame based on the 'tconst' field, \n",
    "# This links directors to the movies they directed\n",
    "directors = movies.merge(directors[['tconst', 'nconst']], on='tconst', how='inner')\n",
    "\n",
    "# Find the first movie for each director\n",
    "# Group by director ('nconst') and aggregates the 'startYear' column to find the minimum year, i.e., the director's debut year\n",
    "directors_first_movies = directors.groupby('nconst').agg({'startYear': 'min'}).reset_index()\n",
    "\n",
    "# Rename the 'startYear' column to 'firstYear' to denote it as the year of the director's first movie\n",
    "directors_first_movies = directors_first_movies.rename(columns={'startYear': 'firstYear'})\n",
    "\n",
    "# Filter the results to include only directors whose first movie was released between 2003 and 2013\n",
    "debut_directors_2003_2013 = directors_first_movies[(directors_first_movies['firstYear'] >= 2003) & (directors_first_movies['firstYear'] <= 2013)]\n",
    "\n",
    "# Compiling the full filmography of these directors by filtering the 'directors' data \n",
    "# to include only movies directed by the identified first-time directors\n",
    "directors_full_filmography = directors[directors['nconst'].isin(debut_directors_2003_2013['nconst'])]\n",
    "\n",
    "# Merge with 'debut_directors_2003_2013' to include the first year of directing\n",
    "directors_full_filmography = directors_full_filmography.merge(debut_directors_2003_2013, on='nconst', how='left')"
   ]
  },
  {
   "cell_type": "markdown",
   "metadata": {},
   "source": [
    "Let's see how many directors we have in our data."
   ]
  },
  {
   "cell_type": "code",
   "execution_count": 55,
   "metadata": {},
   "outputs": [
    {
     "data": {
      "text/plain": [
       "tconst       115413\n",
       "startYear        21\n",
       "genres          948\n",
       "nconst        63169\n",
       "firstYear        11\n",
       "dtype: int64"
      ]
     },
     "execution_count": 55,
     "metadata": {},
     "output_type": "execute_result"
    }
   ],
   "source": [
    "# Displaying the unique counts in the 'directors_full_filmography' DataFrame for an overview\n",
    "directors_full_filmography.nunique()"
   ]
  },
  {
   "cell_type": "markdown",
   "metadata": {},
   "source": [
    "Our sample includes 63,169 directors. Let's count the number of movies each director made in their debut year."
   ]
  },
  {
   "cell_type": "code",
   "execution_count": 22,
   "metadata": {},
   "outputs": [
    {
     "data": {
      "text/plain": [
       "1    61775\n",
       "2     1276\n",
       "3       83\n",
       "4       22\n",
       "5        7\n",
       "6        3\n",
       "7        2\n",
       "Name: count, dtype: int64"
      ]
     },
     "execution_count": 22,
     "metadata": {},
     "output_type": "execute_result"
    }
   ],
   "source": [
    "# Count Movies Directed by the Directors in Their First Year\n",
    "\n",
    "# Filter 'directors_full_filmography' to keep only movies directed in the director's first year\n",
    "first_year_movies = directors_full_filmography[directors_full_filmography['startYear'] == directors_full_filmography['firstYear']]\n",
    "\n",
    "# Group by director ('nconst') and counting the number of movies each directed in their first year\n",
    "movies_count_first_year = first_year_movies.groupby('nconst').size()\n",
    "\n",
    "# Counting and sorting the number of directors for each movie count in their first year\n",
    "movies_count_first_year.value_counts().sort_index()"
   ]
  },
  {
   "cell_type": "markdown",
   "metadata": {},
   "source": [
    "Looks the majority (98%) of directors in our sample directed only one movie in their first year, but a small group of directors did make more than one movie the year they started directing. \n",
    "\n",
    "To add depth to our analysis, we merge IMDb data on ratings and number of votes with our filmography dataset. This allows us to consider the popularity and reception of each movie directed by our cohort of first-time directors. "
   ]
  },
  {
   "cell_type": "code",
   "execution_count": 56,
   "metadata": {},
   "outputs": [
    {
     "data": {
      "text/html": [
       "<div>\n",
       "<style scoped>\n",
       "    .dataframe tbody tr th:only-of-type {\n",
       "        vertical-align: middle;\n",
       "    }\n",
       "\n",
       "    .dataframe tbody tr th {\n",
       "        vertical-align: top;\n",
       "    }\n",
       "\n",
       "    .dataframe thead th {\n",
       "        text-align: right;\n",
       "    }\n",
       "</style>\n",
       "<table border=\"1\" class=\"dataframe\">\n",
       "  <thead>\n",
       "    <tr style=\"text-align: right;\">\n",
       "      <th></th>\n",
       "      <th>tconst</th>\n",
       "      <th>averageRating</th>\n",
       "      <th>numVotes</th>\n",
       "    </tr>\n",
       "  </thead>\n",
       "  <tbody>\n",
       "    <tr>\n",
       "      <th>0</th>\n",
       "      <td>tt0000001</td>\n",
       "      <td>5.7</td>\n",
       "      <td>2017</td>\n",
       "    </tr>\n",
       "    <tr>\n",
       "      <th>1</th>\n",
       "      <td>tt0000002</td>\n",
       "      <td>5.7</td>\n",
       "      <td>270</td>\n",
       "    </tr>\n",
       "    <tr>\n",
       "      <th>2</th>\n",
       "      <td>tt0000003</td>\n",
       "      <td>6.5</td>\n",
       "      <td>1943</td>\n",
       "    </tr>\n",
       "    <tr>\n",
       "      <th>3</th>\n",
       "      <td>tt0000004</td>\n",
       "      <td>5.4</td>\n",
       "      <td>178</td>\n",
       "    </tr>\n",
       "    <tr>\n",
       "      <th>4</th>\n",
       "      <td>tt0000005</td>\n",
       "      <td>6.2</td>\n",
       "      <td>2721</td>\n",
       "    </tr>\n",
       "  </tbody>\n",
       "</table>\n",
       "</div>"
      ],
      "text/plain": [
       "      tconst  averageRating  numVotes\n",
       "0  tt0000001            5.7      2017\n",
       "1  tt0000002            5.7       270\n",
       "2  tt0000003            6.5      1943\n",
       "3  tt0000004            5.4       178\n",
       "4  tt0000005            6.2      2721"
      ]
     },
     "execution_count": 56,
     "metadata": {},
     "output_type": "execute_result"
    }
   ],
   "source": [
    "# URL for the IMDb 'title.ratings' dataset\n",
    "url_ratings = 'https://datasets.imdbws.com/title.ratings.tsv.gz'\n",
    "\n",
    "# Read the 'title.ratings' dataset \n",
    "df_ratings = pd.read_csv(url_ratings, sep='\\t', compression='gzip')\n",
    "\n",
    "# Displaying the first few rows of 'df_ratings' for an overview\n",
    "df_ratings.head()"
   ]
  },
  {
   "cell_type": "code",
   "execution_count": 57,
   "metadata": {},
   "outputs": [],
   "source": [
    "# Merge the ratings data with the 'directors_full_filmography' dataset\n",
    "# This adds IMDb ratings and number of votes to the filmography data\n",
    "directors_full_filmography = directors_full_filmography.merge(df_ratings, on='tconst', how='left')\n",
    "\n",
    "# Save the 'directors_full_filmography' dataset to a CSV file for future use\n",
    "directors_full_filmography.to_csv('directors_full_filmography.csv', index=False)"
   ]
  },
  {
   "cell_type": "markdown",
   "metadata": {},
   "source": [
    "# Examining career pre- and post-directing debut\n",
    "\n",
    "In this section, we delve into the work of these directors before and after their directorial debut.\n",
    "\n",
    "## Career progression post-debut:\n",
    "\n",
    "First, let's count the number of movies they directed after their debut. This helps us understand the career trajectory of first-time movie directors following their initial foray into directing. "
   ]
  },
  {
   "cell_type": "code",
   "execution_count": 67,
   "metadata": {},
   "outputs": [],
   "source": [
    "# Initialize a DataFrame to analyze the post-debut career of directors\n",
    "# This DataFrame includes the unique identifier for each director ('nconst') and their first movie year\n",
    "post_debut_director_movies = directors_full_filmography[['nconst', 'firstYear']].drop_duplicates()\n",
    "\n",
    "# Initially assume all directors have directed zero movies after their debut\n",
    "# This assumption will be updated based on the actual data \n",
    "post_debut_director_movies['movies_directed_after_first'] = 0\n",
    "\n",
    "# Filter the full filmography to include only movies directed after the director's first movie\n",
    "# This helps in focusing on the directors' career progression after their debut\n",
    "movies_after_debut = directors_full_filmography[directors_full_filmography['startYear'] > directors_full_filmography['firstYear']]\n",
    "\n",
    "# Group the data by director and count the number of movies directed after their debut\n",
    "movies_count_after_debut = movies_after_debut.groupby('nconst').size()\n",
    "\n",
    "# Update the DataFrame with the actual count of movies directed after the first movie\n",
    "post_debut_director_movies.set_index('nconst', inplace=True)\n",
    "post_debut_director_movies.loc[movies_count_after_debut.index, 'movies_directed_after_first'] = movies_count_after_debut\n",
    "post_debut_director_movies.reset_index(inplace=True)"
   ]
  },
  {
   "cell_type": "markdown",
   "metadata": {},
   "source": [
    "Let's generate of some descriptive statistics for the number of movies directed by these first-time directors after their debut."
   ]
  },
  {
   "cell_type": "code",
   "execution_count": 72,
   "metadata": {},
   "outputs": [
    {
     "data": {
      "text/plain": [
       "count    63169.000000\n",
       "mean         1.010021\n",
       "std          2.359699\n",
       "min          0.000000\n",
       "25%          0.000000\n",
       "50%          0.000000\n",
       "75%          1.000000\n",
       "max        126.000000\n",
       "Name: movies_directed_after_first, dtype: float64"
      ]
     },
     "execution_count": 72,
     "metadata": {},
     "output_type": "execute_result"
    }
   ],
   "source": [
    "# Get an overview of the distribution and central tendencies of the number of movies directed after debut\n",
    "post_debut_director_movies['movies_directed_after_first'].describe()"
   ]
  },
  {
   "cell_type": "markdown",
   "metadata": {},
   "source": [
    "On average, each of the 63,169 directors in our sample directed just over 1 movie after their debut. The median value is 0, indicating that more than half of the directors directed no movies after their debut. The 75th percentile (third quartile) is 1, meaning that 75% of the directors directed 1 or fewer movies after their debut. The median being lower than the mean, coupled with a high standard deviation, points to a skewed distribution. This suggests that while the majority directed few or no movies post-debut, a small subset of directors had notably more prolific careers.\n",
    "\n",
    "To better understand this distribution, let's create a bar chart visualizing the count of movies directed by these directors after their debut."
   ]
  },
  {
   "cell_type": "code",
   "execution_count": 93,
   "metadata": {},
   "outputs": [
    {
     "data": {
      "image/png": "[encoded data removed]",
      "text/plain": [
       "<Figure size 1000x600 with 1 Axes>"
      ]
     },
     "metadata": {},
     "output_type": "display_data"
    }
   ],
   "source": [
    "# Create a bar chart to visualize the number of movies directed by first-time directors after their debut\n",
    "plt.figure(figsize=(10, 6))\n",
    "director_counts_by_movie_number = post_debut_director_movies['movies_directed_after_first'].value_counts().sort_index()\n",
    "director_counts_by_movie_number.plot(kind='bar', color='#8BD8BD')\n",
    "\n",
    "# Adding labels and title\n",
    "plt.title('Number of Directors by Count of Movies Directed After Debut')\n",
    "plt.xlabel('Number of Movies Directed After Debut')\n",
    "plt.ylabel('Number of Directors')\n",
    "\n",
    "# Adjust the x-axis to show labels for every 5 movies for better readability\n",
    "xticks = range(0, len(director_counts_by_movie_number), 5)\n",
    "plt.xticks(ticks=xticks, labels=[str(i) for i in xticks], rotation=0)\n",
    "\n",
    "plt.show()"
   ]
  },
  {
   "cell_type": "markdown",
   "metadata": {},
   "source": [
    "Looks like the majority of directors did not direct another movie after their debut, aligning with the descriptive statistics above. "
   ]
  },
  {
   "cell_type": "markdown",
   "metadata": {},
   "source": [
    "## Background pre-debut\n",
    "\n",
    "Some first-time directors might have worked on other movies in non-directing roles before they started directing. This prior experience might influence their career longevity as a director. Therefore, in this part of our analysis, we explore the extent and nature of their involvement in movie productions prior to their directing debut. We will create three variables to reflect a first-time director’s prior work experience, including whether they have worked on other movies in non-directing roles before they directed their first movie, and if so, how many movies and which role they took on in these movies."
   ]
  },
  {
   "cell_type": "code",
   "execution_count": 75,
   "metadata": {},
   "outputs": [],
   "source": [
    "# Filtering the principal dataset for entries related to our first-time directors\n",
    "# This captures all the roles they have held in any film production, not just as directors\n",
    "director_roles_pre_debut = df_principals[(df_principals['nconst'].isin(debut_directors_2003_2013['nconst']))]\n",
    "\n",
    "# Merging this data with the movies dataset to associate each role with its corresponding release year\n",
    "director_roles_pre_debut = director_roles_pre_debut[['tconst', 'nconst', 'category']].merge(movies[['tconst', 'startYear']], on='tconst', how='inner')\n",
    "\n",
    "# Further merging with the debut directors dataset to include the year of each director's first movie\n",
    "# This helps in identifying work done prior to their directorial debut\n",
    "director_roles_pre_debut = director_roles_pre_debut.merge(debut_directors_2003_2013, on='nconst', how='left')\n",
    "\n",
    "# Filtering for work before their directorial debut\n",
    "# This step isolates their activities in the industry prior to becoming a director\n",
    "pre_debut_work = director_roles_pre_debut[director_roles_pre_debut['startYear'] < director_roles_pre_debut['firstYear']]\n",
    "\n",
    "# Excluding entries where their role was 'self' to focus on professional roles\n",
    "pre_debut_work = pre_debut_work[pre_debut_work['category'] != \"self\"]\n",
    "\n",
    "# Aggregating the data to count the number of movies and list the different roles each director held before their debut\n",
    "pre_debut_experience = pre_debut_work.groupby('nconst').agg({\n",
    "    'tconst': 'count', \n",
    "    'category': lambda x: list(set(x))\n",
    "    }).rename(columns={'tconst': 'movie_count', 'category': 'roles'})\n",
    "\n",
    "# Initializing a DataFrame to track each director's experience prior to their debut\n",
    "directors_experience = pd.DataFrame({'nconst': directors_full_filmography['nconst']}).drop_duplicates()\n",
    "directors_experience['had_prior_experience'] = 0  # Initializing with 0 (no experience)\n",
    "\n",
    "# Merging with the pre_debut_experience data to get the movies count and different roles before debut\n",
    "directors_experience = directors_experience.merge(pre_debut_experience, on='nconst', how='left')\n",
    "\n",
    "# Filling missing values (NaNs) with 0 for directors without prior experience\n",
    "directors_experience['movie_count'].fillna(0, inplace=True)\n",
    "\n",
    "# Updating the 'had_prior_experience' flag to 1 for directors who had prior experience\n",
    "directors_experience.loc[directors_experience['movie_count'] > 0, 'had_prior_experience'] = 1"
   ]
  },
  {
   "cell_type": "markdown",
   "metadata": {},
   "source": [
    "Let's count the number of directors for each movie count."
   ]
  },
  {
   "cell_type": "code",
   "execution_count": 123,
   "metadata": {},
   "outputs": [
    {
     "data": {
      "text/plain": [
       "movie_count\n",
       "0.0      52850\n",
       "1.0       5774\n",
       "2.0       1820\n",
       "3.0        842\n",
       "4.0        473\n",
       "         ...  \n",
       "106.0        1\n",
       "112.0        1\n",
       "124.0        1\n",
       "160.0        1\n",
       "163.0        1\n",
       "Name: count, Length: 76, dtype: int64"
      ]
     },
     "execution_count": 123,
     "metadata": {},
     "output_type": "execute_result"
    }
   ],
   "source": [
    "directors_experience['movie_count'].value_counts().sort_index()"
   ]
  },
  {
   "cell_type": "markdown",
   "metadata": {},
   "source": [
    "Looks like the majority of first-time directors (84%) did not work in other movie productions before their directing debut.Let's creating a bar chart for those who did have prior experience to a sense of the variety and frequency of roles assumed by these directors."
   ]
  },
  {
   "cell_type": "code",
   "execution_count": 115,
   "metadata": {},
   "outputs": [
    {
     "data": {
      "image/png": "[encoded data removed]",
      "text/plain": [
       "<Figure size 1000x600 with 1 Axes>"
      ]
     },
     "metadata": {},
     "output_type": "display_data"
    }
   ],
   "source": [
    "# Creating a bar chart to visualize the different roles taken by first-time directors before their debut\n",
    "\n",
    "plt.figure(figsize=(10, 6))\n",
    "# Flatten the list of roles and count each occurrence and create a bar chart\n",
    "directors_experience.explode('roles')['roles'].value_counts().plot(kind='bar', color='#8BD8BD')\n",
    "\n",
    "# Adding labels and title\n",
    "plt.title('Count of First-Time Directors with Prior Experience in Certain Roles')\n",
    "plt.xlabel('Roles')\n",
    "plt.ylabel('Number of Directors')\n",
    "\n",
    "plt.xticks(rotation=45)  # Rotate the x-axis labels for better readability\n",
    "plt.show()"
   ]
  },
  {
   "cell_type": "markdown",
   "metadata": {},
   "source": [
    "Among first-time directors with prior industry experience, the most common roles are those of actors and writers. This  suggests a notable pathway into directing, where among people already in the film industry, those with substantial experience in acting or writing are more likely to transition into directing roles.\n",
    "\n",
    "Finally, let's create a dataset to record the pre- and post-debut career of each director in our sample and save it for future analysis. "
   ]
  },
  {
   "cell_type": "code",
   "execution_count": 127,
   "metadata": {},
   "outputs": [
    {
     "data": {
      "text/html": [
       "<div>\n",
       "<style scoped>\n",
       "    .dataframe tbody tr th:only-of-type {\n",
       "        vertical-align: middle;\n",
       "    }\n",
       "\n",
       "    .dataframe tbody tr th {\n",
       "        vertical-align: top;\n",
       "    }\n",
       "\n",
       "    .dataframe thead th {\n",
       "        text-align: right;\n",
       "    }\n",
       "</style>\n",
       "<table border=\"1\" class=\"dataframe\">\n",
       "  <thead>\n",
       "    <tr style=\"text-align: right;\">\n",
       "      <th></th>\n",
       "      <th>nconst</th>\n",
       "      <th>had_prior_experience</th>\n",
       "      <th>movie_count</th>\n",
       "      <th>roles</th>\n",
       "      <th>firstYear</th>\n",
       "      <th>movies_directed_after_first</th>\n",
       "    </tr>\n",
       "  </thead>\n",
       "  <tbody>\n",
       "    <tr>\n",
       "      <th>0</th>\n",
       "      <td>nm1131265</td>\n",
       "      <td>0</td>\n",
       "      <td>0.0</td>\n",
       "      <td>NaN</td>\n",
       "      <td>2004.0</td>\n",
       "      <td>2</td>\n",
       "    </tr>\n",
       "    <tr>\n",
       "      <th>1</th>\n",
       "      <td>nm1130611</td>\n",
       "      <td>0</td>\n",
       "      <td>0.0</td>\n",
       "      <td>NaN</td>\n",
       "      <td>2004.0</td>\n",
       "      <td>0</td>\n",
       "    </tr>\n",
       "    <tr>\n",
       "      <th>2</th>\n",
       "      <td>nm0290651</td>\n",
       "      <td>0</td>\n",
       "      <td>0.0</td>\n",
       "      <td>NaN</td>\n",
       "      <td>2003.0</td>\n",
       "      <td>0</td>\n",
       "    </tr>\n",
       "    <tr>\n",
       "      <th>3</th>\n",
       "      <td>nm0404033</td>\n",
       "      <td>0</td>\n",
       "      <td>0.0</td>\n",
       "      <td>NaN</td>\n",
       "      <td>2003.0</td>\n",
       "      <td>3</td>\n",
       "    </tr>\n",
       "    <tr>\n",
       "      <th>4</th>\n",
       "      <td>nm0000417</td>\n",
       "      <td>1</td>\n",
       "      <td>14.0</td>\n",
       "      <td>[archive_footage, actor]</td>\n",
       "      <td>2005.0</td>\n",
       "      <td>1</td>\n",
       "    </tr>\n",
       "  </tbody>\n",
       "</table>\n",
       "</div>"
      ],
      "text/plain": [
       "      nconst  had_prior_experience  movie_count                     roles  \\\n",
       "0  nm1131265                     0          0.0                       NaN   \n",
       "1  nm1130611                     0          0.0                       NaN   \n",
       "2  nm0290651                     0          0.0                       NaN   \n",
       "3  nm0404033                     0          0.0                       NaN   \n",
       "4  nm0000417                     1         14.0  [archive_footage, actor]   \n",
       "\n",
       "   firstYear  movies_directed_after_first  \n",
       "0     2004.0                            2  \n",
       "1     2004.0                            0  \n",
       "2     2003.0                            0  \n",
       "3     2003.0                            3  \n",
       "4     2005.0                            1  "
      ]
     },
     "execution_count": 127,
     "metadata": {},
     "output_type": "execute_result"
    }
   ],
   "source": [
    "# Merge the DataFrames on 'nconst'\n",
    "directors_pre_post_debut_careers = directors_experience.merge(post_debut_director_movies, on='nconst', how='inner')\n",
    "\n",
    "# Displaying the first few rows to get an overview of the data\n",
    "directors_pre_post_debut_careers.head()"
   ]
  },
  {
   "cell_type": "code",
   "execution_count": 126,
   "metadata": {},
   "outputs": [],
   "source": [
    "# save the data for future analysis \n",
    "directors_pre_post_debut_careers.to_csv('directors_pre_post_debut_careers.csv', index=False)"
   ]
  }
 ],
 "metadata": {
  "kernelspec": {
   "display_name": "Python 3",
   "language": "python",
   "name": "python3"
  },
  "language_info": {
   "codemirror_mode": {
    "name": "ipython",
    "version": 3
   },
   "file_extension": ".py",
   "mimetype": "text/x-python",
   "name": "python",
   "nbconvert_exporter": "python",
   "pygments_lexer": "ipython3",
   "version": "3.12.1"
  }
 },
 "nbformat": 4,
 "nbformat_minor": 2
}

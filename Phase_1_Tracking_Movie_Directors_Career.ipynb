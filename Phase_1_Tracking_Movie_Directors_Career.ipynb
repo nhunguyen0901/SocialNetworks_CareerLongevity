{
 "cells": [
  {
   "cell_type": "markdown",
   "metadata": {},
   "source": [
    "# Tracing career histories of film directors from IMDb data\n",
    "\n",
    "This notebook is the start of a journey to answer a key question: Can social networks, particularly through connections with network brokers, pave the way for longer and more prolific careers for women movie directors? And does this network effect differ from their men counterparts?\n",
    "\n",
    "**Why should we care?**\n",
    "\n",
    "This project is inspired by a puzzling finding in social capital research. Typically, being a network broker — a person who connects different social circles — is associated with career advancement. However, this doesn't seem to hold true for women. In fact, evidence suggests that such roles might actually impede women's careers. For my PhD dissertation, I want to explore an alternative pathway for women to harness the power of brokerage networks - by forming connections to network brokers. \n",
    "\n",
    "**How do we do this?**\n",
    "\n",
    "This notebook walks through the first phase of the project: constructing  a unique dataset of first-time movie directors, collecting data on their career trajectories and collaborations with other film-makers. This lays the ground work for the second phase: calculating these directors' levels of brokerage social capital and those of their collaborators over time. \n",
    "\n",
    "We'll look at the collaboration networks of film-makers from 2000 to 2023. I chose this era due to the spread of the internet in the late 90s, which significantly changed the way people collaborate to make movies. \n",
    "\n",
    "We'll predict career longevity for directors who made their first movie betweem 2003 and 2013. Brokerage scores are calculated using a 3-year moving window. This means that for any given year, a filmmaker's brokerage score is derived from their collaboration patterns over the previous three years. Thus, we begin our director sample from 2003, using 2000-2002 as the first network in our longitudinal network analysis. Concluding our director sample in 2013 allows us to observe at least a decade of each director's career. "
   ]
  },
  {
   "cell_type": "markdown",
   "metadata": {},
   "source": [
    "# Acquiring movie data from 2000 to 2023 \n",
    "\n",
    "In this section of the notebook, we gather data on movies released between 2000 and 2023. This data will later be used to construct an evolving collaboration network of film-makers, where each snapshot of the network encapsulates all collaboration ties over a span of three years.\n",
    "\n",
    "We begin by importing essential Python libraries for data handling and visualization. The IMDb datasets, `title.basics` and `title.principals`, are then accessed directly from their URLs. These datasets contain comprehensive information about movies and their key personnel."
   ]
  },
  {
   "cell_type": "code",
   "execution_count": 2,
   "metadata": {},
   "outputs": [],
   "source": [
    "# Importing essential libraries\n",
    "import pandas as pd\n",
    "import matplotlib.pyplot as plt\n",
    "import os \n",
    "\n",
    "# set wd\n",
    "os.chdir('/Users/mac/Library/CloudStorage/OneDrive-McGillUniversity/Work/Projects/Gender and brokerage/WomenLeaders_SocialNetworks')\n",
    "\n",
    "# URLs of the IMDb data files\n",
    "url_basics = 'https://datasets.imdbws.com/title.basics.tsv.gz'\n",
    "url_principals = 'https://datasets.imdbws.com/title.principals.tsv.gz'\n",
    "\n",
    "# Reading the TSV file directly from the URL in 28 Jan 2024\n",
    "# 'sep' is set to '\\t' for tab-separated values\n",
    "# 'compression' parameter handles the gzip compression\n",
    "# 'encoding' is set to 'utf-8' for proper character encoding\n",
    "# 'low_memory=False' allows pandas to process large files without chunking\n",
    "df_basics = pd.read_csv(url_basics, sep='\\t', compression='gzip', encoding='utf-8', low_memory=False)\n",
    "df_principals = pd.read_csv(url_principals, sep='\\t', compression='gzip', encoding='utf-8', low_memory=False)"
   ]
  },
  {
   "cell_type": "markdown",
   "metadata": {},
   "source": [
    "With the `title.basics` dataset loaded, let's take a look at its first few rows to get an overview of its structure. We can also do a basic count to understand the distribution of different types of productions. "
   ]
  },
  {
   "cell_type": "code",
   "execution_count": 3,
   "metadata": {},
   "outputs": [
    {
     "data": {
      "text/html": [
       "<div>\n",
       "<style scoped>\n",
       "    .dataframe tbody tr th:only-of-type {\n",
       "        vertical-align: middle;\n",
       "    }\n",
       "\n",
       "    .dataframe tbody tr th {\n",
       "        vertical-align: top;\n",
       "    }\n",
       "\n",
       "    .dataframe thead th {\n",
       "        text-align: right;\n",
       "    }\n",
       "</style>\n",
       "<table border=\"1\" class=\"dataframe\">\n",
       "  <thead>\n",
       "    <tr style=\"text-align: right;\">\n",
       "      <th></th>\n",
       "      <th>tconst</th>\n",
       "      <th>titleType</th>\n",
       "      <th>primaryTitle</th>\n",
       "      <th>originalTitle</th>\n",
       "      <th>isAdult</th>\n",
       "      <th>startYear</th>\n",
       "      <th>endYear</th>\n",
       "      <th>runtimeMinutes</th>\n",
       "      <th>genres</th>\n",
       "    </tr>\n",
       "  </thead>\n",
       "  <tbody>\n",
       "    <tr>\n",
       "      <th>0</th>\n",
       "      <td>tt0000001</td>\n",
       "      <td>short</td>\n",
       "      <td>Carmencita</td>\n",
       "      <td>Carmencita</td>\n",
       "      <td>0</td>\n",
       "      <td>1894</td>\n",
       "      <td>\\N</td>\n",
       "      <td>1</td>\n",
       "      <td>Documentary,Short</td>\n",
       "    </tr>\n",
       "    <tr>\n",
       "      <th>1</th>\n",
       "      <td>tt0000002</td>\n",
       "      <td>short</td>\n",
       "      <td>Le clown et ses chiens</td>\n",
       "      <td>Le clown et ses chiens</td>\n",
       "      <td>0</td>\n",
       "      <td>1892</td>\n",
       "      <td>\\N</td>\n",
       "      <td>5</td>\n",
       "      <td>Animation,Short</td>\n",
       "    </tr>\n",
       "    <tr>\n",
       "      <th>2</th>\n",
       "      <td>tt0000003</td>\n",
       "      <td>short</td>\n",
       "      <td>Pauvre Pierrot</td>\n",
       "      <td>Pauvre Pierrot</td>\n",
       "      <td>0</td>\n",
       "      <td>1892</td>\n",
       "      <td>\\N</td>\n",
       "      <td>4</td>\n",
       "      <td>Animation,Comedy,Romance</td>\n",
       "    </tr>\n",
       "    <tr>\n",
       "      <th>3</th>\n",
       "      <td>tt0000004</td>\n",
       "      <td>short</td>\n",
       "      <td>Un bon bock</td>\n",
       "      <td>Un bon bock</td>\n",
       "      <td>0</td>\n",
       "      <td>1892</td>\n",
       "      <td>\\N</td>\n",
       "      <td>12</td>\n",
       "      <td>Animation,Short</td>\n",
       "    </tr>\n",
       "    <tr>\n",
       "      <th>4</th>\n",
       "      <td>tt0000005</td>\n",
       "      <td>short</td>\n",
       "      <td>Blacksmith Scene</td>\n",
       "      <td>Blacksmith Scene</td>\n",
       "      <td>0</td>\n",
       "      <td>1893</td>\n",
       "      <td>\\N</td>\n",
       "      <td>1</td>\n",
       "      <td>Comedy,Short</td>\n",
       "    </tr>\n",
       "  </tbody>\n",
       "</table>\n",
       "</div>"
      ],
      "text/plain": [
       "      tconst titleType            primaryTitle           originalTitle  \\\n",
       "0  tt0000001     short              Carmencita              Carmencita   \n",
       "1  tt0000002     short  Le clown et ses chiens  Le clown et ses chiens   \n",
       "2  tt0000003     short          Pauvre Pierrot          Pauvre Pierrot   \n",
       "3  tt0000004     short             Un bon bock             Un bon bock   \n",
       "4  tt0000005     short        Blacksmith Scene        Blacksmith Scene   \n",
       "\n",
       "  isAdult startYear endYear runtimeMinutes                    genres  \n",
       "0       0      1894      \\N              1         Documentary,Short  \n",
       "1       0      1892      \\N              5           Animation,Short  \n",
       "2       0      1892      \\N              4  Animation,Comedy,Romance  \n",
       "3       0      1892      \\N             12           Animation,Short  \n",
       "4       0      1893      \\N              1              Comedy,Short  "
      ]
     },
     "execution_count": 3,
     "metadata": {},
     "output_type": "execute_result"
    }
   ],
   "source": [
    "# Displaying the first few rows of the 'df_basics' DataFrame to get an overview of the data structure\n",
    "df_basics.head()"
   ]
  },
  {
   "cell_type": "code",
   "execution_count": 4,
   "metadata": {},
   "outputs": [
    {
     "data": {
      "text/plain": [
       "{'titleType': titleType\n",
       " tvEpisode       8040614\n",
       " short            974712\n",
       " movie            669802\n",
       " video            287159\n",
       " tvSeries         256177\n",
       " tvMovie          144164\n",
       " tvMiniSeries      52171\n",
       " tvSpecial         45643\n",
       " videoGame         37270\n",
       " tvShort           10234\n",
       " tvPilot               1\n",
       " Name: count, dtype: int64,\n",
       " 'isAdult': isAdult\n",
       " 0       10183789\n",
       " 1         334140\n",
       " 2023           6\n",
       " 2019           3\n",
       " 2020           2\n",
       " 1981           1\n",
       " 2017           1\n",
       " \\N             1\n",
       " 2022           1\n",
       " 2011           1\n",
       " 2014           1\n",
       " 2005           1\n",
       " Name: count, dtype: int64}"
      ]
     },
     "execution_count": 4,
     "metadata": {},
     "output_type": "execute_result"
    }
   ],
   "source": [
    "# Counting the values in 'titleType' and 'isAdult' columns to understand their distribution in the dataset\n",
    "{col: df_basics[col].value_counts() for col in ['titleType', 'isAdult']}"
   ]
  },
  {
   "cell_type": "markdown",
   "metadata": {},
   "source": [
    "The data includes both movies and tv shows (indicated in `titleType`) and indicates for whether these are pornographic productions (`isAdult`). To identify movies released between 2000 and 2023, we first convert the `startYear` column to numeric values. We then filter the DataFrame to include only non-adult movies and select relevant columns: `tconst` (movie ID), `startYear` (movie release year), and `genres` (movie genres). Then, let's take a look at how many movies we have in the data. "
   ]
  },
  {
   "cell_type": "code",
   "execution_count": 5,
   "metadata": {},
   "outputs": [
    {
     "data": {
      "text/plain": [
       "tconst       563553\n",
       "startYear       135\n",
       "genres         1338\n",
       "dtype: int64"
      ]
     },
     "execution_count": 5,
     "metadata": {},
     "output_type": "execute_result"
    }
   ],
   "source": [
    "# Convert 'startYear' column to numeric, errors='coerce' sets unparsable entries as NaN (Not a Number)\n",
    "df_basics['startYear'] = pd.to_numeric(df_basics['startYear'], errors='coerce')\n",
    "\n",
    "# Filtering the 'df_basics' DataFrame to include only non-adult movies with a valid start year\n",
    "# 'query' function is used to filter rows where titleType is 'movie', isAdult is '0' (non-adult),\n",
    "# and startYear is not NaN (ensured by 'startYear == startYear')\n",
    "# 'filter' function selects revelant columns only\n",
    "movies = (df_basics\n",
    "          .query('titleType == \"movie\" & isAdult == \"0\" & startYear == startYear') \n",
    "          .filter(items=['tconst', 'startYear', 'genres'])  \n",
    "          )\n",
    "\n",
    "# Displaying the number of unique values in each column of the 'movies' DataFrame\n",
    "movies.nunique()"
   ]
  },
  {
   "cell_type": "markdown",
   "metadata": {},
   "source": [
    "As of the time of this analysis (Jan 28, 2024), the data includes 563,553 non-pornographic movies spaning 135 years. What are the earlies and latest year we have in the data?"
   ]
  },
  {
   "cell_type": "code",
   "execution_count": 6,
   "metadata": {},
   "outputs": [
    {
     "name": "stdout",
     "output_type": "stream",
     "text": [
      "Earliest Year: 1894.0\n",
      "Latest Year: 2031.0\n"
     ]
    }
   ],
   "source": [
    "# Finding and printing the earliest and latest years in the 'movies' DataFrame\n",
    "print(\"Earliest Year:\", movies['startYear'].min())\n",
    "print(\"Latest Year:\", movies['startYear'].max())"
   ]
  },
  {
   "cell_type": "markdown",
   "metadata": {},
   "source": [
    "The earliest year we have data on is 1894 and the latest year 2031. Seems like IMDb also has info on movies that have not been released yet. Let’s remove these future movies and graph the number of movies in the database over time."
   ]
  },
  {
   "cell_type": "code",
   "execution_count": 16,
   "metadata": {},
   "outputs": [
    {
     "data": {
      "image/png": "[encoded data removed]",
      "text/plain": [
       "<Figure size 1200x600 with 1 Axes>"
      ]
     },
     "metadata": {},
     "output_type": "display_data"
    }
   ],
   "source": [
    "# Filter out movies released after 2023\n",
    "movies = movies[movies['startYear'] <= 2023]\n",
    "\n",
    "# Grouping the 'movies' DataFrame by 'startYear' and counting the number of movies in each year\n",
    "movies_per_year = movies.groupby('startYear').size()\n",
    "\n",
    "# Plotting the number of movies over time as a line chart\n",
    "plt.figure(figsize=(12,6))\n",
    "movies_per_year.plot(kind='bar', color='#8BD8BD')\n",
    "plt.title('Number of Movies in IMDb Database Over Time')\n",
    "plt.xlabel('Year')\n",
    "plt.ylabel('Number of Movies')\n",
    "plt.xticks(range(0, len(movies_per_year), 25), labels=movies_per_year.index[::25]) # Adjust x-axis to show labels for every 25 years\n",
    "plt.grid(True, color='#D3D3D3')  # Adding light grey grid lines for better readability\n",
    "plt.show()\n"
   ]
  },
  {
   "cell_type": "markdown",
   "metadata": {},
   "source": [
    "A lot more movies are made in the 21st century than previous centuries. This is probably due to technological advancements, increased access to filmmaking tools, and the growth of digital distribution platforms, making it easier than ever to produce and share movies. Now, let's filter our dataset to include only movies released between 2000 and 2023 and see how many movies we have. "
   ]
  },
  {
   "cell_type": "code",
   "execution_count": 17,
   "metadata": {},
   "outputs": [
    {
     "data": {
      "text/plain": [
       "tconst       313644\n",
       "startYear        24\n",
       "genres         1193\n",
       "dtype: int64"
      ]
     },
     "execution_count": 17,
     "metadata": {},
     "output_type": "execute_result"
    }
   ],
   "source": [
    "# Filtering the 'movies' DataFrame to include only movies from the year 2000 onward\n",
    "movies_2000_2023 = movies[(movies['startYear'] >= 2000) & (movies['startYear'] <= 2023)]\n",
    "\n",
    "# Counting the number of unique values in each column of the 'movies_2000_onward' DataFrame\n",
    "movies_2000_2023.nunique()"
   ]
  },
  {
   "cell_type": "code",
   "execution_count": 18,
   "metadata": {},
   "outputs": [
    {
     "data": {
      "text/html": [
       "<div>\n",
       "<style scoped>\n",
       "    .dataframe tbody tr th:only-of-type {\n",
       "        vertical-align: middle;\n",
       "    }\n",
       "\n",
       "    .dataframe tbody tr th {\n",
       "        vertical-align: top;\n",
       "    }\n",
       "\n",
       "    .dataframe thead th {\n",
       "        text-align: right;\n",
       "    }\n",
       "</style>\n",
       "<table border=\"1\" class=\"dataframe\">\n",
       "  <thead>\n",
       "    <tr style=\"text-align: right;\">\n",
       "      <th></th>\n",
       "      <th>tconst</th>\n",
       "      <th>startYear</th>\n",
       "      <th>genres</th>\n",
       "    </tr>\n",
       "  </thead>\n",
       "  <tbody>\n",
       "    <tr>\n",
       "      <th>11634</th>\n",
       "      <td>tt0011801</td>\n",
       "      <td>2019.0</td>\n",
       "      <td>Action,Crime</td>\n",
       "    </tr>\n",
       "    <tr>\n",
       "      <th>13079</th>\n",
       "      <td>tt0013274</td>\n",
       "      <td>2021.0</td>\n",
       "      <td>Documentary</td>\n",
       "    </tr>\n",
       "    <tr>\n",
       "      <th>15174</th>\n",
       "      <td>tt0015414</td>\n",
       "      <td>2000.0</td>\n",
       "      <td>\\N</td>\n",
       "    </tr>\n",
       "    <tr>\n",
       "      <th>27745</th>\n",
       "      <td>tt0028248</td>\n",
       "      <td>2022.0</td>\n",
       "      <td>Musical</td>\n",
       "    </tr>\n",
       "    <tr>\n",
       "      <th>34798</th>\n",
       "      <td>tt0035423</td>\n",
       "      <td>2001.0</td>\n",
       "      <td>Comedy,Fantasy,Romance</td>\n",
       "    </tr>\n",
       "  </tbody>\n",
       "</table>\n",
       "</div>"
      ],
      "text/plain": [
       "          tconst  startYear                  genres\n",
       "11634  tt0011801     2019.0            Action,Crime\n",
       "13079  tt0013274     2021.0             Documentary\n",
       "15174  tt0015414     2000.0                      \\N\n",
       "27745  tt0028248     2022.0                 Musical\n",
       "34798  tt0035423     2001.0  Comedy,Fantasy,Romance"
      ]
     },
     "execution_count": 18,
     "metadata": {},
     "output_type": "execute_result"
    }
   ],
   "source": [
    "# Displaying the first few rows of the 'movies_2000_2023' DataFrame\n",
    "movies_2000_2023.head()"
   ]
  },
  {
   "cell_type": "markdown",
   "metadata": {},
   "source": [
    "We now have 313,644 movies made between 2000 and 2023, with information on each movie's ID (`tconst`), release year (`startYear`), and genres (`genres`). Before moving on to the next stage of analysis, we save this dataset to a CSV file so that we can use it later to construct a dynamic collaboration network among film-makers from 2000 to 2023. "
   ]
  },
  {
   "cell_type": "code",
   "execution_count": 15,
   "metadata": {},
   "outputs": [],
   "source": [
    "# Saving the DataFrame to a CSV file for future use\n",
    "# 'index=False' omits the index column in the saved file\n",
    "movies_2000_2023.to_csv('movies_2000_2023.csv', index=False)"
   ]
  },
  {
   "cell_type": "markdown",
   "metadata": {},
   "source": [
    "# Tracing career path of first-time directors\n",
    "\n",
    "In this section, we focus on identifying directors who made their directorial debut between 2003 and 2013. And then, we gather data on the movies they directed throughout their career.\n",
    "\n",
    "Let's start by examining the `df_principals` DataFrame, which contains information on key personnel involved in each movie. Let's also take a quick look at the `category` to understand the different roles present in the dataset."
   ]
  },
  {
   "cell_type": "code",
   "execution_count": 11,
   "metadata": {},
   "outputs": [
    {
     "data": {
      "text/html": [
       "<div>\n",
       "<style scoped>\n",
       "    .dataframe tbody tr th:only-of-type {\n",
       "        vertical-align: middle;\n",
       "    }\n",
       "\n",
       "    .dataframe tbody tr th {\n",
       "        vertical-align: top;\n",
       "    }\n",
       "\n",
       "    .dataframe thead th {\n",
       "        text-align: right;\n",
       "    }\n",
       "</style>\n",
       "<table border=\"1\" class=\"dataframe\">\n",
       "  <thead>\n",
       "    <tr style=\"text-align: right;\">\n",
       "      <th></th>\n",
       "      <th>tconst</th>\n",
       "      <th>ordering</th>\n",
       "      <th>nconst</th>\n",
       "      <th>category</th>\n",
       "      <th>job</th>\n",
       "      <th>characters</th>\n",
       "    </tr>\n",
       "  </thead>\n",
       "  <tbody>\n",
       "    <tr>\n",
       "      <th>0</th>\n",
       "      <td>tt0000001</td>\n",
       "      <td>1</td>\n",
       "      <td>nm1588970</td>\n",
       "      <td>self</td>\n",
       "      <td>\\N</td>\n",
       "      <td>[\"Self\"]</td>\n",
       "    </tr>\n",
       "    <tr>\n",
       "      <th>1</th>\n",
       "      <td>tt0000001</td>\n",
       "      <td>2</td>\n",
       "      <td>nm0005690</td>\n",
       "      <td>director</td>\n",
       "      <td>\\N</td>\n",
       "      <td>\\N</td>\n",
       "    </tr>\n",
       "    <tr>\n",
       "      <th>2</th>\n",
       "      <td>tt0000001</td>\n",
       "      <td>3</td>\n",
       "      <td>nm0374658</td>\n",
       "      <td>cinematographer</td>\n",
       "      <td>director of photography</td>\n",
       "      <td>\\N</td>\n",
       "    </tr>\n",
       "    <tr>\n",
       "      <th>3</th>\n",
       "      <td>tt0000002</td>\n",
       "      <td>1</td>\n",
       "      <td>nm0721526</td>\n",
       "      <td>director</td>\n",
       "      <td>\\N</td>\n",
       "      <td>\\N</td>\n",
       "    </tr>\n",
       "    <tr>\n",
       "      <th>4</th>\n",
       "      <td>tt0000002</td>\n",
       "      <td>2</td>\n",
       "      <td>nm1335271</td>\n",
       "      <td>composer</td>\n",
       "      <td>\\N</td>\n",
       "      <td>\\N</td>\n",
       "    </tr>\n",
       "  </tbody>\n",
       "</table>\n",
       "</div>"
      ],
      "text/plain": [
       "      tconst  ordering     nconst         category                      job  \\\n",
       "0  tt0000001         1  nm1588970             self                       \\N   \n",
       "1  tt0000001         2  nm0005690         director                       \\N   \n",
       "2  tt0000001         3  nm0374658  cinematographer  director of photography   \n",
       "3  tt0000002         1  nm0721526         director                       \\N   \n",
       "4  tt0000002         2  nm1335271         composer                       \\N   \n",
       "\n",
       "  characters  \n",
       "0   [\"Self\"]  \n",
       "1         \\N  \n",
       "2         \\N  \n",
       "3         \\N  \n",
       "4         \\N  "
      ]
     },
     "execution_count": 11,
     "metadata": {},
     "output_type": "execute_result"
    }
   ],
   "source": [
    "# Displaying the first few rows of the 'df_principals' DataFrame to examine its structure\n",
    "df_principals.head()"
   ]
  },
  {
   "cell_type": "code",
   "execution_count": 12,
   "metadata": {},
   "outputs": [
    {
     "data": {
      "text/plain": [
       "category\n",
       "actor                  13320366\n",
       "self                   10445829\n",
       "actress                10390563\n",
       "writer                  8434560\n",
       "director                6949679\n",
       "producer                3916757\n",
       "cinematographer         2050550\n",
       "editor                  1996781\n",
       "composer                1996435\n",
       "archive_footage          397774\n",
       "production_designer      381792\n",
       "archive_sound              4515\n",
       "Name: count, dtype: int64"
      ]
     },
     "execution_count": 12,
     "metadata": {},
     "output_type": "execute_result"
    }
   ],
   "source": [
    "# Counting and displaying the frequency of each role (category) in the 'df_principals' DataFrame\n",
    "df_principals['category'].value_counts()"
   ]
  },
  {
   "cell_type": "markdown",
   "metadata": {},
   "source": [
    "The data includes information on who (`nconst`) worked on which movie (`tconst`) in which capacity (`category`). Since the aim of the project is to examine the effects of networks for individuals in leadership positions, we filter the DataFrame to include only directors, who shape the artistic and creative vision of a movie.\n",
    "\n",
    "To identify directors whose first movie was released between 2003 and 2013, we merge the `directors` data with the `movies` data (from the previous section) based on the movie ID (`tconst`'). We group the data by director ID (`nconst`) and find the earliest movie for each director. We then filter for directors whose first movie was between 2003 and 2013. With this sample of first-time directors, we then create a DataFrame called `directors_full_filmography` that contains all movies directed by these first-time directors. "
   ]
  },
  {
   "cell_type": "code",
   "execution_count": 19,
   "metadata": {},
   "outputs": [],
   "source": [
    "# Filter 'df_principals' to include only entries where the category is 'director'\n",
    "# This isolates the individuals who have directed movies\n",
    "directors = df_principals[df_principals['category'] == 'director']\n",
    "\n",
    "# Merge the 'movies' DataFrame with the 'directors' DataFrame based on the 'tconst' field, \n",
    "# This links directors to the movies they directed\n",
    "directors = movies.merge(directors[['tconst', 'nconst']], on='tconst', how='inner')\n",
    "\n",
    "# Group by director ('nconst') and find the first movie for each director\n",
    "# The 'agg' function aggregates the 'startYear' column to find the minimum year, i.e., the director's debut year\n",
    "first_movies = directors.groupby('nconst').agg({'startYear': 'min'}).reset_index()\n",
    "\n",
    "# Filter the results to include only directors whose first movie was released between 2003 and 2013\n",
    "first_time_directors = first_movies[(first_movies['startYear'] >= 2003) & (first_movies['startYear'] <= 2013)]\n",
    "\n",
    "# Rename the 'startYear' column to 'firstYear' to denote it as the year of the director's first movie\n",
    "first_time_directors = first_time_directors.rename(columns={'startYear': 'firstYear'})\n",
    "\n",
    "# Filter the 'directors' data to include only movies directed by the identified first-time directors\n",
    "# This results in a DataFrame containing all movies directed by these directors\n",
    "directors_full_filmography = directors[directors['nconst'].isin(first_time_directors['nconst'])]\n",
    "\n",
    "# Merge the 'movies_directors' DataFrame with 'first_time_directors' to include the first year of directing\n",
    "directors_full_filmography = directors_full_filmography.merge(first_time_directors, on='nconst', how='left')"
   ]
  },
  {
   "cell_type": "markdown",
   "metadata": {},
   "source": [
    "Let's see how many directors we have in our data."
   ]
  },
  {
   "cell_type": "code",
   "execution_count": 20,
   "metadata": {},
   "outputs": [
    {
     "data": {
      "text/plain": [
       "tconst       115407\n",
       "startYear        21\n",
       "genres          948\n",
       "nconst        63168\n",
       "firstYear        11\n",
       "dtype: int64"
      ]
     },
     "execution_count": 20,
     "metadata": {},
     "output_type": "execute_result"
    }
   ],
   "source": [
    "# Displaying the unique counts in the 'directors_full_filmography' DataFrame for an overview\n",
    "directors_full_filmography.nunique()"
   ]
  },
  {
   "cell_type": "markdown",
   "metadata": {},
   "source": [
    "Our sample includes 63168 directors. Let's count the number of movies each director made in their debut year."
   ]
  },
  {
   "cell_type": "code",
   "execution_count": 22,
   "metadata": {},
   "outputs": [
    {
     "data": {
      "text/plain": [
       "1    61775\n",
       "2     1276\n",
       "3       83\n",
       "4       22\n",
       "5        7\n",
       "6        3\n",
       "7        2\n",
       "Name: count, dtype: int64"
      ]
     },
     "execution_count": 22,
     "metadata": {},
     "output_type": "execute_result"
    }
   ],
   "source": [
    "# Count Movies Directed by the Directors in Their First Year\n",
    "\n",
    "# Filter 'directors_full_filmography' to keep only movies directed in the director's first year\n",
    "first_year_movies = directors_full_filmography[directors_full_filmography['startYear'] == directors_full_filmography['firstYear']]\n",
    "\n",
    "# Group by director ('nconst') and counting the number of movies each directed in their first year\n",
    "movies_count_first_year = first_year_movies.groupby('nconst').size()\n",
    "\n",
    "# Counting and sorting the number of directors for each movie count in their first year\n",
    "movies_count_first_year.value_counts().sort_index()"
   ]
  },
  {
   "cell_type": "markdown",
   "metadata": {},
   "source": [
    "Looks the majority (98%) of directors in our sample directed only one movie in their first year, but a small group of directors did make more than one movie the year they started directing. \n",
    "\n",
    "To add depth to our analysis, we merge IMDb data on ratings and number of votes with our filmography dataset. This allows us to consider the popularity and reception of each movie directed by our cohort of first-time directors. We then save this filmography data, now include directors' complete works and associated ratings, for future analysis."
   ]
  },
  {
   "cell_type": "code",
   "execution_count": 25,
   "metadata": {},
   "outputs": [
    {
     "data": {
      "text/html": [
       "<div>\n",
       "<style scoped>\n",
       "    .dataframe tbody tr th:only-of-type {\n",
       "        vertical-align: middle;\n",
       "    }\n",
       "\n",
       "    .dataframe tbody tr th {\n",
       "        vertical-align: top;\n",
       "    }\n",
       "\n",
       "    .dataframe thead th {\n",
       "        text-align: right;\n",
       "    }\n",
       "</style>\n",
       "<table border=\"1\" class=\"dataframe\">\n",
       "  <thead>\n",
       "    <tr style=\"text-align: right;\">\n",
       "      <th></th>\n",
       "      <th>tconst</th>\n",
       "      <th>averageRating</th>\n",
       "      <th>numVotes</th>\n",
       "    </tr>\n",
       "  </thead>\n",
       "  <tbody>\n",
       "    <tr>\n",
       "      <th>0</th>\n",
       "      <td>tt0000001</td>\n",
       "      <td>5.7</td>\n",
       "      <td>2017</td>\n",
       "    </tr>\n",
       "    <tr>\n",
       "      <th>1</th>\n",
       "      <td>tt0000002</td>\n",
       "      <td>5.7</td>\n",
       "      <td>270</td>\n",
       "    </tr>\n",
       "    <tr>\n",
       "      <th>2</th>\n",
       "      <td>tt0000003</td>\n",
       "      <td>6.5</td>\n",
       "      <td>1943</td>\n",
       "    </tr>\n",
       "    <tr>\n",
       "      <th>3</th>\n",
       "      <td>tt0000004</td>\n",
       "      <td>5.4</td>\n",
       "      <td>178</td>\n",
       "    </tr>\n",
       "    <tr>\n",
       "      <th>4</th>\n",
       "      <td>tt0000005</td>\n",
       "      <td>6.2</td>\n",
       "      <td>2721</td>\n",
       "    </tr>\n",
       "  </tbody>\n",
       "</table>\n",
       "</div>"
      ],
      "text/plain": [
       "      tconst  averageRating  numVotes\n",
       "0  tt0000001            5.7      2017\n",
       "1  tt0000002            5.7       270\n",
       "2  tt0000003            6.5      1943\n",
       "3  tt0000004            5.4       178\n",
       "4  tt0000005            6.2      2721"
      ]
     },
     "execution_count": 25,
     "metadata": {},
     "output_type": "execute_result"
    }
   ],
   "source": [
    "# URL for the IMDb 'title.ratings' dataset\n",
    "url_ratings = 'https://datasets.imdbws.com/title.ratings.tsv.gz'\n",
    "\n",
    "# Read the 'title.ratings' dataset \n",
    "df_ratings = pd.read_csv(url_ratings, sep='\\t', compression='gzip')\n",
    "\n",
    "# Displaying the first few rows of 'df_ratings' for an overview\n",
    "df_ratings.head()"
   ]
  },
  {
   "cell_type": "code",
   "execution_count": 26,
   "metadata": {},
   "outputs": [],
   "source": [
    "# Merge the ratings data with the 'directors_full_filmography' dataset\n",
    "# This adds IMDb ratings and number of votes to the filmography data\n",
    "directors_full_filmography = directors_full_filmography.merge(df_ratings, on='tconst', how='left')\n",
    "\n",
    "# Save the 'directors_full_filmography' dataset to a CSV file for future use\n",
    "directors_full_filmography.to_csv('directors_full_filmography.csv', index=False)"
   ]
  },
  {
   "cell_type": "markdown",
   "metadata": {},
   "source": [
    "# Examining career pre and post directing debut\n",
    "\n",
    "In this section, we delve into two key aspects of first-time directors' careers: their productivity after their directorial debut and their professional experiences prior to directing their first movie.\n",
    "\n",
    "## Career progression post-debut:\n",
    "\n",
    "To track the number of movies directed post-debut for each director, we create a DataFrame (`all_directors`) containing all first-time directors. We then filter the `directors_full_filmography` DataFrame to keep only the movies directed after each director's debut. Finally, we group this data by director and counting the number of movies each director went on to direct after their directoral debut."
   ]
  },
  {
   "cell_type": "code",
   "execution_count": 42,
   "metadata": {},
   "outputs": [],
   "source": [
    "# Initialize a DataFrame with all first-time directors with zero movies after debut\n",
    "all_directors = directors_full_filmography[['nconst', 'firstYear']].drop_duplicates()\n",
    "all_directors['movies_directed_after_first'] = 0\n",
    "\n",
    "# Filter to keep only the movies directed after the first movie\n",
    "movies_after_first = directors_full_filmography[directors_full_filmography['startYear'] > directors_full_filmography['firstYear']]\n",
    "\n",
    "# Group by director and count the number of movies\n",
    "movies_count_after_first = movies_after_first.groupby('nconst').size()\n",
    "\n",
    "# Update the count in all_directors DataFrame\n",
    "all_directors.set_index('nconst', inplace=True)\n",
    "all_directors.loc[movies_count_after_first.index, 'movies_directed_after_first'] = movies_count_after_first\n",
    "all_directors.reset_index(inplace=True)"
   ]
  },
  {
   "cell_type": "markdown",
   "metadata": {},
   "source": [
    "Let's generate of some descriptive statistics for the number of movies directed by first-time directors after their debut."
   ]
  },
  {
   "cell_type": "code",
   "execution_count": 41,
   "metadata": {},
   "outputs": [
    {
     "data": {
      "text/plain": [
       "count    63168.000000\n",
       "mean         1.009958\n",
       "std          2.359630\n",
       "min          0.000000\n",
       "25%          0.000000\n",
       "50%          0.000000\n",
       "75%          1.000000\n",
       "max        126.000000\n",
       "Name: movies_directed_after_first, dtype: float64"
      ]
     },
     "execution_count": 41,
     "metadata": {},
     "output_type": "execute_result"
    }
   ],
   "source": [
    "all_directors['movies_directed_after_first'].describe()"
   ]
  },
  {
   "cell_type": "markdown",
   "metadata": {},
   "source": [
    "On average, each of the 63,168 directors in our sample directed just over 1 movie after their debut. The 75th percentile (or third quartile) is also 1, meaning that 75% of the directors directed 1 or fewer movies after their debut. This suggests that most directors either made only their debut film or a few more after that. This indicates high career failure among movie directors. However, the high standard deviation indicates a significant variation in the number of movies directed post-debut among these directors. While some may have directed only a few movies, a small numbers may have had much more prolific careers.\n",
    "\n",
    "Let's create a bar chart is created to visualize the range of post-debut productivity among directors."
   ]
  },
  {
   "cell_type": "code",
   "execution_count": 43,
   "metadata": {},
   "outputs": [
    {
     "data": {
      "image/png": "[encoded data removed]",
      "text/plain": [
       "<Figure size 1000x600 with 1 Axes>"
      ]
     },
     "metadata": {},
     "output_type": "display_data"
    }
   ],
   "source": [
    "# Count how many directors have each number of post-debut movies\n",
    "director_counts_by_movie_number = all_directors['movies_directed_after_first'].value_counts().sort_index()\n",
    "\n",
    "# Create a bar chart\n",
    "plt.figure(figsize=(10, 6))\n",
    "director_counts_by_movie_number.plot(kind='bar', color='#8BD8BD')\n",
    "\n",
    "# Adding labels and title\n",
    "plt.title('Number of Directors by Count of Movies Directed After Debut')\n",
    "plt.xlabel('Number of Movies Directed After Debut')\n",
    "plt.ylabel('Number of Directors')\n",
    "\n",
    "# Adjust x-axis to show labels for every 10 movies\n",
    "# Keep the x-axis labels horizontal for readability\n",
    "xticks = range(0, len(director_counts_by_movie_number), 10)\n",
    "plt.xticks(ticks=xticks, labels=[str(i) for i in xticks], rotation=0)\n",
    "\n",
    "\n",
    "plt.show()"
   ]
  },
  {
   "cell_type": "markdown",
   "metadata": {},
   "source": [
    "## Background pre-debut\n",
    "\n",
    "Some first-time directors might have worked on other movies before they started directing, where they took on non-directing roles. This prior experience might influence their career longevity as a director. Therefore, we will create two variables to reflect a first-time director’s prior work experience, including whether they have worked on other movies in non-directing roles before they directed their first movie, and if so, how many movies and which role they took on in these movies."
   ]
  },
  {
   "cell_type": "code",
   "execution_count": null,
   "metadata": {},
   "outputs": [],
   "source": [
    "# Filter for entries of the first-time directors excluding the 'director' category\n",
    "all_roles = df_principals[(df_principals['nconst'].isin(first_time_directors['nconst']))]\n",
    "\n",
    "# Merge to get the movie years\n",
    "all_roles = all_roles.merge(movies[['tconst', 'startYear']], on='tconst', how='left')\n",
    "\n",
    "# Remove rows with NA in startYear\n",
    "all_roles.dropna(subset=['startYear'], inplace=True)\n",
    "\n",
    "# Merge with first_time_directors to get the first movie year for each director\n",
    "all_roles = all_roles.merge(first_time_directors, on='nconst', how='left')\n",
    "\n",
    "# Filter for movies before their directorial debut\n",
    "prior_work = all_roles[all_roles['startYear'] < all_roles['firstYear']]\n",
    "\n",
    "# Filter for movies where they took on 'self' as their role\n",
    "prior_work = prior_work[prior_work['category'] != \"self\"]\n",
    "\n",
    "# Aggregate data for directors with prior experience\n",
    "directors_prior_experience = prior_work.groupby('nconst').agg({\n",
    "    'tconst': 'count', \n",
    "    'category': lambda x: list(set(x))\n",
    "    }).rename(columns={'tconst': 'movie_count', 'category': 'roles'})\n",
    "\n",
    "# Initialize a DataFrame with all first-time directors\n",
    "all_first_time_directors = pd.DataFrame({'nconst': first_time_directors['nconst']})\n",
    "all_first_time_directors['had_prior_experience'] = 0  # Initialize with 0\n",
    "\n",
    "# Merge with directors_prior_experience\n",
    "all_first_time_directors = all_first_time_directors.merge(directors_prior_experience, on='nconst', how='left')\n",
    "\n",
    "# Update the 'had_prior_experience' column to 1 for directors who had prior experience\n",
    "all_first_time_directors.loc[all_first_time_directors['movie_count'] > 0, 'had_prior_experience'] = 1\n",
    "\n",
    "# Fill NaN values for directors without prior experience\n",
    "all_first_time_directors['movie_count'].fillna(0, inplace=True)"
   ]
  },
  {
   "cell_type": "code",
   "execution_count": null,
   "metadata": {},
   "outputs": [],
   "source": [
    "all_first_time_directors.groupby('movie_count')['nconst'].count().reset_index(name='number_of_directors')"
   ]
  },
  {
   "cell_type": "code",
   "execution_count": null,
   "metadata": {},
   "outputs": [],
   "source": [
    "# Flatten the list of roles and count each occurrence\n",
    "role_counts = directors_prior_experience.explode('roles')['roles'].value_counts()\n",
    "\n",
    "# Create a bar chart\n",
    "plt.figure(figsize=(10, 6))\n",
    "role_counts.plot(kind='bar', color='#8BD8BD')\n",
    "\n",
    "# Adding labels and title\n",
    "plt.title('Count of First-Time Directors with Prior Experience in Certain Roles')\n",
    "plt.xlabel('Roles')\n",
    "plt.ylabel('Number of Directors')\n",
    "\n",
    "plt.xticks(rotation=45)  # Rotate the x-axis labels for better readability\n",
    "plt.show()"
   ]
  },
  {
   "cell_type": "code",
   "execution_count": null,
   "metadata": {},
   "outputs": [],
   "source": [
    "# Merge the DataFrames on 'nconst'\n",
    "all_first_time_directors = all_directors.merge(all_first_time_directors, on='nconst', how='inner')\n",
    "\n"
   ]
  },
  {
   "cell_type": "code",
   "execution_count": null,
   "metadata": {},
   "outputs": [],
   "source": [
    "all_first_time_directors.to_csv('directors_pre_post_debut_careers.csv', index=False)"
   ]
  }
 ],
 "metadata": {
  "kernelspec": {
   "display_name": "Python 3",
   "language": "python",
   "name": "python3"
  },
  "language_info": {
   "codemirror_mode": {
    "name": "ipython",
    "version": 3
   },
   "file_extension": ".py",
   "mimetype": "text/x-python",
   "name": "python",
   "nbconvert_exporter": "python",
   "pygments_lexer": "ipython3",
   "version": "3.12.1"
  }
 },
 "nbformat": 4,
 "nbformat_minor": 2
}

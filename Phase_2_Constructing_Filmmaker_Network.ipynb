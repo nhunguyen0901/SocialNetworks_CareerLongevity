{
 "cells": [
  {
   "cell_type": "markdown",
   "metadata": {},
   "source": [
    "# Constructing dynamic collaboration networks and calculating social capital using IMDb data\n",
    "*Julie Nguyen, PhD candidate in Management (Organizational Behavior), McGill University*\n",
    "\n",
    "Welcome to the second chapter of our exploration into how social networks shape the careers of filmmakers. Our end goal is to find out whether connections with network brokers—those pivotal individuals who link separate creative circles—significantly boost the careers of movie directors, and importantly, if these benefits are experienced differently by women and men.\n",
    "\n",
    "**What are we aiming to do?**\n",
    "\n",
    "Building on the groundwork laid in `Phase_1_Tracking_Movie_Directors_Career.ipynb`, where we cataloged films from 2000 to 2023, we now shift our attention to constructing dynamic networks of filmmakers and calculating their annual brokerage scores within these networks over this period. We'll utilize tools such as pandas for data handling, matplotlib and plotly for visualization, networkx for network analysis, and multiprocessing to handle computations efficiently.\n",
    "\n",
    "First thing first, what do we mean by 'brokerage'? Network scientists use this term to describe the role of individuals who act as bridges between different groups or clusters of people within a network. These brokers are vital because they enable the flow of information and resources across the network, thereby creating new opportunities for other people and enhancing brokers' own influence and access to diverse resources. This ability to connect disparate groups makes brokerage a powerful form of social capital—a valuable asset in any industry, particularly in filmmaking, where success often depends on collaboration and the timely exchange of ideas.\n",
    "\n",
    "Second, how do we measure someone's levels of brokerage social capital? We'll use three key metrics: \n",
    "- **Constraint**, which shows how much a person's contacts are connected to each other. Lower constraint indicates that a person has fewer redundant connections and more unique contacts, suggesting greater brokerage potential.\n",
    "- **Effective size**, which measures the number of useful non-redundant connections an individual has. A higher effective size means a broader reach within the network.\n",
    "- **Local clustering**, which assesses how closely connected an individual's immediate contacts are to each other. Lower clustering indicates that the individual is likely the sole link between different groups, enhancing their brokerage role.\n",
    "\n",
    "In later analysis, we will analyze how a director's and their collaborators' brokerage scores might influence that director's career longevity and productivity. \n",
    "\n",
    "**How do we manage massive network data?**\n",
    "\n",
    "Imagine a vast network of nearly 100,000 individuals with potential connections reaching nearly 5 billion in a single year. Over 23 years, this grows to more than 100 billion potential connections. This staggering complexity stems from the fact that relationship between the number of people and potential connections is quadratic—meaning as more individuals join, the potential for new connections increases exponentially, because each newcomer can in theory connect with all the existing members. \n",
    "\n",
    "To handle this vast amount of data efficiently, we will use parallel processing. Initially, we'll test our methods on a smaller, simulated network that mirrors real-world conditions, ensuring our approaches are solid before applying them to the full dataset.\n",
    "\n",
    "**Our approach to network analysis:**\n",
    "\n",
    "1. Who are we including in the network?\n",
    "\n",
    "We will include people in key creative roles—directors, producers, writers, editors, cinematographers, production designers, and composers—people who significantly shape the narrative and artistic direction of a movie.\n",
    "\n",
    "2. How do we define a connection?\n",
    "\n",
    "Using a three-year rolling window, we consider filmmakers to be connected if they have collaborated within the last three years, allowing us to capture the dynamic nature of professional relationships.\n",
    "\n",
    "3. How do we map a network that is ever changing?\n",
    "\n",
    "Collaboration networks are in constant flux: some people enter the industry, some people leave it. We capture these shifts by constructing and analyzing 21 sequential network graphs, each covering a span of three years. This approach allows us to assess the current social capital of individuals based on their connections in the previous three years.\n",
    "\n",
    "4. How do we measure brokerage social capital?\n",
    "\n",
    "We evaluate the reach and influence of filmmakers within these networks using three key metrics: constraint, effective size, and local clustering. These measures provide insights into the networking prowess of industry professionals annually.\n",
    "\n",
    "**Looking ahead**\n",
    "\n",
    "By the end of this notebook, we will have calculated the annual brokerage scores for every key creative professional in our dataset from 2003 to 2023. This prepares us for the subsequent phase of our research, where we'll explore whether and how the social capital of a director's collaborators predicts the director's career outcomes."
   ]
  },
  {
   "cell_type": "markdown",
   "metadata": {},
   "source": [
    "# Identifying creative workers in the film industry (2000-2023)\n",
    "\n",
    "In this segment, we'll pinpoint the key creative personnel behind the movies released between 2000 and 2023. These individuals represent the nodes in our collaboration networks. We're drawing from two datasets:\n",
    "- `movies_2000_2023.csv`: a dataset we compiled in the earlier phase `Phase_1_Tracking_Movie_Directors_Career.ipynb`, which documents films released over the last 23 years. \n",
    "- `title.principals.tsv.gz`: A comprehensive IMDb dataset detailing the key personnel involved in these productions.\n",
    "\n",
    "By the end of this segment, we'll have created the `movies_collaborations_2000_2023` dataset. Here's what it includes:\n",
    "- Movie ID (`tconst`): A unique identifier for each film.\n",
    "- Person ID (`nconst`): Unique identifiers for each creative worker invovled in these films.\n",
    "- Role (`category`): This specifies the role each person played, be it director, producer, writer, editor, cinematographer, production designer, or composer.\n",
    "- Movie Release Year (`startYear`):  The release year of each film.\n",
    "\n",
    "From this data, we can see who worked with whom, in which capacity, and when, enabling us to build the collaboration networks over time."
   ]
  },
  {
   "cell_type": "code",
   "execution_count": 3,
   "metadata": {},
   "outputs": [],
   "source": [
    "# imports libraries\n",
    "import pandas as pd # data handling and analysis\n",
    "import os # interacting with the computer's operating system\n",
    "import itertools # working with sequences of data\n",
    "import networkx as nx # network analysis\n",
    "import random # generate random numbers or selecting random elements\n",
    "from collections import deque # keeping track of a list of items\n",
    "import multiprocessing as mp # allowing tasks to be done simultaneously, speeding up computing processes\n",
    "import pickle # saving and loading Python objects to and from files\n",
    "import matplotlib.pyplot as plt # visualizing data\n",
    "import numpy as np # dealing with numerical data and calculations\n",
    "import plotly.graph_objects as go # producing interactive visualizations\n",
    "import plotly.io as pio # exporting and displaying interactive visualizations\n",
    "\n",
    "# Setting the working directory to ensure file paths are accessed correctly\n",
    "os.chdir('/Users/mac/Library/CloudStorage/OneDrive-McGillUniversity/Work/Projects/Gender and brokerage/WomenLeaders_SocialNetworks')"
   ]
  },
  {
   "cell_type": "code",
   "execution_count": 15,
   "metadata": {},
   "outputs": [
    {
     "data": {
      "text/html": [
       "<div>\n",
       "<style scoped>\n",
       "    .dataframe tbody tr th:only-of-type {\n",
       "        vertical-align: middle;\n",
       "    }\n",
       "\n",
       "    .dataframe tbody tr th {\n",
       "        vertical-align: top;\n",
       "    }\n",
       "\n",
       "    .dataframe thead th {\n",
       "        text-align: right;\n",
       "    }\n",
       "</style>\n",
       "<table border=\"1\" class=\"dataframe\">\n",
       "  <thead>\n",
       "    <tr style=\"text-align: right;\">\n",
       "      <th></th>\n",
       "      <th>tconst</th>\n",
       "      <th>startYear</th>\n",
       "      <th>genres</th>\n",
       "    </tr>\n",
       "  </thead>\n",
       "  <tbody>\n",
       "    <tr>\n",
       "      <th>0</th>\n",
       "      <td>tt0011801</td>\n",
       "      <td>2019.0</td>\n",
       "      <td>Action,Crime</td>\n",
       "    </tr>\n",
       "    <tr>\n",
       "      <th>1</th>\n",
       "      <td>tt0013274</td>\n",
       "      <td>2021.0</td>\n",
       "      <td>Documentary</td>\n",
       "    </tr>\n",
       "    <tr>\n",
       "      <th>2</th>\n",
       "      <td>tt0015414</td>\n",
       "      <td>2000.0</td>\n",
       "      <td>\\N</td>\n",
       "    </tr>\n",
       "    <tr>\n",
       "      <th>3</th>\n",
       "      <td>tt0028248</td>\n",
       "      <td>2022.0</td>\n",
       "      <td>Musical</td>\n",
       "    </tr>\n",
       "    <tr>\n",
       "      <th>4</th>\n",
       "      <td>tt0035423</td>\n",
       "      <td>2001.0</td>\n",
       "      <td>Comedy,Fantasy,Romance</td>\n",
       "    </tr>\n",
       "  </tbody>\n",
       "</table>\n",
       "</div>"
      ],
      "text/plain": [
       "      tconst  startYear                  genres\n",
       "0  tt0011801     2019.0            Action,Crime\n",
       "1  tt0013274     2021.0             Documentary\n",
       "2  tt0015414     2000.0                      \\N\n",
       "3  tt0028248     2022.0                 Musical\n",
       "4  tt0035423     2001.0  Comedy,Fantasy,Romance"
      ]
     },
     "execution_count": 15,
     "metadata": {},
     "output_type": "execute_result"
    }
   ],
   "source": [
    "# Loading the dataset of movies released from 2000 to 2023 created previously\n",
    "movies_2000_2023 = pd.read_csv('movies_2000_2023.csv')\n",
    "\n",
    "# Displaying the initial rows of the movies dataset to verify correct data loading and format\n",
    "movies_2000_2023.head()"
   ]
  },
  {
   "cell_type": "markdown",
   "metadata": {},
   "source": [
    "So the data we are starting with contains all movies released between 2000 and 2023, with each row representing each movie, along with the following info: movie ID (`tconst`), release year (`startYear`), and genres (`genres`). From here, we can get the creative workers involved in these movies using IMDb's principals data."
   ]
  },
  {
   "cell_type": "code",
   "execution_count": 4,
   "metadata": {},
   "outputs": [],
   "source": [
    "# Load the IMDb dataset containing information about key personnel (principals) in movie productions \n",
    "# This is to identify creative workers in each film released between 2000 and 2023\n",
    "url_principals = 'https://datasets.imdbws.com/title.principals.tsv.gz'\n",
    "df_principals = pd.read_csv(url_principals, sep='\\t', compression='gzip', encoding='utf-8', low_memory=False)\n",
    "\n",
    "# Filter the principals dataset to include only those in creative roles\n",
    "creative_roles = ['director', 'producer', 'writer', 'editor', 'cinematographer', 'production_designer', 'composer']\n",
    "df_principals = df_principals[df_principals['category'].isin(creative_roles)]\n",
    "\n",
    "# Merge the movies dataset with the filtered principals dataset\n",
    "# This creates a dataset linking movies released between 2000 and 2023 with the creative personnel involved\n",
    "movies_collaborations_2000_2023 = df_principals[['tconst', 'nconst', 'category']].merge(movies_2000_2023[['tconst', 'startYear']], on='tconst', how='inner')\n",
    "\n",
    "# Save the merged dataset to a CSV file\n",
    "movies_collaborations_2000_2023.to_csv('movies_collaborations_2000_2023.csv' , index=False)"
   ]
  },
  {
   "cell_type": "code",
   "execution_count": 6,
   "metadata": {},
   "outputs": [
    {
     "data": {
      "text/html": [
       "<div>\n",
       "<style scoped>\n",
       "    .dataframe tbody tr th:only-of-type {\n",
       "        vertical-align: middle;\n",
       "    }\n",
       "\n",
       "    .dataframe tbody tr th {\n",
       "        vertical-align: top;\n",
       "    }\n",
       "\n",
       "    .dataframe thead th {\n",
       "        text-align: right;\n",
       "    }\n",
       "</style>\n",
       "<table border=\"1\" class=\"dataframe\">\n",
       "  <thead>\n",
       "    <tr style=\"text-align: right;\">\n",
       "      <th></th>\n",
       "      <th>tconst</th>\n",
       "      <th>nconst</th>\n",
       "      <th>category</th>\n",
       "      <th>startYear</th>\n",
       "    </tr>\n",
       "  </thead>\n",
       "  <tbody>\n",
       "    <tr>\n",
       "      <th>0</th>\n",
       "      <td>tt0011801</td>\n",
       "      <td>nm0483944</td>\n",
       "      <td>writer</td>\n",
       "      <td>2019.0</td>\n",
       "    </tr>\n",
       "    <tr>\n",
       "      <th>1</th>\n",
       "      <td>tt0011801</td>\n",
       "      <td>nm1773808</td>\n",
       "      <td>cinematographer</td>\n",
       "      <td>2019.0</td>\n",
       "    </tr>\n",
       "    <tr>\n",
       "      <th>2</th>\n",
       "      <td>tt0013274</td>\n",
       "      <td>nm0412842</td>\n",
       "      <td>director</td>\n",
       "      <td>2021.0</td>\n",
       "    </tr>\n",
       "    <tr>\n",
       "      <th>3</th>\n",
       "      <td>tt0013274</td>\n",
       "      <td>nm0895048</td>\n",
       "      <td>director</td>\n",
       "      <td>2021.0</td>\n",
       "    </tr>\n",
       "    <tr>\n",
       "      <th>4</th>\n",
       "      <td>tt0013274</td>\n",
       "      <td>nm13054604</td>\n",
       "      <td>producer</td>\n",
       "      <td>2021.0</td>\n",
       "    </tr>\n",
       "  </tbody>\n",
       "</table>\n",
       "</div>"
      ],
      "text/plain": [
       "      tconst      nconst         category  startYear\n",
       "0  tt0011801   nm0483944           writer     2019.0\n",
       "1  tt0011801   nm1773808  cinematographer     2019.0\n",
       "2  tt0013274   nm0412842         director     2021.0\n",
       "3  tt0013274   nm0895048         director     2021.0\n",
       "4  tt0013274  nm13054604         producer     2021.0"
      ]
     },
     "execution_count": 6,
     "metadata": {},
     "output_type": "execute_result"
    }
   ],
   "source": [
    "# Displaying the initial rows of the merged dataset to ensure the correct merging of movie and personnel data\n",
    "movies_collaborations_2000_2023.head()"
   ]
  },
  {
   "cell_type": "markdown",
   "metadata": {},
   "source": [
    "With the `movies_collaborations_2000_2023` data, we have a bipartite network (also called a two-mode network), with each row signifying a link between a creative worker (`nconst`)and a movie (`tconst`), indicating their involvement in that particular movie."
   ]
  },
  {
   "cell_type": "code",
   "execution_count": 7,
   "metadata": {},
   "outputs": [
    {
     "data": {
      "text/plain": [
       "tconst       296524\n",
       "nconst       571851\n",
       "category          7\n",
       "startYear        24\n",
       "dtype: int64"
      ]
     },
     "execution_count": 7,
     "metadata": {},
     "output_type": "execute_result"
    }
   ],
   "source": [
    "# Calculating and displaying the number of unique movies and creative workers to understand the scope of the dataset\n",
    "movies_collaborations_2000_2023.nunique()"
   ]
  },
  {
   "cell_type": "markdown",
   "metadata": {},
   "source": [
    "Our network comprise 571,851 creative workers who worked on 296,524 movies. Let's count the number of movies and creative personnel, as well as the average size of the creative team per movie for each year. This gives us a sense of the industry's scope and the scale of collaboration over time."
   ]
  },
  {
   "cell_type": "code",
   "execution_count": 18,
   "metadata": {},
   "outputs": [],
   "source": [
    "# Aggregating the data by release year count the unique number of movies and creative personnel by year\n",
    "count_movies_people = movies_collaborations_2000_2023.groupby('startYear').agg(\n",
    "    num_movies=('tconst', pd.Series.nunique),\n",
    "    num_creative_workers=('nconst', pd.Series.nunique)\n",
    ")\n",
    "\n",
    "# Calculate the average team size by year to gauge collaboration scale\n",
    "# Group by release year and movie id to count the unique number of people involved in each movie\n",
    "creative_team_size = movies_collaborations_2000_2023.groupby(['startYear', 'tconst']).nconst.nunique()\n",
    "# Group by release year again and calculate the average size of these teams for each year\n",
    "average_creative_team_size = creative_team_size.groupby('startYear').mean().rename('average_creative_team_size')\n",
    "\n",
    "# Merge the counts and average team size into a single dataframe for analysis\n",
    "summary_df = pd.merge(count_movies_people, average_creative_team_size, on='startYear').reset_index()"
   ]
  },
  {
   "cell_type": "code",
   "execution_count": 19,
   "metadata": {},
   "outputs": [
    {
     "data": {
      "text/html": [
       "<div>\n",
       "<style scoped>\n",
       "    .dataframe tbody tr th:only-of-type {\n",
       "        vertical-align: middle;\n",
       "    }\n",
       "\n",
       "    .dataframe tbody tr th {\n",
       "        vertical-align: top;\n",
       "    }\n",
       "\n",
       "    .dataframe thead th {\n",
       "        text-align: right;\n",
       "    }\n",
       "</style>\n",
       "<table border=\"1\" class=\"dataframe\">\n",
       "  <thead>\n",
       "    <tr style=\"text-align: right;\">\n",
       "      <th></th>\n",
       "      <th>startYear</th>\n",
       "      <th>num_movies</th>\n",
       "      <th>num_creative_workers</th>\n",
       "      <th>average_creative_team_size</th>\n",
       "    </tr>\n",
       "  </thead>\n",
       "  <tbody>\n",
       "    <tr>\n",
       "      <th>0</th>\n",
       "      <td>2000.0</td>\n",
       "      <td>4919</td>\n",
       "      <td>17914</td>\n",
       "      <td>4.313275</td>\n",
       "    </tr>\n",
       "    <tr>\n",
       "      <th>1</th>\n",
       "      <td>2001.0</td>\n",
       "      <td>5337</td>\n",
       "      <td>19201</td>\n",
       "      <td>4.266254</td>\n",
       "    </tr>\n",
       "    <tr>\n",
       "      <th>2</th>\n",
       "      <td>2002.0</td>\n",
       "      <td>5496</td>\n",
       "      <td>20038</td>\n",
       "      <td>4.269651</td>\n",
       "    </tr>\n",
       "    <tr>\n",
       "      <th>3</th>\n",
       "      <td>2003.0</td>\n",
       "      <td>5698</td>\n",
       "      <td>21288</td>\n",
       "      <td>4.316076</td>\n",
       "    </tr>\n",
       "    <tr>\n",
       "      <th>4</th>\n",
       "      <td>2004.0</td>\n",
       "      <td>6321</td>\n",
       "      <td>23662</td>\n",
       "      <td>4.325107</td>\n",
       "    </tr>\n",
       "    <tr>\n",
       "      <th>5</th>\n",
       "      <td>2005.0</td>\n",
       "      <td>7225</td>\n",
       "      <td>26717</td>\n",
       "      <td>4.261730</td>\n",
       "    </tr>\n",
       "    <tr>\n",
       "      <th>6</th>\n",
       "      <td>2006.0</td>\n",
       "      <td>7859</td>\n",
       "      <td>29483</td>\n",
       "      <td>4.300674</td>\n",
       "    </tr>\n",
       "    <tr>\n",
       "      <th>7</th>\n",
       "      <td>2007.0</td>\n",
       "      <td>8461</td>\n",
       "      <td>31641</td>\n",
       "      <td>4.252807</td>\n",
       "    </tr>\n",
       "    <tr>\n",
       "      <th>8</th>\n",
       "      <td>2008.0</td>\n",
       "      <td>9879</td>\n",
       "      <td>36051</td>\n",
       "      <td>4.172183</td>\n",
       "    </tr>\n",
       "    <tr>\n",
       "      <th>9</th>\n",
       "      <td>2009.0</td>\n",
       "      <td>11330</td>\n",
       "      <td>40796</td>\n",
       "      <td>4.101236</td>\n",
       "    </tr>\n",
       "    <tr>\n",
       "      <th>10</th>\n",
       "      <td>2010.0</td>\n",
       "      <td>12167</td>\n",
       "      <td>43329</td>\n",
       "      <td>4.045944</td>\n",
       "    </tr>\n",
       "    <tr>\n",
       "      <th>11</th>\n",
       "      <td>2011.0</td>\n",
       "      <td>12988</td>\n",
       "      <td>45649</td>\n",
       "      <td>4.020634</td>\n",
       "    </tr>\n",
       "    <tr>\n",
       "      <th>12</th>\n",
       "      <td>2012.0</td>\n",
       "      <td>13916</td>\n",
       "      <td>48655</td>\n",
       "      <td>4.001437</td>\n",
       "    </tr>\n",
       "    <tr>\n",
       "      <th>13</th>\n",
       "      <td>2013.0</td>\n",
       "      <td>14722</td>\n",
       "      <td>51881</td>\n",
       "      <td>4.020717</td>\n",
       "    </tr>\n",
       "    <tr>\n",
       "      <th>14</th>\n",
       "      <td>2014.0</td>\n",
       "      <td>15735</td>\n",
       "      <td>55419</td>\n",
       "      <td>4.027391</td>\n",
       "    </tr>\n",
       "    <tr>\n",
       "      <th>15</th>\n",
       "      <td>2015.0</td>\n",
       "      <td>16050</td>\n",
       "      <td>56475</td>\n",
       "      <td>4.038816</td>\n",
       "    </tr>\n",
       "    <tr>\n",
       "      <th>16</th>\n",
       "      <td>2016.0</td>\n",
       "      <td>17140</td>\n",
       "      <td>59502</td>\n",
       "      <td>4.011435</td>\n",
       "    </tr>\n",
       "    <tr>\n",
       "      <th>17</th>\n",
       "      <td>2017.0</td>\n",
       "      <td>17604</td>\n",
       "      <td>61024</td>\n",
       "      <td>4.018689</td>\n",
       "    </tr>\n",
       "    <tr>\n",
       "      <th>18</th>\n",
       "      <td>2018.0</td>\n",
       "      <td>17853</td>\n",
       "      <td>61826</td>\n",
       "      <td>4.030919</td>\n",
       "    </tr>\n",
       "    <tr>\n",
       "      <th>19</th>\n",
       "      <td>2019.0</td>\n",
       "      <td>17514</td>\n",
       "      <td>60931</td>\n",
       "      <td>4.085931</td>\n",
       "    </tr>\n",
       "    <tr>\n",
       "      <th>20</th>\n",
       "      <td>2020.0</td>\n",
       "      <td>14974</td>\n",
       "      <td>51207</td>\n",
       "      <td>3.917323</td>\n",
       "    </tr>\n",
       "    <tr>\n",
       "      <th>21</th>\n",
       "      <td>2021.0</td>\n",
       "      <td>17081</td>\n",
       "      <td>58133</td>\n",
       "      <td>3.999005</td>\n",
       "    </tr>\n",
       "    <tr>\n",
       "      <th>22</th>\n",
       "      <td>2022.0</td>\n",
       "      <td>18805</td>\n",
       "      <td>64412</td>\n",
       "      <td>4.133688</td>\n",
       "    </tr>\n",
       "    <tr>\n",
       "      <th>23</th>\n",
       "      <td>2023.0</td>\n",
       "      <td>17450</td>\n",
       "      <td>60205</td>\n",
       "      <td>4.160688</td>\n",
       "    </tr>\n",
       "  </tbody>\n",
       "</table>\n",
       "</div>"
      ],
      "text/plain": [
       "    startYear  num_movies  num_creative_workers  average_creative_team_size\n",
       "0      2000.0        4919                 17914                    4.313275\n",
       "1      2001.0        5337                 19201                    4.266254\n",
       "2      2002.0        5496                 20038                    4.269651\n",
       "3      2003.0        5698                 21288                    4.316076\n",
       "4      2004.0        6321                 23662                    4.325107\n",
       "5      2005.0        7225                 26717                    4.261730\n",
       "6      2006.0        7859                 29483                    4.300674\n",
       "7      2007.0        8461                 31641                    4.252807\n",
       "8      2008.0        9879                 36051                    4.172183\n",
       "9      2009.0       11330                 40796                    4.101236\n",
       "10     2010.0       12167                 43329                    4.045944\n",
       "11     2011.0       12988                 45649                    4.020634\n",
       "12     2012.0       13916                 48655                    4.001437\n",
       "13     2013.0       14722                 51881                    4.020717\n",
       "14     2014.0       15735                 55419                    4.027391\n",
       "15     2015.0       16050                 56475                    4.038816\n",
       "16     2016.0       17140                 59502                    4.011435\n",
       "17     2017.0       17604                 61024                    4.018689\n",
       "18     2018.0       17853                 61826                    4.030919\n",
       "19     2019.0       17514                 60931                    4.085931\n",
       "20     2020.0       14974                 51207                    3.917323\n",
       "21     2021.0       17081                 58133                    3.999005\n",
       "22     2022.0       18805                 64412                    4.133688\n",
       "23     2023.0       17450                 60205                    4.160688"
      ]
     },
     "execution_count": 19,
     "metadata": {},
     "output_type": "execute_result"
    }
   ],
   "source": [
    "# Displaying the summary DataFrame to review the data on movie production and creative team dynamics from 2000 to 2023.\n",
    "summary_df"
   ]
  },
  {
   "cell_type": "markdown",
   "metadata": {},
   "source": [
    "Let's create bar charts to visualize trends in the number of movies, the number of people involved, and the average team size across the years."
   ]
  },
  {
   "cell_type": "code",
   "execution_count": 21,
   "metadata": {},
   "outputs": [
    {
     "data": {
      "image/png": "[encoded data removed]",
      "text/plain": [
       "<Figure size 1200x600 with 1 Axes>"
      ]
     },
     "metadata": {},
     "output_type": "display_data"
    },
    {
     "data": {
      "image/png": "[encoded data removed]",
      "text/plain": [
       "<Figure size 1200x600 with 1 Axes>"
      ]
     },
     "metadata": {},
     "output_type": "display_data"
    },
    {
     "data": {
      "image/png": "[encoded data removed]",
      "text/plain": [
       "<Figure size 1200x600 with 1 Axes>"
      ]
     },
     "metadata": {},
     "output_type": "display_data"
    }
   ],
   "source": [
    "# Visualize the number of movies per year using a bar chart\n",
    "plt.figure(figsize=(12, 6))\n",
    "plt.bar(summary_df['startYear'], summary_df['num_movies'], color='#e75874', width=0.7)\n",
    "plt.xlabel('Year', fontweight='bold')\n",
    "plt.ylabel('Number of Movies', fontweight='bold')\n",
    "plt.title('Number of Movies per Year (2000-2023)')\n",
    "plt.xticks(rotation=90)\n",
    "plt.show()\n",
    "\n",
    "# Visualize the number of people (creative personnel) per year using a bar chart\n",
    "plt.figure(figsize=(12, 6))\n",
    "plt.bar(summary_df['startYear'], summary_df['num_creative_workers'], color='#be1558', width=0.7)\n",
    "plt.xlabel('Year', fontweight='bold')\n",
    "plt.ylabel('Number of Creative Workers', fontweight='bold')\n",
    "plt.title('Number of Creative Workers per Year (2000-2023)')\n",
    "plt.xticks(rotation=90)\n",
    "plt.show()\n",
    "\n",
    "# Visualize the average team size per year using a bar chart\n",
    "plt.figure(figsize=(12, 6))\n",
    "plt.bar(summary_df['startYear'], summary_df['average_creative_team_size'], color='#fbcbc9', width=0.7)\n",
    "plt.xlabel('Year', fontweight='bold')\n",
    "plt.ylabel('Average Creative Team Size', fontweight='bold')\n",
    "plt.title('Average Creative Team Size per Year (2000-2023)')\n",
    "plt.xticks(rotation=90)\n",
    "plt.show()"
   ]
  },
  {
   "cell_type": "markdown",
   "metadata": {},
   "source": [
    "The overall trend shows a significant increase in both the number of movies and the number of creative personnel, highlighting an expanding industry. However, there was a noticeable dip in 2020, likely due to the disruptions caused by the Covid-19 pandemic, with a swift recovery by 2022.\n",
    "\n",
    "Interestingly, the average size of the creative teams remains relatively constant, suggesting a stable collaboration pattern despite the industry's growth."
   ]
  },
  {
   "cell_type": "markdown",
   "metadata": {},
   "source": [
    "# Understanding Network Evolution Through Moving Windows\n",
    "\n",
    "As we use a three-year moving window to analyze the yearly brokerage social capital of filmmakers, understanding the evolution of this network is crucial. Thus, let's calculate the number of movies, people, and potential connections for each 21 three-year periods starting from 2000-2002 up to 2020-2022:"
   ]
  },
  {
   "cell_type": "code",
   "execution_count": null,
   "metadata": {},
   "outputs": [],
   "source": [
    "# Initialize a list to store counts for each 3-year moving window\n",
    "window_counts = []\n",
    "\n",
    "# Loop through each year to calculate the counts for each 3-year moving window\n",
    "for year in range(2003, 2024):  # From 2003 to 2023\n",
    "    start_year = year - 3  # Start of the 3-year window\n",
    "    end_year = year - 1    # End of the 3-year window\n",
    "\n",
    "    # Filter the data for the current window\n",
    "    window_data = movies_collaborations_2000_2023[\n",
    "        movies_collaborations_2000_2023['startYear'].between(start_year, end_year)\n",
    "    ]\n",
    "\n",
    "    # Count the unique number of movies and people in the window\n",
    "    num_movies = window_data['tconst'].nunique()\n",
    "    num_people = window_data['nconst'].nunique()\n",
    "\n",
    "    # Append the counts to the list\n",
    "    window_counts.append({\n",
    "        'Window Start': start_year,\n",
    "        'Window End': end_year,\n",
    "        'Number of Movies': num_movies,\n",
    "        'Number of People': num_people\n",
    "    })\n",
    "\n",
    "# Convert the list of counts into a DataFrame\n",
    "window_counts_df = pd.DataFrame(window_counts)\n",
    "\n",
    "# Calculate potential connections for each window\n",
    "window_counts_df['Potential Connections'] = window_counts_df['Number of People'].apply(lambda n: n * (n - 1) / 2)"
   ]
  },
  {
   "cell_type": "code",
   "execution_count": 10,
   "metadata": {},
   "outputs": [
    {
     "data": {
      "text/html": [
       "<div>\n",
       "<style scoped>\n",
       "    .dataframe tbody tr th:only-of-type {\n",
       "        vertical-align: middle;\n",
       "    }\n",
       "\n",
       "    .dataframe tbody tr th {\n",
       "        vertical-align: top;\n",
       "    }\n",
       "\n",
       "    .dataframe thead th {\n",
       "        text-align: right;\n",
       "    }\n",
       "</style>\n",
       "<table border=\"1\" class=\"dataframe\">\n",
       "  <thead>\n",
       "    <tr style=\"text-align: right;\">\n",
       "      <th></th>\n",
       "      <th>Window Start</th>\n",
       "      <th>Window End</th>\n",
       "      <th>Number of Movies</th>\n",
       "      <th>Number of People</th>\n",
       "      <th>Potential Connections</th>\n",
       "    </tr>\n",
       "  </thead>\n",
       "  <tbody>\n",
       "    <tr>\n",
       "      <th>0</th>\n",
       "      <td>2000</td>\n",
       "      <td>2002</td>\n",
       "      <td>15752</td>\n",
       "      <td>47308</td>\n",
       "      <td>1.119000e+09</td>\n",
       "    </tr>\n",
       "    <tr>\n",
       "      <th>1</th>\n",
       "      <td>2001</td>\n",
       "      <td>2003</td>\n",
       "      <td>16531</td>\n",
       "      <td>50348</td>\n",
       "      <td>1.267435e+09</td>\n",
       "    </tr>\n",
       "    <tr>\n",
       "      <th>2</th>\n",
       "      <td>2002</td>\n",
       "      <td>2004</td>\n",
       "      <td>17515</td>\n",
       "      <td>54554</td>\n",
       "      <td>1.488042e+09</td>\n",
       "    </tr>\n",
       "    <tr>\n",
       "      <th>3</th>\n",
       "      <td>2003</td>\n",
       "      <td>2005</td>\n",
       "      <td>19244</td>\n",
       "      <td>60562</td>\n",
       "      <td>1.833848e+09</td>\n",
       "    </tr>\n",
       "    <tr>\n",
       "      <th>4</th>\n",
       "      <td>2004</td>\n",
       "      <td>2006</td>\n",
       "      <td>21405</td>\n",
       "      <td>67372</td>\n",
       "      <td>2.269460e+09</td>\n",
       "    </tr>\n",
       "    <tr>\n",
       "      <th>5</th>\n",
       "      <td>2005</td>\n",
       "      <td>2007</td>\n",
       "      <td>23545</td>\n",
       "      <td>73952</td>\n",
       "      <td>2.734412e+09</td>\n",
       "    </tr>\n",
       "    <tr>\n",
       "      <th>6</th>\n",
       "      <td>2006</td>\n",
       "      <td>2008</td>\n",
       "      <td>26199</td>\n",
       "      <td>81723</td>\n",
       "      <td>3.339284e+09</td>\n",
       "    </tr>\n",
       "    <tr>\n",
       "      <th>7</th>\n",
       "      <td>2007</td>\n",
       "      <td>2009</td>\n",
       "      <td>29670</td>\n",
       "      <td>91552</td>\n",
       "      <td>4.190839e+09</td>\n",
       "    </tr>\n",
       "    <tr>\n",
       "      <th>8</th>\n",
       "      <td>2008</td>\n",
       "      <td>2010</td>\n",
       "      <td>33376</td>\n",
       "      <td>101591</td>\n",
       "      <td>5.160315e+09</td>\n",
       "    </tr>\n",
       "    <tr>\n",
       "      <th>9</th>\n",
       "      <td>2009</td>\n",
       "      <td>2011</td>\n",
       "      <td>36485</td>\n",
       "      <td>109737</td>\n",
       "      <td>6.021050e+09</td>\n",
       "    </tr>\n",
       "    <tr>\n",
       "      <th>10</th>\n",
       "      <td>2010</td>\n",
       "      <td>2012</td>\n",
       "      <td>39071</td>\n",
       "      <td>116681</td>\n",
       "      <td>6.807170e+09</td>\n",
       "    </tr>\n",
       "    <tr>\n",
       "      <th>11</th>\n",
       "      <td>2011</td>\n",
       "      <td>2013</td>\n",
       "      <td>41626</td>\n",
       "      <td>124148</td>\n",
       "      <td>7.706301e+09</td>\n",
       "    </tr>\n",
       "    <tr>\n",
       "      <th>12</th>\n",
       "      <td>2012</td>\n",
       "      <td>2014</td>\n",
       "      <td>44373</td>\n",
       "      <td>132428</td>\n",
       "      <td>8.768521e+09</td>\n",
       "    </tr>\n",
       "    <tr>\n",
       "      <th>13</th>\n",
       "      <td>2013</td>\n",
       "      <td>2015</td>\n",
       "      <td>46507</td>\n",
       "      <td>139007</td>\n",
       "      <td>9.661404e+09</td>\n",
       "    </tr>\n",
       "    <tr>\n",
       "      <th>14</th>\n",
       "      <td>2014</td>\n",
       "      <td>2016</td>\n",
       "      <td>48925</td>\n",
       "      <td>145080</td>\n",
       "      <td>1.052403e+10</td>\n",
       "    </tr>\n",
       "    <tr>\n",
       "      <th>15</th>\n",
       "      <td>2015</td>\n",
       "      <td>2017</td>\n",
       "      <td>50794</td>\n",
       "      <td>149652</td>\n",
       "      <td>1.119779e+10</td>\n",
       "    </tr>\n",
       "    <tr>\n",
       "      <th>16</th>\n",
       "      <td>2016</td>\n",
       "      <td>2018</td>\n",
       "      <td>52597</td>\n",
       "      <td>153984</td>\n",
       "      <td>1.185546e+10</td>\n",
       "    </tr>\n",
       "    <tr>\n",
       "      <th>17</th>\n",
       "      <td>2017</td>\n",
       "      <td>2019</td>\n",
       "      <td>52971</td>\n",
       "      <td>154952</td>\n",
       "      <td>1.200498e+10</td>\n",
       "    </tr>\n",
       "    <tr>\n",
       "      <th>18</th>\n",
       "      <td>2018</td>\n",
       "      <td>2020</td>\n",
       "      <td>50341</td>\n",
       "      <td>148353</td>\n",
       "      <td>1.100423e+10</td>\n",
       "    </tr>\n",
       "    <tr>\n",
       "      <th>19</th>\n",
       "      <td>2019</td>\n",
       "      <td>2021</td>\n",
       "      <td>49569</td>\n",
       "      <td>145963</td>\n",
       "      <td>1.065253e+10</td>\n",
       "    </tr>\n",
       "    <tr>\n",
       "      <th>20</th>\n",
       "      <td>2020</td>\n",
       "      <td>2022</td>\n",
       "      <td>50860</td>\n",
       "      <td>148757</td>\n",
       "      <td>1.106425e+10</td>\n",
       "    </tr>\n",
       "  </tbody>\n",
       "</table>\n",
       "</div>"
      ],
      "text/plain": [
       "    Window Start  Window End  Number of Movies  Number of People  \\\n",
       "0           2000        2002             15752             47308   \n",
       "1           2001        2003             16531             50348   \n",
       "2           2002        2004             17515             54554   \n",
       "3           2003        2005             19244             60562   \n",
       "4           2004        2006             21405             67372   \n",
       "5           2005        2007             23545             73952   \n",
       "6           2006        2008             26199             81723   \n",
       "7           2007        2009             29670             91552   \n",
       "8           2008        2010             33376            101591   \n",
       "9           2009        2011             36485            109737   \n",
       "10          2010        2012             39071            116681   \n",
       "11          2011        2013             41626            124148   \n",
       "12          2012        2014             44373            132428   \n",
       "13          2013        2015             46507            139007   \n",
       "14          2014        2016             48925            145080   \n",
       "15          2015        2017             50794            149652   \n",
       "16          2016        2018             52597            153984   \n",
       "17          2017        2019             52971            154952   \n",
       "18          2018        2020             50341            148353   \n",
       "19          2019        2021             49569            145963   \n",
       "20          2020        2022             50860            148757   \n",
       "\n",
       "    Potential Connections  \n",
       "0            1.119000e+09  \n",
       "1            1.267435e+09  \n",
       "2            1.488042e+09  \n",
       "3            1.833848e+09  \n",
       "4            2.269460e+09  \n",
       "5            2.734412e+09  \n",
       "6            3.339284e+09  \n",
       "7            4.190839e+09  \n",
       "8            5.160315e+09  \n",
       "9            6.021050e+09  \n",
       "10           6.807170e+09  \n",
       "11           7.706301e+09  \n",
       "12           8.768521e+09  \n",
       "13           9.661404e+09  \n",
       "14           1.052403e+10  \n",
       "15           1.119779e+10  \n",
       "16           1.185546e+10  \n",
       "17           1.200498e+10  \n",
       "18           1.100423e+10  \n",
       "19           1.065253e+10  \n",
       "20           1.106425e+10  "
      ]
     },
     "execution_count": 10,
     "metadata": {},
     "output_type": "execute_result"
    }
   ],
   "source": [
    "window_counts_df"
   ]
  },
  {
   "cell_type": "markdown",
   "metadata": {},
   "source": [
    "Let's graph these counts to visualize the size of the creative network across different time periods."
   ]
  },
  {
   "cell_type": "code",
   "execution_count": 13,
   "metadata": {},
   "outputs": [
    {
     "data": {
      "image/png": "[encoded data removed]",
      "text/plain": [
       "<Figure size 1500x800 with 1 Axes>"
      ]
     },
     "metadata": {},
     "output_type": "display_data"
    }
   ],
   "source": [
    "# Visualize the number of movies and people in each 3-year moving window using a line graph\n",
    "# Set positions of the line points\n",
    "r1 = np.arange(len(window_counts_df))\n",
    "\n",
    "# Create the line plots\n",
    "plt.figure(figsize=(15, 8))\n",
    "plt.plot(r1, window_counts_df['Number of Movies'], marker='o', color='#be1558', label='Number of Movies')\n",
    "plt.plot(r1, window_counts_df['Number of People'], marker='o', color='#d9a5b3', label='Number of People')\n",
    "\n",
    "# Add xticks on the middle of the point groups\n",
    "plt.xlabel('Window (Start Year - End Year)', fontweight='bold')\n",
    "plt.ylabel('Counts', fontweight='bold')\n",
    "plt.xticks(r1, [f\"{int(row['Window Start'])}-{int(row['Window End'])}\" for _, row in window_counts_df.iterrows()], rotation=45)\n",
    "\n",
    "# Create legend & Show graphic\n",
    "plt.legend()\n",
    "plt.title('Number of Movies and People per Window (2003-2023)')\n",
    "plt.tight_layout()\n",
    "plt.grid(True)\n",
    "plt.show()\n"
   ]
  },
  {
   "cell_type": "code",
   "execution_count": 15,
   "metadata": {},
   "outputs": [
    {
     "data": {
      "image/png": "[encoded data removed]",
      "text/plain": [
       "<Figure size 1400x800 with 1 Axes>"
      ]
     },
     "metadata": {},
     "output_type": "display_data"
    }
   ],
   "source": [
    "# Set positions of the line points\n",
    "r1 = np.arange(len(window_counts_df))\n",
    "\n",
    "# Plotting the potential connections over time with custom x-axis labels\n",
    "plt.figure(figsize=(14, 8))\n",
    "plt.plot(r1, window_counts_df['Potential Connections'], marker='o', color='purple', label='Potential Connections')\n",
    "plt.title('Potential Connections in the Movie Industry Over 3-Year Spans (2000-2023)')\n",
    "plt.xlabel('Window (Start Year - End Year)', fontweight='bold')\n",
    "plt.ylabel('Potential Connections (in billions)')\n",
    "\n",
    "# Set x-ticks to display 'Start Year - End Year' format\n",
    "plt.xticks(r1, [f\"{int(row['Window Start'])}-{int(row['Window End'])}\" for _, row in window_counts_df.iterrows()], rotation=45)\n",
    "\n",
    "plt.grid(True)\n",
    "plt.legend()\n",
    "plt.tight_layout()\n",
    "plt.show()\n"
   ]
  },
  {
   "cell_type": "markdown",
   "metadata": {},
   "source": [
    "The smallest network appeared in the 2000-2002 window, with 47,308 creative workers, and the largest in the 2017-2019 window, with 154,952 workers.\n",
    "\n",
    "The number of potential connections in our analysis windows is astounding, reaching a peak of approximately 12 billion during the 2017-2019 period. This illustrates the quadratic relationship between the number of people and potential connections in a network. As each new individual joins the network, the possibilities for new connections multiply exponentially; every new member has the potential to link with all previously existing members.\n",
    "\n",
    "Before we dive deeper into the construction and analysis of our networks, I'm curious about the distribution of roles over time. Let's visualize this using donut charts showing the proportion of creative professionals who are directors, writers, composers, etc. "
   ]
  },
  {
   "cell_type": "code",
   "execution_count": 4,
   "metadata": {},
   "outputs": [
    {
     "data": {
      "text/html": [
       "<div>\n",
       "<style scoped>\n",
       "    .dataframe tbody tr th:only-of-type {\n",
       "        vertical-align: middle;\n",
       "    }\n",
       "\n",
       "    .dataframe tbody tr th {\n",
       "        vertical-align: top;\n",
       "    }\n",
       "\n",
       "    .dataframe thead th {\n",
       "        text-align: right;\n",
       "    }\n",
       "</style>\n",
       "<table border=\"1\" class=\"dataframe\">\n",
       "  <thead>\n",
       "    <tr style=\"text-align: right;\">\n",
       "      <th></th>\n",
       "      <th>Decade</th>\n",
       "      <th>category</th>\n",
       "      <th>Count</th>\n",
       "      <th>Total</th>\n",
       "      <th>Percentage</th>\n",
       "    </tr>\n",
       "  </thead>\n",
       "  <tbody>\n",
       "    <tr>\n",
       "      <th>16</th>\n",
       "      <td>2020-2023</td>\n",
       "      <td>director</td>\n",
       "      <td>70880</td>\n",
       "      <td>277303</td>\n",
       "      <td>25.560488</td>\n",
       "    </tr>\n",
       "    <tr>\n",
       "      <th>18</th>\n",
       "      <td>2020-2023</td>\n",
       "      <td>producer</td>\n",
       "      <td>61393</td>\n",
       "      <td>277303</td>\n",
       "      <td>22.139321</td>\n",
       "    </tr>\n",
       "    <tr>\n",
       "      <th>14</th>\n",
       "      <td>2020-2023</td>\n",
       "      <td>cinematographer</td>\n",
       "      <td>40540</td>\n",
       "      <td>277303</td>\n",
       "      <td>14.619387</td>\n",
       "    </tr>\n",
       "    <tr>\n",
       "      <th>20</th>\n",
       "      <td>2020-2023</td>\n",
       "      <td>writer</td>\n",
       "      <td>39074</td>\n",
       "      <td>277303</td>\n",
       "      <td>14.090724</td>\n",
       "    </tr>\n",
       "    <tr>\n",
       "      <th>15</th>\n",
       "      <td>2020-2023</td>\n",
       "      <td>composer</td>\n",
       "      <td>35595</td>\n",
       "      <td>277303</td>\n",
       "      <td>12.836140</td>\n",
       "    </tr>\n",
       "    <tr>\n",
       "      <th>17</th>\n",
       "      <td>2020-2023</td>\n",
       "      <td>editor</td>\n",
       "      <td>26075</td>\n",
       "      <td>277303</td>\n",
       "      <td>9.403072</td>\n",
       "    </tr>\n",
       "    <tr>\n",
       "      <th>19</th>\n",
       "      <td>2020-2023</td>\n",
       "      <td>production_designer</td>\n",
       "      <td>3746</td>\n",
       "      <td>277303</td>\n",
       "      <td>1.350869</td>\n",
       "    </tr>\n",
       "    <tr>\n",
       "      <th>9</th>\n",
       "      <td>2010-2019</td>\n",
       "      <td>director</td>\n",
       "      <td>165022</td>\n",
       "      <td>627544</td>\n",
       "      <td>26.296483</td>\n",
       "    </tr>\n",
       "    <tr>\n",
       "      <th>11</th>\n",
       "      <td>2010-2019</td>\n",
       "      <td>producer</td>\n",
       "      <td>126352</td>\n",
       "      <td>627544</td>\n",
       "      <td>20.134365</td>\n",
       "    </tr>\n",
       "    <tr>\n",
       "      <th>7</th>\n",
       "      <td>2010-2019</td>\n",
       "      <td>cinematographer</td>\n",
       "      <td>90485</td>\n",
       "      <td>627544</td>\n",
       "      <td>14.418909</td>\n",
       "    </tr>\n",
       "    <tr>\n",
       "      <th>8</th>\n",
       "      <td>2010-2019</td>\n",
       "      <td>composer</td>\n",
       "      <td>87441</td>\n",
       "      <td>627544</td>\n",
       "      <td>13.933844</td>\n",
       "    </tr>\n",
       "    <tr>\n",
       "      <th>13</th>\n",
       "      <td>2010-2019</td>\n",
       "      <td>writer</td>\n",
       "      <td>86104</td>\n",
       "      <td>627544</td>\n",
       "      <td>13.720791</td>\n",
       "    </tr>\n",
       "    <tr>\n",
       "      <th>10</th>\n",
       "      <td>2010-2019</td>\n",
       "      <td>editor</td>\n",
       "      <td>62367</td>\n",
       "      <td>627544</td>\n",
       "      <td>9.938267</td>\n",
       "    </tr>\n",
       "    <tr>\n",
       "      <th>12</th>\n",
       "      <td>2010-2019</td>\n",
       "      <td>production_designer</td>\n",
       "      <td>9773</td>\n",
       "      <td>627544</td>\n",
       "      <td>1.557341</td>\n",
       "    </tr>\n",
       "    <tr>\n",
       "      <th>2</th>\n",
       "      <td>2000-2009</td>\n",
       "      <td>director</td>\n",
       "      <td>76270</td>\n",
       "      <td>307641</td>\n",
       "      <td>24.791884</td>\n",
       "    </tr>\n",
       "    <tr>\n",
       "      <th>4</th>\n",
       "      <td>2000-2009</td>\n",
       "      <td>producer</td>\n",
       "      <td>58082</td>\n",
       "      <td>307641</td>\n",
       "      <td>18.879798</td>\n",
       "    </tr>\n",
       "    <tr>\n",
       "      <th>1</th>\n",
       "      <td>2000-2009</td>\n",
       "      <td>composer</td>\n",
       "      <td>46239</td>\n",
       "      <td>307641</td>\n",
       "      <td>15.030181</td>\n",
       "    </tr>\n",
       "    <tr>\n",
       "      <th>0</th>\n",
       "      <td>2000-2009</td>\n",
       "      <td>cinematographer</td>\n",
       "      <td>45187</td>\n",
       "      <td>307641</td>\n",
       "      <td>14.688224</td>\n",
       "    </tr>\n",
       "    <tr>\n",
       "      <th>6</th>\n",
       "      <td>2000-2009</td>\n",
       "      <td>writer</td>\n",
       "      <td>45126</td>\n",
       "      <td>307641</td>\n",
       "      <td>14.668396</td>\n",
       "    </tr>\n",
       "    <tr>\n",
       "      <th>3</th>\n",
       "      <td>2000-2009</td>\n",
       "      <td>editor</td>\n",
       "      <td>31422</td>\n",
       "      <td>307641</td>\n",
       "      <td>10.213853</td>\n",
       "    </tr>\n",
       "    <tr>\n",
       "      <th>5</th>\n",
       "      <td>2000-2009</td>\n",
       "      <td>production_designer</td>\n",
       "      <td>5315</td>\n",
       "      <td>307641</td>\n",
       "      <td>1.727663</td>\n",
       "    </tr>\n",
       "  </tbody>\n",
       "</table>\n",
       "</div>"
      ],
      "text/plain": [
       "       Decade             category   Count   Total  Percentage\n",
       "16  2020-2023             director   70880  277303   25.560488\n",
       "18  2020-2023             producer   61393  277303   22.139321\n",
       "14  2020-2023      cinematographer   40540  277303   14.619387\n",
       "20  2020-2023               writer   39074  277303   14.090724\n",
       "15  2020-2023             composer   35595  277303   12.836140\n",
       "17  2020-2023               editor   26075  277303    9.403072\n",
       "19  2020-2023  production_designer    3746  277303    1.350869\n",
       "9   2010-2019             director  165022  627544   26.296483\n",
       "11  2010-2019             producer  126352  627544   20.134365\n",
       "7   2010-2019      cinematographer   90485  627544   14.418909\n",
       "8   2010-2019             composer   87441  627544   13.933844\n",
       "13  2010-2019               writer   86104  627544   13.720791\n",
       "10  2010-2019               editor   62367  627544    9.938267\n",
       "12  2010-2019  production_designer    9773  627544    1.557341\n",
       "2   2000-2009             director   76270  307641   24.791884\n",
       "4   2000-2009             producer   58082  307641   18.879798\n",
       "1   2000-2009             composer   46239  307641   15.030181\n",
       "0   2000-2009      cinematographer   45187  307641   14.688224\n",
       "6   2000-2009               writer   45126  307641   14.668396\n",
       "3   2000-2009               editor   31422  307641   10.213853\n",
       "5   2000-2009  production_designer    5315  307641    1.727663"
      ]
     },
     "execution_count": 4,
     "metadata": {},
     "output_type": "execute_result"
    }
   ],
   "source": [
    "# Define a function to categorize years into decades\n",
    "def categorize_decade(year):\n",
    "    if 2000 <= year <= 2009:\n",
    "        return \"2000-2009\"\n",
    "    elif 2010 <= year <= 2019:\n",
    "        return \"2010-2019\"\n",
    "    elif 2020 <= year <= 2023:\n",
    "        return \"2020-2023\"\n",
    "    else:\n",
    "        return None\n",
    "\n",
    "# Apply the categorization function to create a new 'Decade' column\n",
    "movies_collaborations_2000_2023['Decade'] = movies_collaborations_2000_2023['startYear'].apply(categorize_decade)\n",
    "\n",
    "# Group by 'Decade' and 'Category' and count occurrences\n",
    "decade_role_counts = movies_collaborations_2000_2023.groupby(['Decade', 'category']).size().reset_index(name='Count')\n",
    "\n",
    "# Calculate the total counts per decade for normalization\n",
    "decade_totals = decade_role_counts.groupby('Decade')['Count'].sum().reset_index(name='Total')\n",
    "\n",
    "# Merge the counts with totals to calculate percentages\n",
    "decade_role_percentage = decade_role_counts.merge(decade_totals, on='Decade')\n",
    "decade_role_percentage['Percentage'] = (decade_role_percentage['Count'] / decade_role_percentage['Total']) * 100\n",
    "\n",
    "# Check the calculated percentages\n",
    "decade_role_percentage.sort_values(by=['Decade', 'Percentage'], ascending=False)\n"
   ]
  },
  {
   "cell_type": "code",
   "execution_count": 5,
   "metadata": {},
   "outputs": [
    {
     "data": {
      "image/png": "[encoded data removed]",
      "text/plain": [
       "<Figure size 1800x600 with 3 Axes>"
      ]
     },
     "metadata": {},
     "output_type": "display_data"
    }
   ],
   "source": [
    "# Function to plot all donut charts side by side using wedgeprops\n",
    "def plot_all_donut_charts_side_by_side(data):\n",
    "    # Define the decades\n",
    "    decades = [\"2000-2009\", \"2010-2019\", \"2020-2023\"]\n",
    "    colors = plt.cm.tab20.colors  # Define a common color scheme for consistency\n",
    "\n",
    "    # Create a figure with 3 subplots (axes)\n",
    "    fig, axes = plt.subplots(1, 3, figsize=(18, 6))\n",
    "\n",
    "    # Loop through each decade and plot on respective ax\n",
    "    for ax, decade in zip(axes, decades):\n",
    "        # Filter the data for the specified decade\n",
    "        decade_data = data[data['Decade'] == decade]\n",
    "        \n",
    "        # Plotting the donut chart using wedgeprops\n",
    "        wedges, texts, autotexts = ax.pie(\n",
    "            decade_data['Percentage'], labels=decade_data['category'], autopct='%1.1f%%',\n",
    "            startangle=140, pctdistance=0.85, colors=colors,\n",
    "            wedgeprops={'width': 0.3}  # Adjust the width to create donut shape\n",
    "        )\n",
    "\n",
    "        # Set aspect ratio to ensure pie is drawn as a circle\n",
    "        ax.axis('equal')\n",
    "        ax.set_title(f'Role Distribution ({decade})')\n",
    "\n",
    "    # Adjust layout to prevent overlap\n",
    "    plt.tight_layout()\n",
    "\n",
    "    # Display the combined plot\n",
    "    plt.show()\n",
    "\n",
    "# Plot all donut charts side by side\n",
    "plot_all_donut_charts_side_by_side(decade_role_percentage)"
   ]
  },
  {
   "cell_type": "markdown",
   "metadata": {},
   "source": [
    "Despite the substantial growth in the industry from 2000 to 2023, the proportional representation of roles has remained remarkably stable, with directors have consistently held the largest share, followed by producers. Meanwhile, cinematographers, writers, and composers maintain a balanced share."
   ]
  },
  {
   "cell_type": "markdown",
   "metadata": {},
   "source": [
    "# Constructing dynamic collaboration network and calculating brokerage social capital \n",
    "\n",
    "With our exploration of creative roles complete, let’s shift our focus to the main task of this notebook: building the dynamic collaboration networks within the film industry and calculate the brokerage social capital for every creative worker involved. From there, we will later obtain the brokerage scores of the directors's collaborators, which will then be used to predict their career longevity.\n",
    "\n",
    "**Implementing a Three-Year Moving Window**\n",
    "\n",
    "We use a three-year moving window to calculate each person's brokerage social capital, examining their collaborations in the years leading up to the target year. For instance, to calculate the social capital for 2003, we look at collaborations from 2000 to 2002. Then, to calculate the social capital for 2004, we look at collaborations from 2001 to 2003, and so on. This method captures the evolving dynamics of the network, reflecting both the dissolution of old ties and the formation of new ones as we move through the timeline up to 2023.\n",
    "\n",
    "**Transforming Data for Network Analysis**\n",
    "\n",
    "Starting with our `movies_collaborations_2000_2023` dataset, which forms a bipartite network of movies and people, our task is to convert this into an edge list for each year. Each edge represents a collaboration between two individuals. We then aggregate edges from three consecutive years to construct a comprehensive network graph for each window, to which we can apply network analysis techniques to compute brokerage scores for everyone in the network.\n",
    "\n",
    "**Automating and Accelerating the Calculation of Brokerage Social Capital**\n",
    "\n",
    "Given the vast scale of our 21 networks, which encompass up to 150,000 individuals and potentially 12 billions of connections, manual analysis is not only impractical but also prone to errors. To streamline this process, let's create a function named `calculate_social_capital`. This function is designed to automate the construction of networks for each year from 2003 to 2023 by pulling collaboration data from the preceding three years and to compute several metrics of brokerage social capital:\n",
    "- Constraint: How much a person’s network contacts are connected to each other, potentially limiting their brokerage opportunities.\n",
    "- Effective Size: The number of unique, non-redundant connections a person has.\n",
    "- Local Clustering: The extent to which a person’s network contacts tend to cluster together.\n"
   ]
  },
  {
   "cell_type": "code",
   "execution_count": 3,
   "metadata": {},
   "outputs": [],
   "source": [
    "# Define a function to calculate various brokerage social capital metrics for a specified year and set of edges\n",
    "# This function is placed in a separate Python script named \"network_analysis_function.py\" for parallel processing\n",
    "def calculate_social_capital(year, edges_by_year):\n",
    "    \n",
    "    # Initialize a rolling window to accumulate edges over a 3-year period\n",
    "    rolling_edges = deque()\n",
    "\n",
    "    # For each year in the 3-year window leading up to the focal year, add the edges to the rolling window\n",
    "    for y in range(year - 3, year):\n",
    "        edges = edges_by_year.get(y, []) # Retrieve edges for the year 'y', defaulting to an empty list if not found\n",
    "        rolling_edges.extend(edges) # Add these edges to the rolling window\n",
    "    \n",
    "    # Create a graph (network) using the edges accumulated in the rolling window\n",
    "    G = nx.Graph()\n",
    "    G.add_edges_from(rolling_edges) # Add the edges to the graph\n",
    "    \n",
    "    # Calculate brokerage scores for the nodes\n",
    "    brokerage_scores = {\n",
    "        # Constraint measures the extent to which a node's connections are to others that are connected to each other\n",
    "        'constraint': nx.constraint(G), \n",
    "        # Effective size is a measure of the number of non-redundant contacts a node has\n",
    "        'effective_size': nx.effective_size(G), \n",
    "        # Local clustering coefficient measures the degree to which nodes in a graph tend to cluster together\n",
    "        'local_clustering': nx.clustering(G) \n",
    "    }\n",
    "    return year, brokerage_scores"
   ]
  },
  {
   "cell_type": "markdown",
   "metadata": {},
   "source": [
    "Now, we can apply this function to each window manually. But we can also speed up the total computation time with parallel processing. It's like an assembly line in a factory, where the task of constructing each network and computing social capital metrics for everyone in the network is distributed across multiple workers/processors. \n",
    "\n",
    "To optimize performance in the Jupyter Notebook environment—which is great for interactive analysis but struggles with intensive parallel processing—we externalize our main functions, `calculate_social_capital` and its wrapper `calculate_social_capital_wrapper`, into separate Python scripts (`network_analysis_function.py` and `parallel_functions.py`). This separation ensures that each processor can independently access and execute these functions without the typical limitations encountered within notebooks."
   ]
  },
  {
   "cell_type": "code",
   "execution_count": null,
   "metadata": {},
   "outputs": [],
   "source": [
    "# Wrapper function for parallel processing\n",
    "# This function is placed in a separate Python script named \"parallel_functions.py\" for parallel processing\n",
    "def calculate_social_capital_wrapper(year, edges_by_year):\n",
    "    # Call the main function to calculate social capital metrics for a given year and its edges\n",
    "    return calculate_social_capital(year, edges_by_year)"
   ]
  },
  {
   "cell_type": "markdown",
   "metadata": {},
   "source": [
    "## Preparing Our Tools: Testing with a Simulated Network\n",
    "\n",
    "Before diving into the vast ocean of our real-world data, let's dip our toes in a more controlled environment with a toy example. This simulated, scaled-down network mimics the complex interactions within the film industry, allowing us to refine our methods in a manageable setting.\n",
    "\n",
    "Here are what we will do to construct our simulated miniature network:\n",
    "\n",
    "1. *Setting Time Frame and Volume:*: We simulate a series of film productions from 2000 to 2006, with two productions per year. This time frame is compact yet sufficient to test the mechanics of our analysis tools without the overwhelming variability of a larger dataset.\n",
    "\n",
    "2. *Populating the Network:* We populate this mini-universe with a set of 11 characters, including three key players who are more frequently involved across projects. This mirrors real-world scenarios where certain individuals are central to multiple projects.\n",
    "\n",
    "3. *Generating Connections:* For each movie, a randomly chosen subset of our cast comes together. This randomness introduces the necessary variability that exists in real-world collaborations. We then create pairs from these selected individuals to represent collaborative ties, which are what we'll use to construct the networks.\n",
    "\n",
    "4. *Visualizing Networks:* With our toy data in hand, we use Plotly and NetworkX to create dynamic visualizations that illustrate how these networks evolve over time.\n",
    "\n",
    "5. *Restructuring the simulated data:* Finally, we transform the simulated data into a formet that mirrors our actual data (`movies_collaborations_2000_2023`), so that each row a link between a person (`nconst`)and a movie (`tconst`) along with the movie release year (`startYear`). This ensures our codes are applicable to our real data.\n",
    "\n",
    "Let's get started!"
   ]
  },
  {
   "cell_type": "code",
   "execution_count": 3,
   "metadata": {},
   "outputs": [],
   "source": [
    "# Create a toy example to test and validate the function before applying it to the real dataset\n",
    "\n",
    "# Set a random seed for reproducibility of results\n",
    "random.seed(1234) \n",
    "\n",
    "# Define the timeframe and structure of the toy dataset\n",
    "years = range(2000, 2006) # Define the range of years for the simulation\n",
    "movies_per_year = 2 # Define the number of simulated movies per year\n",
    "people = ['person' + str(i) for i in range(1, 12)]  # Create a list of fictional people identifiers\n",
    "key_players = ['person1', 'person2', 'person3']  # Define key players who appear more frequently\n",
    "\n",
    "# Generate random collaborations within the defined structure\n",
    "data = []\n",
    "for year in years:\n",
    "    for movie_number in range(1, movies_per_year + 1):\n",
    "        movie_id = f\"movie_{year}_{movie_number}\" # Construct a unique movie identifier\n",
    "        num_people = random.randint(4, 9)  # Choose a random number of people for variability\n",
    "        selected_people = random.sample(people, num_people) # Randomly select people to be involved in the movie\n",
    "        selected_people.extend(random.sample(key_players, 1))  # Ensure inclusion of at least one key player\n",
    "        selected_people = list(set(selected_people))  # Remove any duplicate people\n",
    "        # Create all possible pairs of collaborators to simulate their interactions\n",
    "        for collaboration in itertools.combinations(selected_people, 2):\n",
    "            data.append({'tconst': movie_id, 'startYear': year, 'nconst1': collaboration[0], 'nconst2': collaboration[1]})\n",
    "\n",
    "# Convert the collaboration data into a DataFrame for easier manipulation\n",
    "toy = pd.DataFrame(data)\n"
   ]
  },
  {
   "cell_type": "markdown",
   "metadata": {},
   "source": [
    "Let's see what our toy data looks like:"
   ]
  },
  {
   "cell_type": "code",
   "execution_count": 58,
   "metadata": {},
   "outputs": [
    {
     "data": {
      "text/html": [
       "<div>\n",
       "<style scoped>\n",
       "    .dataframe tbody tr th:only-of-type {\n",
       "        vertical-align: middle;\n",
       "    }\n",
       "\n",
       "    .dataframe tbody tr th {\n",
       "        vertical-align: top;\n",
       "    }\n",
       "\n",
       "    .dataframe thead th {\n",
       "        text-align: right;\n",
       "    }\n",
       "</style>\n",
       "<table border=\"1\" class=\"dataframe\">\n",
       "  <thead>\n",
       "    <tr style=\"text-align: right;\">\n",
       "      <th></th>\n",
       "      <th>tconst</th>\n",
       "      <th>startYear</th>\n",
       "      <th>nconst1</th>\n",
       "      <th>nconst2</th>\n",
       "    </tr>\n",
       "  </thead>\n",
       "  <tbody>\n",
       "    <tr>\n",
       "      <th>0</th>\n",
       "      <td>movie_2000_1</td>\n",
       "      <td>2000</td>\n",
       "      <td>person6</td>\n",
       "      <td>person10</td>\n",
       "    </tr>\n",
       "    <tr>\n",
       "      <th>1</th>\n",
       "      <td>movie_2000_1</td>\n",
       "      <td>2000</td>\n",
       "      <td>person6</td>\n",
       "      <td>person7</td>\n",
       "    </tr>\n",
       "    <tr>\n",
       "      <th>2</th>\n",
       "      <td>movie_2000_1</td>\n",
       "      <td>2000</td>\n",
       "      <td>person6</td>\n",
       "      <td>person11</td>\n",
       "    </tr>\n",
       "    <tr>\n",
       "      <th>3</th>\n",
       "      <td>movie_2000_1</td>\n",
       "      <td>2000</td>\n",
       "      <td>person6</td>\n",
       "      <td>person8</td>\n",
       "    </tr>\n",
       "    <tr>\n",
       "      <th>4</th>\n",
       "      <td>movie_2000_1</td>\n",
       "      <td>2000</td>\n",
       "      <td>person6</td>\n",
       "      <td>person1</td>\n",
       "    </tr>\n",
       "    <tr>\n",
       "      <th>...</th>\n",
       "      <td>...</td>\n",
       "      <td>...</td>\n",
       "      <td>...</td>\n",
       "      <td>...</td>\n",
       "    </tr>\n",
       "    <tr>\n",
       "      <th>253</th>\n",
       "      <td>movie_2005_2</td>\n",
       "      <td>2005</td>\n",
       "      <td>person5</td>\n",
       "      <td>person8</td>\n",
       "    </tr>\n",
       "    <tr>\n",
       "      <th>254</th>\n",
       "      <td>movie_2005_2</td>\n",
       "      <td>2005</td>\n",
       "      <td>person5</td>\n",
       "      <td>person1</td>\n",
       "    </tr>\n",
       "    <tr>\n",
       "      <th>255</th>\n",
       "      <td>movie_2005_2</td>\n",
       "      <td>2005</td>\n",
       "      <td>person11</td>\n",
       "      <td>person8</td>\n",
       "    </tr>\n",
       "    <tr>\n",
       "      <th>256</th>\n",
       "      <td>movie_2005_2</td>\n",
       "      <td>2005</td>\n",
       "      <td>person11</td>\n",
       "      <td>person1</td>\n",
       "    </tr>\n",
       "    <tr>\n",
       "      <th>257</th>\n",
       "      <td>movie_2005_2</td>\n",
       "      <td>2005</td>\n",
       "      <td>person8</td>\n",
       "      <td>person1</td>\n",
       "    </tr>\n",
       "  </tbody>\n",
       "</table>\n",
       "<p>258 rows × 4 columns</p>\n",
       "</div>"
      ],
      "text/plain": [
       "           tconst  startYear   nconst1   nconst2\n",
       "0    movie_2000_1       2000   person6  person10\n",
       "1    movie_2000_1       2000   person6   person7\n",
       "2    movie_2000_1       2000   person6  person11\n",
       "3    movie_2000_1       2000   person6   person8\n",
       "4    movie_2000_1       2000   person6   person1\n",
       "..            ...        ...       ...       ...\n",
       "253  movie_2005_2       2005   person5   person8\n",
       "254  movie_2005_2       2005   person5   person1\n",
       "255  movie_2005_2       2005  person11   person8\n",
       "256  movie_2005_2       2005  person11   person1\n",
       "257  movie_2005_2       2005   person8   person1\n",
       "\n",
       "[258 rows x 4 columns]"
      ]
     },
     "execution_count": 58,
     "metadata": {},
     "output_type": "execute_result"
    }
   ],
   "source": [
    "toy"
   ]
  },
  {
   "cell_type": "markdown",
   "metadata": {},
   "source": [
    "That's really hard to understand. Let's visualize our simulated network to see how it changes over time. For this, we'll use Plotly’s animation capabilities to create a smooth transition between yearly networks, showing how new connections form and old ones fade as people come together to create films. "
   ]
  },
  {
   "cell_type": "code",
   "execution_count": 29,
   "metadata": {},
   "outputs": [],
   "source": [
    "# Define a function to create a scatter plot for edges in the network visualization\n",
    "def scatter_edges(G, pos):\n",
    "    edge_x = []\n",
    "    edge_y = []\n",
    "    # Extract coordinates for each edge to plot\n",
    "    for edge in G.edges():\n",
    "        x0, y0 = pos[edge[0]]\n",
    "        x1, y1 = pos[edge[1]]\n",
    "        edge_x.extend([x0, x1, None]) # X coordinates for each edge\n",
    "        edge_y.extend([y0, y1, None]) # Y coordinates for each edge\n",
    "    # Create and return a scatter plot object for the edges\n",
    "    edge_trace = go.Scatter(x=edge_x, y=edge_y, line=dict(width=0.5, color='#888'), hoverinfo='none', mode='lines')\n",
    "    return edge_trace\n",
    "\n",
    "# Define a function to create a scatter plot for nodes in the network visualization\n",
    "def scatter_nodes(pos, labels=None):\n",
    "    # Ensure labels are properly formatted as strings\n",
    "    if labels is None:\n",
    "        labels = list(pos.keys())\n",
    "    labels = [str(label) for label in labels]  # Convert all labels to strings\n",
    "\n",
    "    x, y = zip(*pos.values()) # Unpack positions into separate lists\n",
    "    # Create and return a scatter plot object for the nodes\n",
    "    scatter = go.Scatter(\n",
    "        x=x, y=y, \n",
    "        mode='markers+text', \n",
    "        text=labels,\n",
    "        textposition=\"top center\",\n",
    "        marker=dict(size=10, color='LightSkyBlue'),\n",
    "        hoverinfo='text'\n",
    "    )\n",
    "    return scatter\n"
   ]
  },
  {
   "cell_type": "code",
   "execution_count": 31,
   "metadata": {},
   "outputs": [
    {
     "data": {
      "application/vnd.plotly.v1+json": {
       "config": {
        "plotlyServerURL": "https://plot.ly"
       },
       "data": [
        {
         "hoverinfo": "none",
         "line": {
          "color": "#888",
          "width": 0.5
         },
         "mode": "lines",
         "type": "scatter",
         "x": [
          -0.2264212902970903,
          0.16425809513775008,
          null,
          -0.2264212902970903,
          0.5153676105476679,
          null,
          -0.2264212902970903,
          0.9256628824931855,
          null,
          -0.2264212902970903,
          0.26186929198327374,
          null,
          -0.2264212902970903,
          -0.11280782437534738,
          null,
          -0.2264212902970903,
          0.8283633157135916,
          null,
          -0.2264212902970903,
          -0.9053298899582528,
          null,
          -0.2264212902970903,
          -0.9999999999999999,
          null,
          -0.2264212902970903,
          -0.45096219124477976,
          null,
          0.16425809513775008,
          0.5153676105476679,
          null,
          0.16425809513775008,
          0.9256628824931855,
          null,
          0.16425809513775008,
          0.26186929198327374,
          null,
          0.16425809513775008,
          -0.11280782437534738,
          null,
          0.16425809513775008,
          0.8283633157135916,
          null,
          0.16425809513775008,
          -0.9053298899582528,
          null,
          0.16425809513775008,
          -0.9999999999999999,
          null,
          0.16425809513775008,
          -0.45096219124477976,
          null,
          0.5153676105476679,
          0.9256628824931855,
          null,
          0.5153676105476679,
          0.26186929198327374,
          null,
          0.5153676105476679,
          -0.11280782437534738,
          null,
          0.5153676105476679,
          0.8283633157135916,
          null,
          0.9256628824931855,
          0.26186929198327374,
          null,
          0.9256628824931855,
          -0.11280782437534738,
          null,
          0.9256628824931855,
          0.8283633157135916,
          null,
          0.26186929198327374,
          -0.11280782437534738,
          null,
          0.26186929198327374,
          0.8283633157135916,
          null,
          -0.11280782437534738,
          0.8283633157135916,
          null,
          -0.11280782437534738,
          -0.9053298899582528,
          null,
          -0.11280782437534738,
          -0.9999999999999999,
          null,
          -0.11280782437534738,
          -0.45096219124477976,
          null,
          -0.9053298899582528,
          -0.9999999999999999,
          null,
          -0.9053298899582528,
          -0.45096219124477976,
          null,
          -0.9999999999999999,
          -0.45096219124477976,
          null
         ],
         "y": [
          0.2538479997541428,
          -0.294638697277785,
          null,
          0.2538479997541428,
          0.5276598322962673,
          null,
          0.2538479997541428,
          0.45941410275249295,
          null,
          0.2538479997541428,
          0.8630324253471788,
          null,
          0.2538479997541428,
          -0.07945149776670649,
          null,
          0.2538479997541428,
          -0.05495199963593563,
          null,
          0.2538479997541428,
          -0.6444770718008515,
          null,
          0.2538479997541428,
          -0.12894608005945654,
          null,
          0.2538479997541428,
          -0.9014890136093469,
          null,
          -0.294638697277785,
          0.5276598322962673,
          null,
          -0.294638697277785,
          0.45941410275249295,
          null,
          -0.294638697277785,
          0.8630324253471788,
          null,
          -0.294638697277785,
          -0.07945149776670649,
          null,
          -0.294638697277785,
          -0.05495199963593563,
          null,
          -0.294638697277785,
          -0.6444770718008515,
          null,
          -0.294638697277785,
          -0.12894608005945654,
          null,
          -0.294638697277785,
          -0.9014890136093469,
          null,
          0.5276598322962673,
          0.45941410275249295,
          null,
          0.5276598322962673,
          0.8630324253471788,
          null,
          0.5276598322962673,
          -0.07945149776670649,
          null,
          0.5276598322962673,
          -0.05495199963593563,
          null,
          0.45941410275249295,
          0.8630324253471788,
          null,
          0.45941410275249295,
          -0.07945149776670649,
          null,
          0.45941410275249295,
          -0.05495199963593563,
          null,
          0.8630324253471788,
          -0.07945149776670649,
          null,
          0.8630324253471788,
          -0.05495199963593563,
          null,
          -0.07945149776670649,
          -0.05495199963593563,
          null,
          -0.07945149776670649,
          -0.6444770718008515,
          null,
          -0.07945149776670649,
          -0.12894608005945654,
          null,
          -0.07945149776670649,
          -0.9014890136093469,
          null,
          -0.6444770718008515,
          -0.12894608005945654,
          null,
          -0.6444770718008515,
          -0.9014890136093469,
          null,
          -0.12894608005945654,
          -0.9014890136093469,
          null
         ]
        },
        {
         "hoverinfo": "text",
         "marker": {
          "color": "LightSkyBlue",
          "size": 10
         },
         "mode": "markers+text",
         "text": [
          "person6",
          "person10",
          "person7",
          "person11",
          "person8",
          "person1",
          "person2",
          "person9",
          "person4",
          "person3"
         ],
         "textposition": "top center",
         "type": "scatter",
         "x": [
          -0.2264212902970903,
          0.16425809513775008,
          0.5153676105476679,
          0.9256628824931855,
          0.26186929198327374,
          -0.11280782437534738,
          0.8283633157135916,
          -0.9053298899582528,
          -0.9999999999999999,
          -0.45096219124477976,
          0
         ],
         "y": [
          0.2538479997541428,
          -0.294638697277785,
          0.5276598322962673,
          0.45941410275249295,
          0.8630324253471788,
          -0.07945149776670649,
          -0.05495199963593563,
          -0.6444770718008515,
          -0.12894608005945654,
          -0.9014890136093469,
          0
         ]
        }
       ],
       "frames": [
        {
         "data": [
          {
           "hoverinfo": "none",
           "line": {
            "color": "#888",
            "width": 0.5
           },
           "mode": "lines",
           "type": "scatter",
           "x": [
            -0.2264212902970903,
            0.16425809513775008,
            null,
            -0.2264212902970903,
            0.5153676105476679,
            null,
            -0.2264212902970903,
            0.9256628824931855,
            null,
            -0.2264212902970903,
            0.26186929198327374,
            null,
            -0.2264212902970903,
            -0.11280782437534738,
            null,
            -0.2264212902970903,
            0.8283633157135916,
            null,
            -0.2264212902970903,
            -0.9053298899582528,
            null,
            -0.2264212902970903,
            -0.9999999999999999,
            null,
            -0.2264212902970903,
            -0.45096219124477976,
            null,
            0.16425809513775008,
            0.5153676105476679,
            null,
            0.16425809513775008,
            0.9256628824931855,
            null,
            0.16425809513775008,
            0.26186929198327374,
            null,
            0.16425809513775008,
            -0.11280782437534738,
            null,
            0.16425809513775008,
            0.8283633157135916,
            null,
            0.16425809513775008,
            -0.9053298899582528,
            null,
            0.16425809513775008,
            -0.9999999999999999,
            null,
            0.16425809513775008,
            -0.45096219124477976,
            null,
            0.5153676105476679,
            0.9256628824931855,
            null,
            0.5153676105476679,
            0.26186929198327374,
            null,
            0.5153676105476679,
            -0.11280782437534738,
            null,
            0.5153676105476679,
            0.8283633157135916,
            null,
            0.9256628824931855,
            0.26186929198327374,
            null,
            0.9256628824931855,
            -0.11280782437534738,
            null,
            0.9256628824931855,
            0.8283633157135916,
            null,
            0.26186929198327374,
            -0.11280782437534738,
            null,
            0.26186929198327374,
            0.8283633157135916,
            null,
            -0.11280782437534738,
            0.8283633157135916,
            null,
            -0.11280782437534738,
            -0.9053298899582528,
            null,
            -0.11280782437534738,
            -0.9999999999999999,
            null,
            -0.11280782437534738,
            -0.45096219124477976,
            null,
            -0.9053298899582528,
            -0.9999999999999999,
            null,
            -0.9053298899582528,
            -0.45096219124477976,
            null,
            -0.9999999999999999,
            -0.45096219124477976,
            null
           ],
           "y": [
            0.2538479997541428,
            -0.294638697277785,
            null,
            0.2538479997541428,
            0.5276598322962673,
            null,
            0.2538479997541428,
            0.45941410275249295,
            null,
            0.2538479997541428,
            0.8630324253471788,
            null,
            0.2538479997541428,
            -0.07945149776670649,
            null,
            0.2538479997541428,
            -0.05495199963593563,
            null,
            0.2538479997541428,
            -0.6444770718008515,
            null,
            0.2538479997541428,
            -0.12894608005945654,
            null,
            0.2538479997541428,
            -0.9014890136093469,
            null,
            -0.294638697277785,
            0.5276598322962673,
            null,
            -0.294638697277785,
            0.45941410275249295,
            null,
            -0.294638697277785,
            0.8630324253471788,
            null,
            -0.294638697277785,
            -0.07945149776670649,
            null,
            -0.294638697277785,
            -0.05495199963593563,
            null,
            -0.294638697277785,
            -0.6444770718008515,
            null,
            -0.294638697277785,
            -0.12894608005945654,
            null,
            -0.294638697277785,
            -0.9014890136093469,
            null,
            0.5276598322962673,
            0.45941410275249295,
            null,
            0.5276598322962673,
            0.8630324253471788,
            null,
            0.5276598322962673,
            -0.07945149776670649,
            null,
            0.5276598322962673,
            -0.05495199963593563,
            null,
            0.45941410275249295,
            0.8630324253471788,
            null,
            0.45941410275249295,
            -0.07945149776670649,
            null,
            0.45941410275249295,
            -0.05495199963593563,
            null,
            0.8630324253471788,
            -0.07945149776670649,
            null,
            0.8630324253471788,
            -0.05495199963593563,
            null,
            -0.07945149776670649,
            -0.05495199963593563,
            null,
            -0.07945149776670649,
            -0.6444770718008515,
            null,
            -0.07945149776670649,
            -0.12894608005945654,
            null,
            -0.07945149776670649,
            -0.9014890136093469,
            null,
            -0.6444770718008515,
            -0.12894608005945654,
            null,
            -0.6444770718008515,
            -0.9014890136093469,
            null,
            -0.12894608005945654,
            -0.9014890136093469,
            null
           ]
          },
          {
           "hoverinfo": "text",
           "marker": {
            "color": "LightSkyBlue",
            "size": 10
           },
           "mode": "markers+text",
           "text": [
            "person6",
            "person10",
            "person7",
            "person11",
            "person8",
            "person1",
            "person2",
            "person9",
            "person4",
            "person3"
           ],
           "textposition": "top center",
           "type": "scatter",
           "x": [
            -0.2264212902970903,
            0.16425809513775008,
            0.5153676105476679,
            0.9256628824931855,
            0.26186929198327374,
            -0.11280782437534738,
            0.8283633157135916,
            -0.9053298899582528,
            -0.9999999999999999,
            -0.45096219124477976,
            0
           ],
           "y": [
            0.2538479997541428,
            -0.294638697277785,
            0.5276598322962673,
            0.45941410275249295,
            0.8630324253471788,
            -0.07945149776670649,
            -0.05495199963593563,
            -0.6444770718008515,
            -0.12894608005945654,
            -0.9014890136093469,
            0
           ]
          }
         ],
         "layout": {
          "annotations": [
           {
            "font": {
             "size": 16
            },
            "showarrow": false,
            "text": "Year: 2000",
            "x": 0.5,
            "xanchor": "center",
            "xref": "paper",
            "y": -0.1,
            "yanchor": "top",
            "yref": "paper"
           }
          ]
         },
         "name": "2000"
        },
        {
         "data": [
          {
           "hoverinfo": "none",
           "line": {
            "color": "#888",
            "width": 0.5
           },
           "mode": "lines",
           "type": "scatter",
           "x": [
            -0.2264212902970903,
            0.16425809513775008,
            null,
            -0.2264212902970903,
            -0.45096219124477976,
            null,
            -0.2264212902970903,
            0.9256628824931855,
            null,
            -0.2264212902970903,
            0.26186929198327374,
            null,
            -0.2264212902970903,
            -0.11280782437534738,
            null,
            -0.2264212902970903,
            0.8283633157135916,
            null,
            -0.2264212902970903,
            -0.9999999999999999,
            null,
            -0.2264212902970903,
            0.5153676105476679,
            null,
            -0.2264212902970903,
            0,
            null,
            0.16425809513775008,
            -0.45096219124477976,
            null,
            0.16425809513775008,
            0.9256628824931855,
            null,
            0.16425809513775008,
            0.26186929198327374,
            null,
            0.16425809513775008,
            -0.11280782437534738,
            null,
            0.16425809513775008,
            0.8283633157135916,
            null,
            -0.45096219124477976,
            0.9256628824931855,
            null,
            -0.45096219124477976,
            0.26186929198327374,
            null,
            -0.45096219124477976,
            -0.11280782437534738,
            null,
            -0.45096219124477976,
            0.8283633157135916,
            null,
            0.9256628824931855,
            0.26186929198327374,
            null,
            0.9256628824931855,
            -0.11280782437534738,
            null,
            0.9256628824931855,
            0.8283633157135916,
            null,
            0.9256628824931855,
            -0.9999999999999999,
            null,
            0.9256628824931855,
            0.5153676105476679,
            null,
            0.9256628824931855,
            0,
            null,
            0.26186929198327374,
            -0.11280782437534738,
            null,
            0.26186929198327374,
            0.8283633157135916,
            null,
            0.26186929198327374,
            -0.9999999999999999,
            null,
            0.26186929198327374,
            0.5153676105476679,
            null,
            0.26186929198327374,
            0,
            null,
            -0.11280782437534738,
            0.8283633157135916,
            null,
            -0.11280782437534738,
            -0.9999999999999999,
            null,
            -0.11280782437534738,
            0.5153676105476679,
            null,
            -0.11280782437534738,
            0,
            null,
            0.8283633157135916,
            -0.9999999999999999,
            null,
            0.8283633157135916,
            0.5153676105476679,
            null,
            0.8283633157135916,
            0,
            null,
            -0.9999999999999999,
            0.5153676105476679,
            null,
            -0.9999999999999999,
            0,
            null,
            0.5153676105476679,
            0,
            null
           ],
           "y": [
            0.2538479997541428,
            -0.294638697277785,
            null,
            0.2538479997541428,
            -0.9014890136093469,
            null,
            0.2538479997541428,
            0.45941410275249295,
            null,
            0.2538479997541428,
            0.8630324253471788,
            null,
            0.2538479997541428,
            -0.07945149776670649,
            null,
            0.2538479997541428,
            -0.05495199963593563,
            null,
            0.2538479997541428,
            -0.12894608005945654,
            null,
            0.2538479997541428,
            0.5276598322962673,
            null,
            0.2538479997541428,
            0,
            null,
            -0.294638697277785,
            -0.9014890136093469,
            null,
            -0.294638697277785,
            0.45941410275249295,
            null,
            -0.294638697277785,
            0.8630324253471788,
            null,
            -0.294638697277785,
            -0.07945149776670649,
            null,
            -0.294638697277785,
            -0.05495199963593563,
            null,
            -0.9014890136093469,
            0.45941410275249295,
            null,
            -0.9014890136093469,
            0.8630324253471788,
            null,
            -0.9014890136093469,
            -0.07945149776670649,
            null,
            -0.9014890136093469,
            -0.05495199963593563,
            null,
            0.45941410275249295,
            0.8630324253471788,
            null,
            0.45941410275249295,
            -0.07945149776670649,
            null,
            0.45941410275249295,
            -0.05495199963593563,
            null,
            0.45941410275249295,
            -0.12894608005945654,
            null,
            0.45941410275249295,
            0.5276598322962673,
            null,
            0.45941410275249295,
            0,
            null,
            0.8630324253471788,
            -0.07945149776670649,
            null,
            0.8630324253471788,
            -0.05495199963593563,
            null,
            0.8630324253471788,
            -0.12894608005945654,
            null,
            0.8630324253471788,
            0.5276598322962673,
            null,
            0.8630324253471788,
            0,
            null,
            -0.07945149776670649,
            -0.05495199963593563,
            null,
            -0.07945149776670649,
            -0.12894608005945654,
            null,
            -0.07945149776670649,
            0.5276598322962673,
            null,
            -0.07945149776670649,
            0,
            null,
            -0.05495199963593563,
            -0.12894608005945654,
            null,
            -0.05495199963593563,
            0.5276598322962673,
            null,
            -0.05495199963593563,
            0,
            null,
            -0.12894608005945654,
            0.5276598322962673,
            null,
            -0.12894608005945654,
            0,
            null,
            0.5276598322962673,
            0,
            null
           ]
          },
          {
           "hoverinfo": "text",
           "marker": {
            "color": "LightSkyBlue",
            "size": 10
           },
           "mode": "markers+text",
           "text": [
            "person6",
            "person10",
            "person3",
            "person11",
            "person8",
            "person1",
            "person2",
            "person4",
            "person7",
            "person5"
           ],
           "textposition": "top center",
           "type": "scatter",
           "x": [
            -0.2264212902970903,
            0.16425809513775008,
            0.5153676105476679,
            0.9256628824931855,
            0.26186929198327374,
            -0.11280782437534738,
            0.8283633157135916,
            -0.9053298899582528,
            -0.9999999999999999,
            -0.45096219124477976,
            0
           ],
           "y": [
            0.2538479997541428,
            -0.294638697277785,
            0.5276598322962673,
            0.45941410275249295,
            0.8630324253471788,
            -0.07945149776670649,
            -0.05495199963593563,
            -0.6444770718008515,
            -0.12894608005945654,
            -0.9014890136093469,
            0
           ]
          }
         ],
         "layout": {
          "annotations": [
           {
            "font": {
             "size": 16
            },
            "showarrow": false,
            "text": "Year: 2001",
            "x": 0.5,
            "xanchor": "center",
            "xref": "paper",
            "y": -0.1,
            "yanchor": "top",
            "yref": "paper"
           }
          ]
         },
         "name": "2001"
        },
        {
         "data": [
          {
           "hoverinfo": "none",
           "line": {
            "color": "#888",
            "width": 0.5
           },
           "mode": "lines",
           "type": "scatter",
           "x": [
            -0.2264212902970903,
            -0.9053298899582528,
            null,
            -0.2264212902970903,
            -0.9999999999999999,
            null,
            -0.2264212902970903,
            -0.45096219124477976,
            null,
            -0.2264212902970903,
            0,
            null,
            -0.2264212902970903,
            0.26186929198327374,
            null,
            -0.2264212902970903,
            0.9256628824931855,
            null,
            -0.2264212902970903,
            0.8283633157135916,
            null,
            -0.9053298899582528,
            -0.9999999999999999,
            null,
            -0.9053298899582528,
            -0.45096219124477976,
            null,
            -0.9053298899582528,
            0,
            null,
            -0.9053298899582528,
            0.26186929198327374,
            null,
            -0.9053298899582528,
            0.9256628824931855,
            null,
            -0.9053298899582528,
            0.8283633157135916,
            null,
            -0.9053298899582528,
            0.16425809513775008,
            null,
            -0.9053298899582528,
            -0.11280782437534738,
            null,
            -0.9999999999999999,
            -0.45096219124477976,
            null,
            -0.9999999999999999,
            0,
            null,
            -0.9999999999999999,
            0.26186929198327374,
            null,
            -0.9999999999999999,
            0.9256628824931855,
            null,
            -0.9999999999999999,
            0.8283633157135916,
            null,
            -0.9999999999999999,
            0.16425809513775008,
            null,
            -0.9999999999999999,
            -0.11280782437534738,
            null,
            -0.45096219124477976,
            0,
            null,
            -0.45096219124477976,
            0.26186929198327374,
            null,
            -0.45096219124477976,
            0.9256628824931855,
            null,
            -0.45096219124477976,
            0.8283633157135916,
            null,
            -0.45096219124477976,
            0.16425809513775008,
            null,
            -0.45096219124477976,
            -0.11280782437534738,
            null,
            0,
            0.26186929198327374,
            null,
            0,
            0.9256628824931855,
            null,
            0,
            0.8283633157135916,
            null,
            0,
            0.16425809513775008,
            null,
            0,
            -0.11280782437534738,
            null,
            0.26186929198327374,
            0.9256628824931855,
            null,
            0.26186929198327374,
            0.8283633157135916,
            null,
            0.26186929198327374,
            0.16425809513775008,
            null,
            0.26186929198327374,
            -0.11280782437534738,
            null,
            0.9256628824931855,
            0.8283633157135916,
            null,
            0.9256628824931855,
            0.16425809513775008,
            null,
            0.9256628824931855,
            -0.11280782437534738,
            null,
            0.8283633157135916,
            0.16425809513775008,
            null,
            0.8283633157135916,
            -0.11280782437534738,
            null,
            0.16425809513775008,
            -0.11280782437534738,
            null
           ],
           "y": [
            0.2538479997541428,
            -0.6444770718008515,
            null,
            0.2538479997541428,
            -0.12894608005945654,
            null,
            0.2538479997541428,
            -0.9014890136093469,
            null,
            0.2538479997541428,
            0,
            null,
            0.2538479997541428,
            0.8630324253471788,
            null,
            0.2538479997541428,
            0.45941410275249295,
            null,
            0.2538479997541428,
            -0.05495199963593563,
            null,
            -0.6444770718008515,
            -0.12894608005945654,
            null,
            -0.6444770718008515,
            -0.9014890136093469,
            null,
            -0.6444770718008515,
            0,
            null,
            -0.6444770718008515,
            0.8630324253471788,
            null,
            -0.6444770718008515,
            0.45941410275249295,
            null,
            -0.6444770718008515,
            -0.05495199963593563,
            null,
            -0.6444770718008515,
            -0.294638697277785,
            null,
            -0.6444770718008515,
            -0.07945149776670649,
            null,
            -0.12894608005945654,
            -0.9014890136093469,
            null,
            -0.12894608005945654,
            0,
            null,
            -0.12894608005945654,
            0.8630324253471788,
            null,
            -0.12894608005945654,
            0.45941410275249295,
            null,
            -0.12894608005945654,
            -0.05495199963593563,
            null,
            -0.12894608005945654,
            -0.294638697277785,
            null,
            -0.12894608005945654,
            -0.07945149776670649,
            null,
            -0.9014890136093469,
            0,
            null,
            -0.9014890136093469,
            0.8630324253471788,
            null,
            -0.9014890136093469,
            0.45941410275249295,
            null,
            -0.9014890136093469,
            -0.05495199963593563,
            null,
            -0.9014890136093469,
            -0.294638697277785,
            null,
            -0.9014890136093469,
            -0.07945149776670649,
            null,
            0,
            0.8630324253471788,
            null,
            0,
            0.45941410275249295,
            null,
            0,
            -0.05495199963593563,
            null,
            0,
            -0.294638697277785,
            null,
            0,
            -0.07945149776670649,
            null,
            0.8630324253471788,
            0.45941410275249295,
            null,
            0.8630324253471788,
            -0.05495199963593563,
            null,
            0.8630324253471788,
            -0.294638697277785,
            null,
            0.8630324253471788,
            -0.07945149776670649,
            null,
            0.45941410275249295,
            -0.05495199963593563,
            null,
            0.45941410275249295,
            -0.294638697277785,
            null,
            0.45941410275249295,
            -0.07945149776670649,
            null,
            -0.05495199963593563,
            -0.294638697277785,
            null,
            -0.05495199963593563,
            -0.07945149776670649,
            null,
            -0.294638697277785,
            -0.07945149776670649,
            null
           ]
          },
          {
           "hoverinfo": "text",
           "marker": {
            "color": "LightSkyBlue",
            "size": 10
           },
           "mode": "markers+text",
           "text": [
            "person6",
            "person9",
            "person4",
            "person3",
            "person5",
            "person8",
            "person11",
            "person2",
            "person10",
            "person1"
           ],
           "textposition": "top center",
           "type": "scatter",
           "x": [
            -0.2264212902970903,
            0.16425809513775008,
            0.5153676105476679,
            0.9256628824931855,
            0.26186929198327374,
            -0.11280782437534738,
            0.8283633157135916,
            -0.9053298899582528,
            -0.9999999999999999,
            -0.45096219124477976,
            0
           ],
           "y": [
            0.2538479997541428,
            -0.294638697277785,
            0.5276598322962673,
            0.45941410275249295,
            0.8630324253471788,
            -0.07945149776670649,
            -0.05495199963593563,
            -0.6444770718008515,
            -0.12894608005945654,
            -0.9014890136093469,
            0
           ]
          }
         ],
         "layout": {
          "annotations": [
           {
            "font": {
             "size": 16
            },
            "showarrow": false,
            "text": "Year: 2002",
            "x": 0.5,
            "xanchor": "center",
            "xref": "paper",
            "y": -0.1,
            "yanchor": "top",
            "yref": "paper"
           }
          ]
         },
         "name": "2002"
        },
        {
         "data": [
          {
           "hoverinfo": "none",
           "line": {
            "color": "#888",
            "width": 0.5
           },
           "mode": "lines",
           "type": "scatter",
           "x": [
            0.16425809513775008,
            0.26186929198327374,
            null,
            0.16425809513775008,
            0.8283633157135916,
            null,
            0.16425809513775008,
            -0.45096219124477976,
            null,
            0.26186929198327374,
            0.8283633157135916,
            null,
            0.26186929198327374,
            -0.45096219124477976,
            null,
            0.8283633157135916,
            -0.45096219124477976,
            null,
            0.8283633157135916,
            -0.2264212902970903,
            null,
            0.8283633157135916,
            0,
            null,
            0.8283633157135916,
            -0.11280782437534738,
            null,
            -0.45096219124477976,
            -0.2264212902970903,
            null,
            -0.45096219124477976,
            0,
            null,
            -0.45096219124477976,
            -0.11280782437534738,
            null,
            -0.2264212902970903,
            0,
            null,
            -0.2264212902970903,
            -0.11280782437534738,
            null,
            0,
            -0.11280782437534738,
            null
           ],
           "y": [
            -0.294638697277785,
            0.8630324253471788,
            null,
            -0.294638697277785,
            -0.05495199963593563,
            null,
            -0.294638697277785,
            -0.9014890136093469,
            null,
            0.8630324253471788,
            -0.05495199963593563,
            null,
            0.8630324253471788,
            -0.9014890136093469,
            null,
            -0.05495199963593563,
            -0.9014890136093469,
            null,
            -0.05495199963593563,
            0.2538479997541428,
            null,
            -0.05495199963593563,
            0,
            null,
            -0.05495199963593563,
            -0.07945149776670649,
            null,
            -0.9014890136093469,
            0.2538479997541428,
            null,
            -0.9014890136093469,
            0,
            null,
            -0.9014890136093469,
            -0.07945149776670649,
            null,
            0.2538479997541428,
            0,
            null,
            0.2538479997541428,
            -0.07945149776670649,
            null,
            0,
            -0.07945149776670649,
            null
           ]
          },
          {
           "hoverinfo": "text",
           "marker": {
            "color": "LightSkyBlue",
            "size": 10
           },
           "mode": "markers+text",
           "text": [
            "person10",
            "person8",
            "person2",
            "person3",
            "person6",
            "person5",
            "person1"
           ],
           "textposition": "top center",
           "type": "scatter",
           "x": [
            -0.2264212902970903,
            0.16425809513775008,
            0.5153676105476679,
            0.9256628824931855,
            0.26186929198327374,
            -0.11280782437534738,
            0.8283633157135916,
            -0.9053298899582528,
            -0.9999999999999999,
            -0.45096219124477976,
            0
           ],
           "y": [
            0.2538479997541428,
            -0.294638697277785,
            0.5276598322962673,
            0.45941410275249295,
            0.8630324253471788,
            -0.07945149776670649,
            -0.05495199963593563,
            -0.6444770718008515,
            -0.12894608005945654,
            -0.9014890136093469,
            0
           ]
          }
         ],
         "layout": {
          "annotations": [
           {
            "font": {
             "size": 16
            },
            "showarrow": false,
            "text": "Year: 2003",
            "x": 0.5,
            "xanchor": "center",
            "xref": "paper",
            "y": -0.1,
            "yanchor": "top",
            "yref": "paper"
           }
          ]
         },
         "name": "2003"
        },
        {
         "data": [
          {
           "hoverinfo": "none",
           "line": {
            "color": "#888",
            "width": 0.5
           },
           "mode": "lines",
           "type": "scatter",
           "x": [
            -0.2264212902970903,
            -0.9053298899582528,
            null,
            -0.2264212902970903,
            0.5153676105476679,
            null,
            -0.2264212902970903,
            -0.9999999999999999,
            null,
            -0.2264212902970903,
            -0.45096219124477976,
            null,
            -0.2264212902970903,
            0,
            null,
            -0.2264212902970903,
            0.26186929198327374,
            null,
            -0.2264212902970903,
            -0.11280782437534738,
            null,
            -0.2264212902970903,
            0.8283633157135916,
            null,
            -0.9053298899582528,
            0.5153676105476679,
            null,
            -0.9053298899582528,
            -0.9999999999999999,
            null,
            -0.9053298899582528,
            -0.45096219124477976,
            null,
            -0.9053298899582528,
            0,
            null,
            -0.9053298899582528,
            0.26186929198327374,
            null,
            -0.9053298899582528,
            -0.11280782437534738,
            null,
            -0.9053298899582528,
            0.8283633157135916,
            null,
            0.5153676105476679,
            -0.9999999999999999,
            null,
            0.5153676105476679,
            -0.45096219124477976,
            null,
            0.5153676105476679,
            0,
            null,
            0.5153676105476679,
            0.26186929198327374,
            null,
            0.5153676105476679,
            -0.11280782437534738,
            null,
            0.5153676105476679,
            0.8283633157135916,
            null,
            0.5153676105476679,
            0.16425809513775008,
            null,
            0.5153676105476679,
            0.9256628824931855,
            null,
            -0.9999999999999999,
            -0.45096219124477976,
            null,
            -0.9999999999999999,
            0,
            null,
            -0.9999999999999999,
            0.26186929198327374,
            null,
            -0.9999999999999999,
            -0.11280782437534738,
            null,
            -0.9999999999999999,
            0.8283633157135916,
            null,
            -0.45096219124477976,
            0,
            null,
            -0.45096219124477976,
            0.26186929198327374,
            null,
            -0.45096219124477976,
            -0.11280782437534738,
            null,
            -0.45096219124477976,
            0.8283633157135916,
            null,
            -0.45096219124477976,
            0.16425809513775008,
            null,
            -0.45096219124477976,
            0.9256628824931855,
            null,
            0,
            0.26186929198327374,
            null,
            0,
            -0.11280782437534738,
            null,
            0,
            0.8283633157135916,
            null,
            0.26186929198327374,
            -0.11280782437534738,
            null,
            0.26186929198327374,
            0.8283633157135916,
            null,
            0.26186929198327374,
            0.16425809513775008,
            null,
            0.26186929198327374,
            0.9256628824931855,
            null,
            -0.11280782437534738,
            0.8283633157135916,
            null,
            -0.11280782437534738,
            0.16425809513775008,
            null,
            -0.11280782437534738,
            0.9256628824931855,
            null,
            0.8283633157135916,
            0.16425809513775008,
            null,
            0.8283633157135916,
            0.9256628824931855,
            null,
            0.16425809513775008,
            0.9256628824931855,
            null
           ],
           "y": [
            0.2538479997541428,
            -0.6444770718008515,
            null,
            0.2538479997541428,
            0.5276598322962673,
            null,
            0.2538479997541428,
            -0.12894608005945654,
            null,
            0.2538479997541428,
            -0.9014890136093469,
            null,
            0.2538479997541428,
            0,
            null,
            0.2538479997541428,
            0.8630324253471788,
            null,
            0.2538479997541428,
            -0.07945149776670649,
            null,
            0.2538479997541428,
            -0.05495199963593563,
            null,
            -0.6444770718008515,
            0.5276598322962673,
            null,
            -0.6444770718008515,
            -0.12894608005945654,
            null,
            -0.6444770718008515,
            -0.9014890136093469,
            null,
            -0.6444770718008515,
            0,
            null,
            -0.6444770718008515,
            0.8630324253471788,
            null,
            -0.6444770718008515,
            -0.07945149776670649,
            null,
            -0.6444770718008515,
            -0.05495199963593563,
            null,
            0.5276598322962673,
            -0.12894608005945654,
            null,
            0.5276598322962673,
            -0.9014890136093469,
            null,
            0.5276598322962673,
            0,
            null,
            0.5276598322962673,
            0.8630324253471788,
            null,
            0.5276598322962673,
            -0.07945149776670649,
            null,
            0.5276598322962673,
            -0.05495199963593563,
            null,
            0.5276598322962673,
            -0.294638697277785,
            null,
            0.5276598322962673,
            0.45941410275249295,
            null,
            -0.12894608005945654,
            -0.9014890136093469,
            null,
            -0.12894608005945654,
            0,
            null,
            -0.12894608005945654,
            0.8630324253471788,
            null,
            -0.12894608005945654,
            -0.07945149776670649,
            null,
            -0.12894608005945654,
            -0.05495199963593563,
            null,
            -0.9014890136093469,
            0,
            null,
            -0.9014890136093469,
            0.8630324253471788,
            null,
            -0.9014890136093469,
            -0.07945149776670649,
            null,
            -0.9014890136093469,
            -0.05495199963593563,
            null,
            -0.9014890136093469,
            -0.294638697277785,
            null,
            -0.9014890136093469,
            0.45941410275249295,
            null,
            0,
            0.8630324253471788,
            null,
            0,
            -0.07945149776670649,
            null,
            0,
            -0.05495199963593563,
            null,
            0.8630324253471788,
            -0.07945149776670649,
            null,
            0.8630324253471788,
            -0.05495199963593563,
            null,
            0.8630324253471788,
            -0.294638697277785,
            null,
            0.8630324253471788,
            0.45941410275249295,
            null,
            -0.07945149776670649,
            -0.05495199963593563,
            null,
            -0.07945149776670649,
            -0.294638697277785,
            null,
            -0.07945149776670649,
            0.45941410275249295,
            null,
            -0.05495199963593563,
            -0.294638697277785,
            null,
            -0.05495199963593563,
            0.45941410275249295,
            null,
            -0.294638697277785,
            0.45941410275249295,
            null
           ]
          },
          {
           "hoverinfo": "text",
           "marker": {
            "color": "LightSkyBlue",
            "size": 10
           },
           "mode": "markers+text",
           "text": [
            "person6",
            "person9",
            "person7",
            "person4",
            "person3",
            "person5",
            "person8",
            "person1",
            "person2",
            "person10",
            "person11"
           ],
           "textposition": "top center",
           "type": "scatter",
           "x": [
            -0.2264212902970903,
            0.16425809513775008,
            0.5153676105476679,
            0.9256628824931855,
            0.26186929198327374,
            -0.11280782437534738,
            0.8283633157135916,
            -0.9053298899582528,
            -0.9999999999999999,
            -0.45096219124477976,
            0
           ],
           "y": [
            0.2538479997541428,
            -0.294638697277785,
            0.5276598322962673,
            0.45941410275249295,
            0.8630324253471788,
            -0.07945149776670649,
            -0.05495199963593563,
            -0.6444770718008515,
            -0.12894608005945654,
            -0.9014890136093469,
            0
           ]
          }
         ],
         "layout": {
          "annotations": [
           {
            "font": {
             "size": 16
            },
            "showarrow": false,
            "text": "Year: 2004",
            "x": 0.5,
            "xanchor": "center",
            "xref": "paper",
            "y": -0.1,
            "yanchor": "top",
            "yref": "paper"
           }
          ]
         },
         "name": "2004"
        },
        {
         "data": [
          {
           "hoverinfo": "none",
           "line": {
            "color": "#888",
            "width": 0.5
           },
           "mode": "lines",
           "type": "scatter",
           "x": [
            0.16425809513775008,
            0.5153676105476679,
            null,
            0.16425809513775008,
            -0.9999999999999999,
            null,
            0.16425809513775008,
            -0.45096219124477976,
            null,
            0.16425809513775008,
            0.9256628824931855,
            null,
            0.16425809513775008,
            0.26186929198327374,
            null,
            0.16425809513775008,
            -0.11280782437534738,
            null,
            0.5153676105476679,
            -0.9999999999999999,
            null,
            0.5153676105476679,
            -0.45096219124477976,
            null,
            0.5153676105476679,
            0.9256628824931855,
            null,
            0.5153676105476679,
            0.26186929198327374,
            null,
            0.5153676105476679,
            -0.11280782437534738,
            null,
            -0.9999999999999999,
            -0.45096219124477976,
            null,
            -0.9999999999999999,
            0.9256628824931855,
            null,
            -0.9999999999999999,
            0.26186929198327374,
            null,
            -0.9999999999999999,
            -0.11280782437534738,
            null,
            -0.45096219124477976,
            0.9256628824931855,
            null,
            -0.45096219124477976,
            0.26186929198327374,
            null,
            -0.45096219124477976,
            -0.11280782437534738,
            null,
            -0.45096219124477976,
            -0.9053298899582528,
            null,
            -0.45096219124477976,
            0,
            null,
            0.9256628824931855,
            0.26186929198327374,
            null,
            0.9256628824931855,
            -0.11280782437534738,
            null,
            0.9256628824931855,
            -0.9053298899582528,
            null,
            0.9256628824931855,
            0,
            null,
            0.26186929198327374,
            -0.11280782437534738,
            null,
            0.26186929198327374,
            -0.9053298899582528,
            null,
            0.26186929198327374,
            0,
            null,
            -0.11280782437534738,
            -0.9053298899582528,
            null,
            -0.11280782437534738,
            0,
            null,
            -0.9053298899582528,
            0,
            null
           ],
           "y": [
            -0.294638697277785,
            0.5276598322962673,
            null,
            -0.294638697277785,
            -0.12894608005945654,
            null,
            -0.294638697277785,
            -0.9014890136093469,
            null,
            -0.294638697277785,
            0.45941410275249295,
            null,
            -0.294638697277785,
            0.8630324253471788,
            null,
            -0.294638697277785,
            -0.07945149776670649,
            null,
            0.5276598322962673,
            -0.12894608005945654,
            null,
            0.5276598322962673,
            -0.9014890136093469,
            null,
            0.5276598322962673,
            0.45941410275249295,
            null,
            0.5276598322962673,
            0.8630324253471788,
            null,
            0.5276598322962673,
            -0.07945149776670649,
            null,
            -0.12894608005945654,
            -0.9014890136093469,
            null,
            -0.12894608005945654,
            0.45941410275249295,
            null,
            -0.12894608005945654,
            0.8630324253471788,
            null,
            -0.12894608005945654,
            -0.07945149776670649,
            null,
            -0.9014890136093469,
            0.45941410275249295,
            null,
            -0.9014890136093469,
            0.8630324253471788,
            null,
            -0.9014890136093469,
            -0.07945149776670649,
            null,
            -0.9014890136093469,
            -0.6444770718008515,
            null,
            -0.9014890136093469,
            0,
            null,
            0.45941410275249295,
            0.8630324253471788,
            null,
            0.45941410275249295,
            -0.07945149776670649,
            null,
            0.45941410275249295,
            -0.6444770718008515,
            null,
            0.45941410275249295,
            0,
            null,
            0.8630324253471788,
            -0.07945149776670649,
            null,
            0.8630324253471788,
            -0.6444770718008515,
            null,
            0.8630324253471788,
            0,
            null,
            -0.07945149776670649,
            -0.6444770718008515,
            null,
            -0.07945149776670649,
            0,
            null,
            -0.6444770718008515,
            0,
            null
           ]
          },
          {
           "hoverinfo": "text",
           "marker": {
            "color": "LightSkyBlue",
            "size": 10
           },
           "mode": "markers+text",
           "text": [
            "person10",
            "person7",
            "person4",
            "person3",
            "person11",
            "person8",
            "person1",
            "person9",
            "person5"
           ],
           "textposition": "top center",
           "type": "scatter",
           "x": [
            -0.2264212902970903,
            0.16425809513775008,
            0.5153676105476679,
            0.9256628824931855,
            0.26186929198327374,
            -0.11280782437534738,
            0.8283633157135916,
            -0.9053298899582528,
            -0.9999999999999999,
            -0.45096219124477976,
            0
           ],
           "y": [
            0.2538479997541428,
            -0.294638697277785,
            0.5276598322962673,
            0.45941410275249295,
            0.8630324253471788,
            -0.07945149776670649,
            -0.05495199963593563,
            -0.6444770718008515,
            -0.12894608005945654,
            -0.9014890136093469,
            0
           ]
          }
         ],
         "layout": {
          "annotations": [
           {
            "font": {
             "size": 16
            },
            "showarrow": false,
            "text": "Year: 2005",
            "x": 0.5,
            "xanchor": "center",
            "xref": "paper",
            "y": -0.1,
            "yanchor": "top",
            "yref": "paper"
           }
          ]
         },
         "name": "2005"
        }
       ],
       "layout": {
        "hovermode": "closest",
        "showlegend": false,
        "template": {
         "data": {
          "bar": [
           {
            "error_x": {
             "color": "#2a3f5f"
            },
            "error_y": {
             "color": "#2a3f5f"
            },
            "marker": {
             "line": {
              "color": "#E5ECF6",
              "width": 0.5
             },
             "pattern": {
              "fillmode": "overlay",
              "size": 10,
              "solidity": 0.2
             }
            },
            "type": "bar"
           }
          ],
          "barpolar": [
           {
            "marker": {
             "line": {
              "color": "#E5ECF6",
              "width": 0.5
             },
             "pattern": {
              "fillmode": "overlay",
              "size": 10,
              "solidity": 0.2
             }
            },
            "type": "barpolar"
           }
          ],
          "carpet": [
           {
            "aaxis": {
             "endlinecolor": "#2a3f5f",
             "gridcolor": "white",
             "linecolor": "white",
             "minorgridcolor": "white",
             "startlinecolor": "#2a3f5f"
            },
            "baxis": {
             "endlinecolor": "#2a3f5f",
             "gridcolor": "white",
             "linecolor": "white",
             "minorgridcolor": "white",
             "startlinecolor": "#2a3f5f"
            },
            "type": "carpet"
           }
          ],
          "choropleth": [
           {
            "colorbar": {
             "outlinewidth": 0,
             "ticks": ""
            },
            "type": "choropleth"
           }
          ],
          "contour": [
           {
            "colorbar": {
             "outlinewidth": 0,
             "ticks": ""
            },
            "colorscale": [
             [
              0,
              "#0d0887"
             ],
             [
              0.1111111111111111,
              "#46039f"
             ],
             [
              0.2222222222222222,
              "#7201a8"
             ],
             [
              0.3333333333333333,
              "#9c179e"
             ],
             [
              0.4444444444444444,
              "#bd3786"
             ],
             [
              0.5555555555555556,
              "#d8576b"
             ],
             [
              0.6666666666666666,
              "#ed7953"
             ],
             [
              0.7777777777777778,
              "#fb9f3a"
             ],
             [
              0.8888888888888888,
              "#fdca26"
             ],
             [
              1,
              "#f0f921"
             ]
            ],
            "type": "contour"
           }
          ],
          "contourcarpet": [
           {
            "colorbar": {
             "outlinewidth": 0,
             "ticks": ""
            },
            "type": "contourcarpet"
           }
          ],
          "heatmap": [
           {
            "colorbar": {
             "outlinewidth": 0,
             "ticks": ""
            },
            "colorscale": [
             [
              0,
              "#0d0887"
             ],
             [
              0.1111111111111111,
              "#46039f"
             ],
             [
              0.2222222222222222,
              "#7201a8"
             ],
             [
              0.3333333333333333,
              "#9c179e"
             ],
             [
              0.4444444444444444,
              "#bd3786"
             ],
             [
              0.5555555555555556,
              "#d8576b"
             ],
             [
              0.6666666666666666,
              "#ed7953"
             ],
             [
              0.7777777777777778,
              "#fb9f3a"
             ],
             [
              0.8888888888888888,
              "#fdca26"
             ],
             [
              1,
              "#f0f921"
             ]
            ],
            "type": "heatmap"
           }
          ],
          "heatmapgl": [
           {
            "colorbar": {
             "outlinewidth": 0,
             "ticks": ""
            },
            "colorscale": [
             [
              0,
              "#0d0887"
             ],
             [
              0.1111111111111111,
              "#46039f"
             ],
             [
              0.2222222222222222,
              "#7201a8"
             ],
             [
              0.3333333333333333,
              "#9c179e"
             ],
             [
              0.4444444444444444,
              "#bd3786"
             ],
             [
              0.5555555555555556,
              "#d8576b"
             ],
             [
              0.6666666666666666,
              "#ed7953"
             ],
             [
              0.7777777777777778,
              "#fb9f3a"
             ],
             [
              0.8888888888888888,
              "#fdca26"
             ],
             [
              1,
              "#f0f921"
             ]
            ],
            "type": "heatmapgl"
           }
          ],
          "histogram": [
           {
            "marker": {
             "pattern": {
              "fillmode": "overlay",
              "size": 10,
              "solidity": 0.2
             }
            },
            "type": "histogram"
           }
          ],
          "histogram2d": [
           {
            "colorbar": {
             "outlinewidth": 0,
             "ticks": ""
            },
            "colorscale": [
             [
              0,
              "#0d0887"
             ],
             [
              0.1111111111111111,
              "#46039f"
             ],
             [
              0.2222222222222222,
              "#7201a8"
             ],
             [
              0.3333333333333333,
              "#9c179e"
             ],
             [
              0.4444444444444444,
              "#bd3786"
             ],
             [
              0.5555555555555556,
              "#d8576b"
             ],
             [
              0.6666666666666666,
              "#ed7953"
             ],
             [
              0.7777777777777778,
              "#fb9f3a"
             ],
             [
              0.8888888888888888,
              "#fdca26"
             ],
             [
              1,
              "#f0f921"
             ]
            ],
            "type": "histogram2d"
           }
          ],
          "histogram2dcontour": [
           {
            "colorbar": {
             "outlinewidth": 0,
             "ticks": ""
            },
            "colorscale": [
             [
              0,
              "#0d0887"
             ],
             [
              0.1111111111111111,
              "#46039f"
             ],
             [
              0.2222222222222222,
              "#7201a8"
             ],
             [
              0.3333333333333333,
              "#9c179e"
             ],
             [
              0.4444444444444444,
              "#bd3786"
             ],
             [
              0.5555555555555556,
              "#d8576b"
             ],
             [
              0.6666666666666666,
              "#ed7953"
             ],
             [
              0.7777777777777778,
              "#fb9f3a"
             ],
             [
              0.8888888888888888,
              "#fdca26"
             ],
             [
              1,
              "#f0f921"
             ]
            ],
            "type": "histogram2dcontour"
           }
          ],
          "mesh3d": [
           {
            "colorbar": {
             "outlinewidth": 0,
             "ticks": ""
            },
            "type": "mesh3d"
           }
          ],
          "parcoords": [
           {
            "line": {
             "colorbar": {
              "outlinewidth": 0,
              "ticks": ""
             }
            },
            "type": "parcoords"
           }
          ],
          "pie": [
           {
            "automargin": true,
            "type": "pie"
           }
          ],
          "scatter": [
           {
            "fillpattern": {
             "fillmode": "overlay",
             "size": 10,
             "solidity": 0.2
            },
            "type": "scatter"
           }
          ],
          "scatter3d": [
           {
            "line": {
             "colorbar": {
              "outlinewidth": 0,
              "ticks": ""
             }
            },
            "marker": {
             "colorbar": {
              "outlinewidth": 0,
              "ticks": ""
             }
            },
            "type": "scatter3d"
           }
          ],
          "scattercarpet": [
           {
            "marker": {
             "colorbar": {
              "outlinewidth": 0,
              "ticks": ""
             }
            },
            "type": "scattercarpet"
           }
          ],
          "scattergeo": [
           {
            "marker": {
             "colorbar": {
              "outlinewidth": 0,
              "ticks": ""
             }
            },
            "type": "scattergeo"
           }
          ],
          "scattergl": [
           {
            "marker": {
             "colorbar": {
              "outlinewidth": 0,
              "ticks": ""
             }
            },
            "type": "scattergl"
           }
          ],
          "scattermapbox": [
           {
            "marker": {
             "colorbar": {
              "outlinewidth": 0,
              "ticks": ""
             }
            },
            "type": "scattermapbox"
           }
          ],
          "scatterpolar": [
           {
            "marker": {
             "colorbar": {
              "outlinewidth": 0,
              "ticks": ""
             }
            },
            "type": "scatterpolar"
           }
          ],
          "scatterpolargl": [
           {
            "marker": {
             "colorbar": {
              "outlinewidth": 0,
              "ticks": ""
             }
            },
            "type": "scatterpolargl"
           }
          ],
          "scatterternary": [
           {
            "marker": {
             "colorbar": {
              "outlinewidth": 0,
              "ticks": ""
             }
            },
            "type": "scatterternary"
           }
          ],
          "surface": [
           {
            "colorbar": {
             "outlinewidth": 0,
             "ticks": ""
            },
            "colorscale": [
             [
              0,
              "#0d0887"
             ],
             [
              0.1111111111111111,
              "#46039f"
             ],
             [
              0.2222222222222222,
              "#7201a8"
             ],
             [
              0.3333333333333333,
              "#9c179e"
             ],
             [
              0.4444444444444444,
              "#bd3786"
             ],
             [
              0.5555555555555556,
              "#d8576b"
             ],
             [
              0.6666666666666666,
              "#ed7953"
             ],
             [
              0.7777777777777778,
              "#fb9f3a"
             ],
             [
              0.8888888888888888,
              "#fdca26"
             ],
             [
              1,
              "#f0f921"
             ]
            ],
            "type": "surface"
           }
          ],
          "table": [
           {
            "cells": {
             "fill": {
              "color": "#EBF0F8"
             },
             "line": {
              "color": "white"
             }
            },
            "header": {
             "fill": {
              "color": "#C8D4E3"
             },
             "line": {
              "color": "white"
             }
            },
            "type": "table"
           }
          ]
         },
         "layout": {
          "annotationdefaults": {
           "arrowcolor": "#2a3f5f",
           "arrowhead": 0,
           "arrowwidth": 1
          },
          "autotypenumbers": "strict",
          "coloraxis": {
           "colorbar": {
            "outlinewidth": 0,
            "ticks": ""
           }
          },
          "colorscale": {
           "diverging": [
            [
             0,
             "#8e0152"
            ],
            [
             0.1,
             "#c51b7d"
            ],
            [
             0.2,
             "#de77ae"
            ],
            [
             0.3,
             "#f1b6da"
            ],
            [
             0.4,
             "#fde0ef"
            ],
            [
             0.5,
             "#f7f7f7"
            ],
            [
             0.6,
             "#e6f5d0"
            ],
            [
             0.7,
             "#b8e186"
            ],
            [
             0.8,
             "#7fbc41"
            ],
            [
             0.9,
             "#4d9221"
            ],
            [
             1,
             "#276419"
            ]
           ],
           "sequential": [
            [
             0,
             "#0d0887"
            ],
            [
             0.1111111111111111,
             "#46039f"
            ],
            [
             0.2222222222222222,
             "#7201a8"
            ],
            [
             0.3333333333333333,
             "#9c179e"
            ],
            [
             0.4444444444444444,
             "#bd3786"
            ],
            [
             0.5555555555555556,
             "#d8576b"
            ],
            [
             0.6666666666666666,
             "#ed7953"
            ],
            [
             0.7777777777777778,
             "#fb9f3a"
            ],
            [
             0.8888888888888888,
             "#fdca26"
            ],
            [
             1,
             "#f0f921"
            ]
           ],
           "sequentialminus": [
            [
             0,
             "#0d0887"
            ],
            [
             0.1111111111111111,
             "#46039f"
            ],
            [
             0.2222222222222222,
             "#7201a8"
            ],
            [
             0.3333333333333333,
             "#9c179e"
            ],
            [
             0.4444444444444444,
             "#bd3786"
            ],
            [
             0.5555555555555556,
             "#d8576b"
            ],
            [
             0.6666666666666666,
             "#ed7953"
            ],
            [
             0.7777777777777778,
             "#fb9f3a"
            ],
            [
             0.8888888888888888,
             "#fdca26"
            ],
            [
             1,
             "#f0f921"
            ]
           ]
          },
          "colorway": [
           "#636efa",
           "#EF553B",
           "#00cc96",
           "#ab63fa",
           "#FFA15A",
           "#19d3f3",
           "#FF6692",
           "#B6E880",
           "#FF97FF",
           "#FECB52"
          ],
          "font": {
           "color": "#2a3f5f"
          },
          "geo": {
           "bgcolor": "white",
           "lakecolor": "white",
           "landcolor": "#E5ECF6",
           "showlakes": true,
           "showland": true,
           "subunitcolor": "white"
          },
          "hoverlabel": {
           "align": "left"
          },
          "hovermode": "closest",
          "mapbox": {
           "style": "light"
          },
          "paper_bgcolor": "white",
          "plot_bgcolor": "#E5ECF6",
          "polar": {
           "angularaxis": {
            "gridcolor": "white",
            "linecolor": "white",
            "ticks": ""
           },
           "bgcolor": "#E5ECF6",
           "radialaxis": {
            "gridcolor": "white",
            "linecolor": "white",
            "ticks": ""
           }
          },
          "scene": {
           "xaxis": {
            "backgroundcolor": "#E5ECF6",
            "gridcolor": "white",
            "gridwidth": 2,
            "linecolor": "white",
            "showbackground": true,
            "ticks": "",
            "zerolinecolor": "white"
           },
           "yaxis": {
            "backgroundcolor": "#E5ECF6",
            "gridcolor": "white",
            "gridwidth": 2,
            "linecolor": "white",
            "showbackground": true,
            "ticks": "",
            "zerolinecolor": "white"
           },
           "zaxis": {
            "backgroundcolor": "#E5ECF6",
            "gridcolor": "white",
            "gridwidth": 2,
            "linecolor": "white",
            "showbackground": true,
            "ticks": "",
            "zerolinecolor": "white"
           }
          },
          "shapedefaults": {
           "line": {
            "color": "#2a3f5f"
           }
          },
          "ternary": {
           "aaxis": {
            "gridcolor": "white",
            "linecolor": "white",
            "ticks": ""
           },
           "baxis": {
            "gridcolor": "white",
            "linecolor": "white",
            "ticks": ""
           },
           "bgcolor": "#E5ECF6",
           "caxis": {
            "gridcolor": "white",
            "linecolor": "white",
            "ticks": ""
           }
          },
          "title": {
           "x": 0.05
          },
          "xaxis": {
           "automargin": true,
           "gridcolor": "white",
           "linecolor": "white",
           "ticks": "",
           "title": {
            "standoff": 15
           },
           "zerolinecolor": "white",
           "zerolinewidth": 2
          },
          "yaxis": {
           "automargin": true,
           "gridcolor": "white",
           "linecolor": "white",
           "ticks": "",
           "title": {
            "standoff": 15
           },
           "zerolinecolor": "white",
           "zerolinewidth": 2
          }
         }
        },
        "title": {
         "text": "Network Evolution Over the Years"
        },
        "updatemenus": [
         {
          "buttons": [
           {
            "args": [
             null,
             {
              "frame": {
               "duration": 500,
               "redraw": true
              },
              "fromcurrent": true,
              "mode": "immediate"
             }
            ],
            "label": "Play",
            "method": "animate"
           }
          ],
          "pad": {
           "r": 10,
           "t": 0
          },
          "showactive": false,
          "type": "buttons",
          "x": 1.15,
          "xanchor": "right",
          "y": 1.05,
          "yanchor": "top"
         }
        ],
        "xaxis": {
         "visible": false
        },
        "yaxis": {
         "visible": false
        }
       }
      }
     },
     "metadata": {},
     "output_type": "display_data"
    }
   ],
   "source": [
    "# Initialize graph object and dictionary for positions\n",
    "G = nx.Graph()\n",
    "pos = None\n",
    "\n",
    "# Initialize an empty graph and a position dictionary\n",
    "graphs_by_year = {}\n",
    "for year in sorted(toy['startYear'].unique()):\n",
    "    yearly_data = toy[toy['startYear'] == year]\n",
    "    G.clear() # Clear the graph for new data\n",
    "    G.add_edges_from(yearly_data[['nconst1', 'nconst2']].itertuples(index=False))\n",
    "    \n",
    "    # Position nodes in the graph using a spring layout for visual appeal\n",
    "    if not pos:\n",
    "        pos = nx.spring_layout(G, seed=42)  # Initial layout for consistency across frames\n",
    "    else:\n",
    "        new_nodes = set(G.nodes()) - set(pos.keys())\n",
    "        if new_nodes:\n",
    "            subgraph = G.subgraph(new_nodes)\n",
    "            pos_new = nx.spring_layout(subgraph, seed=42)  # Layout for new nodes\n",
    "            pos.update(pos_new)\n",
    "\n",
    "    graphs_by_year[year] = nx.Graph(G) # Store the graph for the current year\n",
    "\n",
    "# Prepare frames for animation showing the evolution of the network\n",
    "frames = []\n",
    "for year, graph in graphs_by_year.items():\n",
    "    frame = go.Frame(\n",
    "        data=[scatter_edges(graph, pos), scatter_nodes(pos, labels=graph.nodes())],\n",
    "        name=str(year),\n",
    "        layout=go.Layout(\n",
    "            annotations=[{\n",
    "                \"text\": f\"Year: {year}\",\n",
    "                \"xref\": \"paper\",\n",
    "                \"yref\": \"paper\",\n",
    "                \"showarrow\": False,\n",
    "                \"x\": 0.5,\n",
    "                \"y\": -0.1,\n",
    "                \"xanchor\": \"center\",\n",
    "                \"yanchor\": \"top\",\n",
    "                \"font\": {\"size\": 16}\n",
    "            }]\n",
    "        )\n",
    "    )\n",
    "    frames.append(frame)\n",
    "\n",
    "# Define initial data and layout for the figure\n",
    "fig = go.Figure(\n",
    "    data=[scatter_edges(graphs_by_year[min(graphs_by_year)], pos),\n",
    "          scatter_nodes(pos, labels=graphs_by_year[min(graphs_by_year)].nodes())],\n",
    "    layout=go.Layout(\n",
    "        showlegend=False,\n",
    "        hovermode='closest',\n",
    "        title=\"Network Evolution Over the Years\",\n",
    "        xaxis={\"visible\": False},  # Hide x-axis labels\n",
    "        yaxis={\"visible\": False},  # Hide y-axis labels\n",
    "        updatemenus=[{\n",
    "            \"type\": \"buttons\",\n",
    "            \"showactive\": False,\n",
    "            \"y\": 1.05,\n",
    "            \"x\": 1.15,\n",
    "            \"xanchor\": \"right\",\n",
    "            \"yanchor\": \"top\",\n",
    "            \"pad\": {\"t\": 0, \"r\": 10},\n",
    "            \"buttons\": [{\n",
    "                \"label\": 'Play',\n",
    "                \"method\": 'animate',\n",
    "                \"args\": [None, {\n",
    "                    \"frame\": {\"duration\": 500, \"redraw\": True},\n",
    "                    \"fromcurrent\": True,\n",
    "                    \"mode\": 'immediate'\n",
    "                }]\n",
    "            }]\n",
    "        }]\n",
    "    ),\n",
    "    frames=frames\n",
    ")\n",
    "# Display the interactive network visualization\n",
    "fig.show()"
   ]
  },
  {
   "cell_type": "code",
   "execution_count": 63,
   "metadata": {},
   "outputs": [],
   "source": [
    "# Save the interactive figure to HTML for easy sharing\n",
    "pio.write_html(fig, file='simulated_dynamic_network.html', auto_open=True)"
   ]
  },
  {
   "cell_type": "markdown",
   "metadata": {},
   "source": [
    "[Click here to view the dynamic network visualization we just created!](https://nhunguyen0901.github.io/SocialNetworks_CareerLongevity/simulated_dynamic_network.html) (GitHub doesn't directly render interactive JavaScript content such as Plotly graphs in its notebook viewer.)"
   ]
  },
  {
   "cell_type": "markdown",
   "metadata": {},
   "source": [
    "Now, let's turn this network data into the format that mirrors our actual data, with each person's participation in a movie listed as separate entries rather than as pairs of collaborators. This ensures the codes we are about to write are applicable to our real data."
   ]
  },
  {
   "cell_type": "code",
   "execution_count": 4,
   "metadata": {},
   "outputs": [],
   "source": [
    "# Reshape the DataFrame to have all pairs in a single column\n",
    "pairs_data = []\n",
    "for _, row in toy.iterrows():\n",
    "    pairs_data.append([row['tconst'], row['startYear'], row['nconst1']])\n",
    "    pairs_data.append([row['tconst'], row['startYear'], row['nconst2']])\n",
    "\n",
    "# Reformat the toy data into the final structure\n",
    "toy = pd.DataFrame(pairs_data, columns=['tconst', 'startYear', 'nconst'])\n",
    "\n",
    "# Remove duplicates\n",
    "toy = toy.drop_duplicates()"
   ]
  },
  {
   "cell_type": "code",
   "execution_count": 5,
   "metadata": {},
   "outputs": [
    {
     "data": {
      "text/html": [
       "<div>\n",
       "<style scoped>\n",
       "    .dataframe tbody tr th:only-of-type {\n",
       "        vertical-align: middle;\n",
       "    }\n",
       "\n",
       "    .dataframe tbody tr th {\n",
       "        vertical-align: top;\n",
       "    }\n",
       "\n",
       "    .dataframe thead th {\n",
       "        text-align: right;\n",
       "    }\n",
       "</style>\n",
       "<table border=\"1\" class=\"dataframe\">\n",
       "  <thead>\n",
       "    <tr style=\"text-align: right;\">\n",
       "      <th></th>\n",
       "      <th>tconst</th>\n",
       "      <th>startYear</th>\n",
       "      <th>nconst</th>\n",
       "    </tr>\n",
       "  </thead>\n",
       "  <tbody>\n",
       "    <tr>\n",
       "      <th>0</th>\n",
       "      <td>movie_2000_1</td>\n",
       "      <td>2000</td>\n",
       "      <td>person10</td>\n",
       "    </tr>\n",
       "    <tr>\n",
       "      <th>1</th>\n",
       "      <td>movie_2000_1</td>\n",
       "      <td>2000</td>\n",
       "      <td>person8</td>\n",
       "    </tr>\n",
       "    <tr>\n",
       "      <th>3</th>\n",
       "      <td>movie_2000_1</td>\n",
       "      <td>2000</td>\n",
       "      <td>person1</td>\n",
       "    </tr>\n",
       "    <tr>\n",
       "      <th>5</th>\n",
       "      <td>movie_2000_1</td>\n",
       "      <td>2000</td>\n",
       "      <td>person2</td>\n",
       "    </tr>\n",
       "    <tr>\n",
       "      <th>7</th>\n",
       "      <td>movie_2000_1</td>\n",
       "      <td>2000</td>\n",
       "      <td>person7</td>\n",
       "    </tr>\n",
       "    <tr>\n",
       "      <th>...</th>\n",
       "      <td>...</td>\n",
       "      <td>...</td>\n",
       "      <td>...</td>\n",
       "    </tr>\n",
       "    <tr>\n",
       "      <th>487</th>\n",
       "      <td>movie_2005_2</td>\n",
       "      <td>2005</td>\n",
       "      <td>person3</td>\n",
       "    </tr>\n",
       "    <tr>\n",
       "      <th>489</th>\n",
       "      <td>movie_2005_2</td>\n",
       "      <td>2005</td>\n",
       "      <td>person5</td>\n",
       "    </tr>\n",
       "    <tr>\n",
       "      <th>491</th>\n",
       "      <td>movie_2005_2</td>\n",
       "      <td>2005</td>\n",
       "      <td>person9</td>\n",
       "    </tr>\n",
       "    <tr>\n",
       "      <th>493</th>\n",
       "      <td>movie_2005_2</td>\n",
       "      <td>2005</td>\n",
       "      <td>person1</td>\n",
       "    </tr>\n",
       "    <tr>\n",
       "      <th>495</th>\n",
       "      <td>movie_2005_2</td>\n",
       "      <td>2005</td>\n",
       "      <td>person11</td>\n",
       "    </tr>\n",
       "  </tbody>\n",
       "</table>\n",
       "<p>83 rows × 3 columns</p>\n",
       "</div>"
      ],
      "text/plain": [
       "           tconst  startYear    nconst\n",
       "0    movie_2000_1       2000  person10\n",
       "1    movie_2000_1       2000   person8\n",
       "3    movie_2000_1       2000   person1\n",
       "5    movie_2000_1       2000   person2\n",
       "7    movie_2000_1       2000   person7\n",
       "..            ...        ...       ...\n",
       "487  movie_2005_2       2005   person3\n",
       "489  movie_2005_2       2005   person5\n",
       "491  movie_2005_2       2005   person9\n",
       "493  movie_2005_2       2005   person1\n",
       "495  movie_2005_2       2005  person11\n",
       "\n",
       "[83 rows x 3 columns]"
      ]
     },
     "execution_count": 5,
     "metadata": {},
     "output_type": "execute_result"
    }
   ],
   "source": [
    "toy"
   ]
  },
  {
   "cell_type": "markdown",
   "metadata": {},
   "source": [
    "## Testing the Toy Example with Parallel Processing\n",
    "\n",
    "1. *Importing the function to calculate brokerage*: We start by importing the `calculate_social_capital_wrapper` function, a function crafted to facilitate the computation of social capital metrics efficiently across multiple processors. This function acts as a bridge, ensuring smooth execution of our main function, `calculate_social_capital`. \n",
    "\n",
    "2. *Building an edgelist for each year in the data*: We define the `create_pairs` function to generate a detailed list of collaborative ties for each group of participants by movie and year. This creates the input for our social capital calculation.\n",
    "\n",
    "3. *Setting up parallel processing*: We initiate a multiprocessing pool, paralleling an assembly line where multiple workers (processors) handle different parts of the task concurrently. This significantly reduces computation time and enhances efficiency.\n",
    "\n",
    "4. *Running the calculations*: Using pool.starmap, we execute our brokerage calculation across the defined years, ensuring each year's network is analyzed in parallel for speed and efficiency.\n",
    "\n",
    "5. *Collecting and reviewing the Results*: After processing, we compile the brokerage scores for each year into a dictionary, `brokerage_scores_by_year`."
   ]
  },
  {
   "cell_type": "code",
   "execution_count": 6,
   "metadata": {},
   "outputs": [
    {
     "name": "stderr",
     "output_type": "stream",
     "text": [
      "/var/folders/1j/csv118695x53qkzhd9p2tgcc0000gn/T/ipykernel_1172/1350292465.py:14: DeprecationWarning: DataFrameGroupBy.apply operated on the grouping columns. This behavior is deprecated, and in a future version of pandas the grouping columns will be excluded from the operation. Either pass `include_groups=False` to exclude the groupings or explicitly select the grouping columns after groupby to silence this warning.\n",
      "  toy = toy.groupby(['tconst', 'startYear']).apply(create_pairs).reset_index().drop('level_2', axis=1)\n"
     ]
    }
   ],
   "source": [
    "# Process the toy example data to calculate brokerage scores using parallel processing\n",
    "\n",
    "# Import the wrapper function for calculating brokerage social capital for parallel processing\n",
    "from parallel_functions import calculate_social_capital_wrapper \n",
    "\n",
    "# Define a function to create pairs of collaborators from the toy data\n",
    "def create_pairs(group):\n",
    "    # For each group of data, create all possible pairs of collaborators\n",
    "    return pd.DataFrame(itertools.combinations(group['nconst'], 2), columns=['person1', 'person2'])\n",
    "\n",
    "# Main execution block\n",
    "if __name__ == \"__main__\":\n",
    "    # Group the toy data by movie and year, and apply the pair creation function\n",
    "    toy = toy.groupby(['tconst', 'startYear']).apply(create_pairs).reset_index().drop('level_2', axis=1)\n",
    "    # Organize the edges by year for the toy data\n",
    "    edges_by_year = {year: group[['person1', 'person2']].values for year, group in toy.groupby('startYear')}\n",
    "    \n",
    "    # Create a multiprocessing pool for parallel processing\n",
    "    pool = mp.Pool(mp.cpu_count())\n",
    "    # Define the years to process for the toy example\n",
    "    years = range(2003, 2007)\n",
    "\n",
    "    # Calculate brokerage scores for each year in parallel\n",
    "    results = pool.starmap(calculate_social_capital_wrapper, [(year, edges_by_year) for year in years])\n",
    "    # Close the pool and wait for all processes to finish\n",
    "    pool.close()\n",
    "    pool.join()\n",
    "    \n",
    "    # Collect the calculated brokerage scores by year\n",
    "    brokerage_scores_by_year_toy = {year: scores for year, scores in results}"
   ]
  },
  {
   "cell_type": "markdown",
   "metadata": {},
   "source": [
    "Let's review these scores to see whether our functions are performing as expected."
   ]
  },
  {
   "cell_type": "code",
   "execution_count": 7,
   "metadata": {},
   "outputs": [
    {
     "data": {
      "text/plain": [
       "{2003: {'constraint': {'person10': 0.359919675925926,\n",
       "   'person8': 0.359919675925926,\n",
       "   'person1': 0.359919675925926,\n",
       "   'person2': 0.359919675925926,\n",
       "   'person7': 0.36125000000000007,\n",
       "   'person6': 0.359919675925926,\n",
       "   'person11': 0.359919675925926,\n",
       "   'person4': 0.359919675925926,\n",
       "   'person3': 0.3639628105471727,\n",
       "   'person9': 0.3639628105471727,\n",
       "   'person5': 0.359919675925926},\n",
       "  'effective_size': {'person10': 1.4000000000000004,\n",
       "   'person8': 1.4000000000000004,\n",
       "   'person1': 1.4000000000000004,\n",
       "   'person2': 1.4000000000000004,\n",
       "   'person7': 1.0,\n",
       "   'person6': 1.4000000000000004,\n",
       "   'person11': 1.4000000000000004,\n",
       "   'person4': 1.4000000000000004,\n",
       "   'person3': 1.0,\n",
       "   'person9': 1.0,\n",
       "   'person5': 1.4000000000000004},\n",
       "  'local_clustering': {'person10': 0.9555555555555556,\n",
       "   'person8': 0.9555555555555556,\n",
       "   'person1': 0.9555555555555556,\n",
       "   'person2': 0.9555555555555556,\n",
       "   'person7': 1.0,\n",
       "   'person6': 0.9555555555555556,\n",
       "   'person11': 0.9555555555555556,\n",
       "   'person4': 0.9555555555555556,\n",
       "   'person3': 1.0,\n",
       "   'person9': 1.0,\n",
       "   'person5': 0.9555555555555556}},\n",
       " 2004: {'constraint': {'person10': 0.36794695930498394,\n",
       "   'person8': 0.35953454270597135,\n",
       "   'person3': 0.36794695930498394,\n",
       "   'person1': 0.35953454270597135,\n",
       "   'person2': 0.35953454270597135,\n",
       "   'person6': 0.35953454270597135,\n",
       "   'person11': 0.35953454270597135,\n",
       "   'person4': 0.35953454270597135,\n",
       "   'person5': 0.35953454270597135,\n",
       "   'person7': 0.36571428571428566,\n",
       "   'person9': 0.36794695930498394},\n",
       "  'effective_size': {'person10': 1.0,\n",
       "   'person8': 1.5999999999999996,\n",
       "   'person3': 1.0,\n",
       "   'person1': 1.5999999999999996,\n",
       "   'person2': 1.5999999999999996,\n",
       "   'person6': 1.5999999999999996,\n",
       "   'person11': 1.5999999999999996,\n",
       "   'person4': 1.5999999999999996,\n",
       "   'person5': 1.5999999999999996,\n",
       "   'person7': 1.0,\n",
       "   'person9': 1.0},\n",
       "  'local_clustering': {'person10': 1.0,\n",
       "   'person8': 0.9333333333333333,\n",
       "   'person3': 1.0,\n",
       "   'person1': 0.9333333333333333,\n",
       "   'person2': 0.9333333333333333,\n",
       "   'person6': 0.9333333333333333,\n",
       "   'person11': 0.9333333333333333,\n",
       "   'person4': 0.9333333333333333,\n",
       "   'person5': 0.9333333333333333,\n",
       "   'person7': 1.0,\n",
       "   'person9': 1.0}},\n",
       " 2005: {'constraint': {'person8': 0.36039506172839514,\n",
       "   'person4': 0.36039506172839514,\n",
       "   'person3': 0.36039506172839514,\n",
       "   'person5': 0.36039506172839514,\n",
       "   'person9': 0.36039506172839514,\n",
       "   'person2': 0.36039506172839514,\n",
       "   'person6': 0.3600000000000001,\n",
       "   'person11': 0.36039506172839514,\n",
       "   'person10': 0.3600000000000001,\n",
       "   'person1': 0.36039506172839514,\n",
       "   'person7': 0.36039506172839514},\n",
       "  'effective_size': {'person8': 1.1999999999999993,\n",
       "   'person4': 1.1999999999999993,\n",
       "   'person3': 1.1999999999999993,\n",
       "   'person5': 1.1999999999999993,\n",
       "   'person9': 1.1999999999999993,\n",
       "   'person2': 1.1999999999999993,\n",
       "   'person6': 1.0,\n",
       "   'person11': 1.1999999999999993,\n",
       "   'person10': 1.0,\n",
       "   'person1': 1.1999999999999993,\n",
       "   'person7': 1.1999999999999993},\n",
       "  'local_clustering': {'person8': 0.9777777777777777,\n",
       "   'person4': 0.9777777777777777,\n",
       "   'person3': 0.9777777777777777,\n",
       "   'person5': 0.9777777777777777,\n",
       "   'person9': 0.9777777777777777,\n",
       "   'person2': 0.9777777777777777,\n",
       "   'person6': 1.0,\n",
       "   'person11': 0.9777777777777777,\n",
       "   'person10': 1.0,\n",
       "   'person1': 0.9777777777777777,\n",
       "   'person7': 0.9777777777777777}},\n",
       " 2006: {'constraint': {'person10': 0.37008314436885864,\n",
       "   'person8': 0.3588852591962712,\n",
       "   'person3': 0.3588852591962712,\n",
       "   'person2': 0.3588852591962712,\n",
       "   'person5': 0.36667266803840876,\n",
       "   'person1': 0.3588852591962712,\n",
       "   'person6': 0.3695640432098766,\n",
       "   'person4': 0.3588852591962712,\n",
       "   'person9': 0.36667266803840876,\n",
       "   'person7': 0.3588852591962712,\n",
       "   'person11': 0.3615670209556159},\n",
       "  'effective_size': {'person10': 1.0,\n",
       "   'person8': 1.8000000000000007,\n",
       "   'person3': 1.8000000000000007,\n",
       "   'person2': 1.8000000000000007,\n",
       "   'person5': 1.2222222222222223,\n",
       "   'person1': 1.8000000000000007,\n",
       "   'person6': 1.0,\n",
       "   'person4': 1.8000000000000007,\n",
       "   'person9': 1.2222222222222223,\n",
       "   'person7': 1.8000000000000007,\n",
       "   'person11': 1.4444444444444446},\n",
       "  'local_clustering': {'person10': 1.0,\n",
       "   'person8': 0.9111111111111111,\n",
       "   'person3': 0.9111111111111111,\n",
       "   'person2': 0.9111111111111111,\n",
       "   'person5': 0.9722222222222222,\n",
       "   'person1': 0.9111111111111111,\n",
       "   'person6': 1.0,\n",
       "   'person4': 0.9111111111111111,\n",
       "   'person9': 0.9722222222222222,\n",
       "   'person7': 0.9111111111111111,\n",
       "   'person11': 0.9444444444444444}}}"
      ]
     },
     "execution_count": 7,
     "metadata": {},
     "output_type": "execute_result"
    }
   ],
   "source": [
    "brokerage_scores_by_year_toy"
   ]
  },
  {
   "cell_type": "markdown",
   "metadata": {},
   "source": [
    "The `brokerage_scores_by_year_toy`dictionary contains the calculated brokerage scores by year for constraint, effective size, and local clustering for 11 people in our simulated network. These scores are available for the years 2003 through 2006. \n",
    "\n",
    "To make it easier to grasp how each individual's network position and influence evolved over these years, we can visualize these metrics over time. Let's do it for Person 1, Person 3 (two key players in our simulated network), Person 9, Person 10 (the regular folks). For this, we can create line graphs for each person where each graph will show the variation of constraint, effective size, and local clustering from 2003 to 2006. Key players (Persons 1 and 3) have more intense colors compared to other individuals (Persons 7 and 10) for each metric, allowing for an easy visual distinction of their network positions and influence  over time.\n",
    "\n",
    "These visual distinctions help emphasize the differences in network positions and influence between key players and other members, showcasing how each individual's metrics evolve over time."
   ]
  },
  {
   "cell_type": "code",
   "execution_count": 21,
   "metadata": {},
   "outputs": [
    {
     "data": {
      "image/png": "[encoded data removed]",
      "text/plain": [
       "<Figure size 1500x1000 with 4 Axes>"
      ]
     },
     "metadata": {},
     "output_type": "display_data"
    }
   ],
   "source": [
    "# Define the years and metrics\n",
    "years = sorted(brokerage_scores_by_year_toy.keys())\n",
    "metrics = ['constraint', 'effective_size', 'local_clustering']\n",
    "\n",
    "# Prepare data for visualization\n",
    "person_data = {person: {metric: [] for metric in metrics} for person in ['person1', 'person2', 'person9', 'person10']}\n",
    "for year in years:\n",
    "    year_data = brokerage_scores_by_year_toy[year]\n",
    "    for person in ['person1', 'person2', 'person9', 'person10']:\n",
    "        for metric in metrics:\n",
    "            person_data[person][metric].append(year_data[metric].get(person, None))\n",
    "\n",
    "# Define color mapping for the metrics with intensity variations\n",
    "color_map = {\n",
    "    'constraint': {'intense': 'darkviolet', 'light': 'plum'},\n",
    "    'effective_size': {'intense': 'darkgreen', 'light': 'lightgreen'},\n",
    "    'local_clustering': {'intense': 'darkblue', 'light': 'lightblue'}\n",
    "}\n",
    "\n",
    "# Find the max across all metrics for y-axis normalization\n",
    "max_val = max(max(person_data[person][metric]) for person in person_data for metric in metrics)\n",
    "\n",
    "# Plotting configuration for side-by-side comparisons\n",
    "fig, axs = plt.subplots(2, 2, figsize=(15, 10))  # 2 rows, 2 columns\n",
    "intense_persons = ['person1', 'person2']\n",
    "light_persons = ['person9', 'person10']\n",
    "axis_map = {0: 'person1', 1: 'person2', 2: 'person9', 3: 'person10'}\n",
    "\n",
    "for idx, ax in enumerate(axs.flatten()):\n",
    "    person = axis_map[idx]\n",
    "    for metric in metrics:\n",
    "        if person in intense_persons:\n",
    "            color = color_map[metric]['intense']\n",
    "        else:\n",
    "            color = color_map[metric]['light']\n",
    "        \n",
    "        ax.plot(years, person_data[person][metric], label=metric, color=color, marker='o')\n",
    "    ax.set_title(f'Metrics over Time for {person}')\n",
    "    ax.set_ylim([0, max_val + 0.25])  # Start y-axis at 0 and normalize to max value across all plots\n",
    "    ax.legend()\n",
    "    ax.grid(True)\n",
    "    ax.set_xticks(years)  # Ensure x-axis labels are years without decimals\n",
    "\n",
    "plt.tight_layout()\n",
    "plt.show()\n"
   ]
  },
  {
   "cell_type": "markdown",
   "metadata": {},
   "source": [
    "In our simulation, we placed Person 1 and Person 3 in more movies than others, expecting this would make them central connectors in our network. However, the results didn't match our expectations. Both ended up having similar constraint and local clustering as Person 9 and Person 10. This similarity is not by chance but by design.\n",
    "\n",
    "That is, our setup involved just 11 people, each collaborating in many projects every year. This created a very interconnected group, where everyone was closely linked to everyone else. In such tight networks, it's difficult for individuals to act as bridges between different groups or to have unique information that others don't, even when they work on more movies than everyone else.\n",
    "\n",
    "Additionally, even though we mixed up the team members randomly, they often ended up working in similar patterns. This repetition made everyone's role in the network quite similar, blurring any special status we hoped to see in our key players.\n",
    "\n",
    "However, when we looked at 'effective size'—a count of meaningful, unique connections each person had—we started seeing clearer differences. This measure helped us identify who really had more diverse contacts within our simulation.\n",
    "\n",
    "It should be noted that this scenario of everyone being so closely connected is very rare in real life collaborations. Speaking of which, we're now ready to analyze our real-world data from actual movie collaborations!"
   ]
  },
  {
   "cell_type": "markdown",
   "metadata": {},
   "source": [
    "## Applying the functions to the real dataset\n",
    "\n",
    "Now, we shift our focus to the real-world data: the `movies_collaborations_2000_2023` dataset. It captures the collaborative ties among creative individuals in the film industry from 2000 to 2023. Leveraging the power of parallel processing, we concurrently compute brokerage social capital scores for every individual each between 2003 and 2023.\n",
    "\n",
    "The results of these computations are compiled organized into a dictionary, `brokerage_scores_by_year`. This structure pairs each year—starting from 2003—with a set of brokerage social capital metrics (\"constraint\", \"effective size\", and \"local clustering\"). Each creative worker in the network is uniquely identified by a code (`nconst`), linking them directly to their annual brokerage scores.\n",
    "\n",
    "To ensure these complex data structures are preserved accurately for future analysis, we store the dictionary as `brokerage_scores_by_year.pkl`. Utilizing Python’s pickle format is optimal for managing such intricate data structures, ensuring they are easily accessible for ongoing and future studies."
   ]
  },
  {
   "cell_type": "code",
   "execution_count": null,
   "metadata": {},
   "outputs": [],
   "source": [
    "# Apply the same process to the actual dataset of movie collaborations\n",
    "# Load the real dataset containing movie collaborations from 2000 to 2023\n",
    "movies_collaborations_2000_2023 = pd.read_csv('movies_collaborations_2000_2023.csv')\n",
    "\n",
    "from parallel_functions import calculate_social_capital_wrapper \n",
    "\n",
    "def create_pairs(group):\n",
    "    return pd.DataFrame(itertools.combinations(group['nconst'], 2), columns=['person1', 'person2'])\n",
    "\n",
    "if __name__ == \"__main__\":\n",
    "    # Group the real dataset by movie and year, and create pairs of collaborators\n",
    "    movies_collaborations_2000_2023 = movies_collaborations_2000_2023.groupby(['tconst', 'startYear']).apply(create_pairs).reset_index().drop('level_2', axis=1)\n",
    "    # Organize the edges by year \n",
    "    edges_by_year = {year: group[['person1', 'person2']].values for year, group in movies_collaborations_2000_2023.groupby('startYear')}\n",
    "\n",
    "    # Create a multiprocessing pool for parallel processing\n",
    "    pool = mp.Pool(mp.cpu_count())\n",
    "    # Define the years to process\n",
    "    years = range(2003, 2024)\n",
    "    \n",
    "    # Calculate brokerage scores for each year in parallel \n",
    "    results = pool.starmap(calculate_social_capital_wrapper, [(year, edges_by_year) for year in years])\n",
    "    # Close the pool and wait for all processes to finish\n",
    "    pool.close()\n",
    "    pool.join()\n",
    "\n",
    "    # Collect the calculated brokerage scores by year \n",
    "    brokerage_scores_by_year = {year: scores for year, scores in results}\n",
    "    \n",
    "    # Save the calculated brokerage scores as a pickle file for future use\n",
    "    with open('brokerage_scores_by_year.pkl', 'wb') as f:\n",
    "        pickle.dump(brokerage_scores_by_year, f)"
   ]
  },
  {
   "cell_type": "code",
   "execution_count": 5,
   "metadata": {},
   "outputs": [
    {
     "name": "stdout",
     "output_type": "stream",
     "text": [
      "Years in the dataset: [2003, 2004, 2005, 2006, 2007, 2008, 2009, 2010, 2011, 2012, 2013, 2014, 2015, 2016, 2017, 2018, 2019, 2020, 2021, 2022, 2023]\n"
     ]
    }
   ],
   "source": [
    "# Checking the contents and structure of the data\n",
    "\n",
    "# Print the dictionary keys, which are the years for which data is available.\n",
    "# This is to ensure the data covers the expected timeframe.\n",
    "print(\"Years in the dataset:\", list(brokerage_scores_by_year.keys()))"
   ]
  },
  {
   "cell_type": "code",
   "execution_count": 6,
   "metadata": {},
   "outputs": [
    {
     "name": "stdout",
     "output_type": "stream",
     "text": [
      "Brokerage score types available in 2003: ['constraint', 'effective_size', 'local_clustering']\n"
     ]
    }
   ],
   "source": [
    "# Check the structure of a nested dictionary by picking a sample year\n",
    "sample_year = next(iter(brokerage_scores_by_year))  # Get the first year in the dictionary\n",
    "# Print the keys of the nested dictionary for the first year in the data, which are the types of brokerage scores available.\n",
    "print(f\"Brokerage score types available in {sample_year}:\", list(brokerage_scores_by_year[sample_year].keys()))"
   ]
  },
  {
   "cell_type": "code",
   "execution_count": 7,
   "metadata": {},
   "outputs": [
    {
     "name": "stdout",
     "output_type": "stream",
     "text": [
      "Random sample of constraint scores for 2003:\n",
      "ID nm1516921: 0.925925925925926\n",
      "ID nm3823083: 1.125\n",
      "ID nm1178382: 0.5236734693877553\n",
      "ID nm0829044: 0.14983323429927986\n",
      "ID nm14765105: 1.0\n",
      "ID nm0129515: 0.571825\n",
      "ID nm9885971: 0.45350059171597645\n",
      "ID nm0959197: 0.7218651158045097\n",
      "ID nm0074404: 0.462962962962963\n",
      "ID nm0001952: 0.4169136094674556\n"
     ]
    }
   ],
   "source": [
    "# Pick one type of score to sample, for example 'constraint'\n",
    "score_type = 'constraint'\n",
    "# Sample 10 random IDs within the 'constraint' scores\n",
    "sample_ids = random.sample(list(brokerage_scores_by_year[sample_year][score_type].keys()), 10)\n",
    "# Print the constraint scores for the randomly selected people\n",
    "print(f\"Random sample of {score_type} scores for {sample_year}:\")\n",
    "for nconst in sample_ids:\n",
    "        print(f\"ID {nconst}: {brokerage_scores_by_year[sample_year][score_type][nconst]}\")"
   ]
  },
  {
   "cell_type": "markdown",
   "metadata": {},
   "source": [
    "Everything looks great! The scores we calculated are organized as a dictionary where each key corresponds to a year (e.g., 2003, 2004, etc.), and the associated value is another dictionary. This nested structure maps people's IDs (`nconst`) to their brokerage scores, which are divided into three categories: constraint, effective size, and local clustering. Within this hierarchy, each brokerage score type leads to another dictionary where the keys are the unique identifiers `nconst` for individuals in the network, and the values are the scores themselves. This arrangement allows for efficient querying of individual scores across different years and types.\n",
    "\n",
    "Think of the data as a set of filing cabinets, where each cabinet is dedicated to a specific year. Inside each cabinet, there are several folders, each labeled according to the type of brokerage scores it contains—such as \"constraint,\" \"effective size,\" or \"local clustering.\" Each folder is filled with individual files; each file pertains to a specific person, identified by a unique ID (`nconst`). The information in the file is the person's score for that specific type of brokerage during that year.\n",
    "\n",
    "If we want to find out a person’s score for a certain type of relationship metric in a given year, we would first choose the correct year's cabinet, select the folder for the score type we are interested in, and then find the file labeled with the person’s ID. In future analyses, we can use this file to get the yearly brokerage scores of the directors and their collaborators."
   ]
  }
 ],
 "metadata": {
  "kernelspec": {
   "display_name": "Python 3 (ipykernel)",
   "language": "python",
   "name": "python3"
  },
  "language_info": {
   "codemirror_mode": {
    "name": "ipython",
    "version": 3
   },
   "file_extension": ".py",
   "mimetype": "text/x-python",
   "name": "python",
   "nbconvert_exporter": "python",
   "pygments_lexer": "ipython3",
   "version": "3.12.1"
  }
 },
 "nbformat": 4,
 "nbformat_minor": 4
}
